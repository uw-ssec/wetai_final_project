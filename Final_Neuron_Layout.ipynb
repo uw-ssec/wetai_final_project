{
 "cells": [
  {
   "cell_type": "markdown",
   "id": "b7c13a02",
   "metadata": {},
   "source": [
    "<font size=7>Neuron Layout for Final Dataset"
   ]
  },
  {
   "cell_type": "markdown",
   "id": "365bd702",
   "metadata": {},
   "source": [
    "We created the tool below so that you can analyze individual neurons from any group/dataset. The tool provides a 2D layout of the organoids, electrodes, neurons, and stimulation locations. It also provides the spike raster for the corresponding dataset. Most importantly, on the 2D layout and the spike raster, the neuron of interest that you selected is displayed in <font color=\"blue\"><b>blue."
   ]
  },
  {
   "cell_type": "markdown",
   "id": "b7c43469",
   "metadata": {},
   "source": [
    "Understanding which neurons come from where is absolutely critical to your analysis of this dataset. Notice that there are two organoids on the MEA, but that only one of them is stimulated. We did this so that you can compare an organoid that was stimulated to another one, tha wasn't stimulated. The very first thing you should do is seperate your spike raster into those neurons that are part of the stimulated and nonstimulated organoids (and also remove those spurious neurons that are just noise). If you don't do this, the data you are analyzing won't tell you anything interesting about the stim patterns."
   ]
  },
  {
   "cell_type": "markdown",
   "id": "0b3bed30",
   "metadata": {},
   "source": [
    "Inside the source code corresponding to this notebook, `Final_Neuron_Layout_Source.ipynb`, I explain how you can adapt the code to create your own organoid specific spike rasters. You have to read through this code. Briefly, the key take home is that you can identify the x/y location of a neuron that you are looking at on the spikeraster by using the object, `sd.neuron_data[0]` where,`sd` equals one of the datasets, `data_before, data_stim, data_after`. `sd.neuron_data[0][{neuron_number}][\"position\"]` provides the x/y location of a neuron, where the *\"neuron number\"* corresponds to the neuron's row number on the spike raster."
   ]
  },
  {
   "cell_type": "markdown",
   "id": "4b8176f4",
   "metadata": {},
   "source": [
    "It is also important to compare the neurons that are located directly next to the stimulation sites to those farther away. Do you notice any difference? You should consider the firing patterns of a specific neurons pre and post stimulation. Please note, the **neuron numbers do not remain the same** between the before and after datasets. Thus, in order to do this, you must figure out which neuron numbers correspond to the same neuron between recordings."
   ]
  },
  {
   "cell_type": "code",
   "execution_count": null,
   "id": "3ffc020e",
   "metadata": {},
   "outputs": [],
   "source": [
    "%run \"Final_Neuron_Layout_Source.ipynb\""
   ]
  },
  {
   "cell_type": "code",
   "execution_count": null,
   "id": "2d0df93e",
   "metadata": {},
   "outputs": [],
   "source": [
    "start"
   ]
  },
  {
   "cell_type": "code",
   "execution_count": null,
   "id": "a305a6ec",
   "metadata": {},
   "outputs": [],
   "source": []
  }
 ],
 "metadata": {
  "hide_input": false,
  "kernelspec": {
   "display_name": "Python 3 (ipykernel)",
   "language": "python",
   "name": "python3"
  },
  "language_info": {
   "codemirror_mode": {
    "name": "ipython",
    "version": 3
   },
   "file_extension": ".py",
   "mimetype": "text/x-python",
   "name": "python",
   "nbconvert_exporter": "python",
   "pygments_lexer": "ipython3",
   "version": "3.10.10"
  },
  "toc": {
   "base_numbering": 1,
   "nav_menu": {},
   "number_sections": true,
   "sideBar": true,
   "skip_h1_title": false,
   "title_cell": "Table of Contents",
   "title_sidebar": "Contents",
   "toc_cell": false,
   "toc_position": {},
   "toc_section_display": true,
   "toc_window_display": false
  },
  "varInspector": {
   "cols": {
    "lenName": 16,
    "lenType": 16,
    "lenVar": 40
   },
   "kernels_config": {
    "python": {
     "delete_cmd_postfix": "",
     "delete_cmd_prefix": "del ",
     "library": "var_list.py",
     "varRefreshCmd": "print(var_dic_list())"
    },
    "r": {
     "delete_cmd_postfix": ") ",
     "delete_cmd_prefix": "rm(",
     "library": "var_list.r",
     "varRefreshCmd": "cat(var_dic_list()) "
    }
   },
   "types_to_exclude": [
    "module",
    "function",
    "builtin_function_or_method",
    "instance",
    "_Feature"
   ],
   "window_display": false
  },
  "widgets": {
   "application/vnd.jupyter.widget-state+json": {
    "state": {
     "00dbc5c401c84a3da2bcc70a091a1c8c": {
      "model_module": "@jupyter-widgets/controls",
      "model_module_version": "2.0.0",
      "model_name": "HTMLStyleModel",
      "state": {
       "description_width": "",
       "font_size": null,
       "text_color": null
      }
     },
     "01998f43444046b0baedc5fba3d31836": {
      "model_module": "@jupyter-widgets/controls",
      "model_module_version": "2.0.0",
      "model_name": "SliderStyleModel",
      "state": {
       "description_width": ""
      }
     },
     "054b85731e1146a4943046580b73f21d": {
      "model_module": "@jupyter-widgets/base",
      "model_module_version": "2.0.0",
      "model_name": "LayoutModel",
      "state": {}
     },
     "057682d7015a429f87b8a72a93d03ac8": {
      "model_module": "@jupyter-widgets/controls",
      "model_module_version": "2.0.0",
      "model_name": "DescriptionStyleModel",
      "state": {
       "description_width": ""
      }
     },
     "06813b23e8044435a942b399b1d0f97d": {
      "model_module": "@jupyter-widgets/controls",
      "model_module_version": "2.0.0",
      "model_name": "ButtonModel",
      "state": {
       "description": "Submit",
       "layout": "IPY_MODEL_8e5a4909b3174e6dbc4a3f4b1394cc13",
       "style": "IPY_MODEL_48318f48f3654c97aaa0d8bdc162ad8b",
       "tooltip": null
      }
     },
     "06b59151469141868359e9b1d3eff35c": {
      "model_module": "@jupyter-widgets/controls",
      "model_module_version": "2.0.0",
      "model_name": "DescriptionStyleModel",
      "state": {
       "description_width": ""
      }
     },
     "06c4bd252df84479b5962649a839040f": {
      "model_module": "@jupyter-widgets/base",
      "model_module_version": "2.0.0",
      "model_name": "LayoutModel",
      "state": {}
     },
     "0b87908bd3744da6ac49ca45218b63ef": {
      "model_module": "@jupyter-widgets/base",
      "model_module_version": "2.0.0",
      "model_name": "LayoutModel",
      "state": {}
     },
     "0dd2deaf367e4a2c8a33e03ad62ddacd": {
      "model_module": "@jupyter-widgets/controls",
      "model_module_version": "2.0.0",
      "model_name": "HTMLStyleModel",
      "state": {
       "description_width": "",
       "font_size": null,
       "text_color": null
      }
     },
     "0f43155df591412e93a560c272dee6d3": {
      "model_module": "@jupyter-widgets/base",
      "model_module_version": "2.0.0",
      "model_name": "LayoutModel",
      "state": {}
     },
     "102ebfbab5444174a0440530de5f806e": {
      "model_module": "@jupyter-widgets/base",
      "model_module_version": "2.0.0",
      "model_name": "LayoutModel",
      "state": {}
     },
     "133e51596ca54f38b1190d3c91ecf493": {
      "model_module": "@jupyter-widgets/controls",
      "model_module_version": "2.0.0",
      "model_name": "DescriptionStyleModel",
      "state": {
       "description_width": ""
      }
     },
     "168731feaa8f4eacbd570af0b1266f8c": {
      "model_module": "@jupyter-widgets/controls",
      "model_module_version": "2.0.0",
      "model_name": "SliderStyleModel",
      "state": {
       "description_width": ""
      }
     },
     "17a9448fe1f04e31a8ebd8628a75309d": {
      "model_module": "@jupyter-widgets/controls",
      "model_module_version": "2.0.0",
      "model_name": "HTMLModel",
      "state": {
       "layout": "IPY_MODEL_3470bbf7dd024e8ab49bb5cc193ddb2b",
       "style": "IPY_MODEL_42c5345859f24e4ba939b555abd0c61a",
       "value": "<h4>Displaying Neuron 0 for Group 2, data_after</h4>"
      }
     },
     "17c1d6c245754873bf198ef8a192b256": {
      "model_module": "@jupyter-widgets/base",
      "model_module_version": "2.0.0",
      "model_name": "LayoutModel",
      "state": {}
     },
     "18f655a9966c47019606714badb34720": {
      "model_module": "@jupyter-widgets/controls",
      "model_module_version": "2.0.0",
      "model_name": "DropdownModel",
      "state": {
       "_options_labels": [
        "data_before",
        "data_stim",
        "data_after"
       ],
       "description": "File:",
       "index": 2,
       "layout": "IPY_MODEL_3540e3a2baee494fac94ab5bb10deb33",
       "style": "IPY_MODEL_6ae809bc5d6d4028939547cf9ac4555e"
      }
     },
     "1995aa9661b74e9983fd3579bc894b5c": {
      "model_module": "@jupyter-widgets/controls",
      "model_module_version": "2.0.0",
      "model_name": "ButtonModel",
      "state": {
       "description": "Submit",
       "layout": "IPY_MODEL_102ebfbab5444174a0440530de5f806e",
       "style": "IPY_MODEL_75266293fa9649e79aaa9b3881419634",
       "tooltip": null
      }
     },
     "1a41773f8ff247cda6b9818366d4f6d4": {
      "model_module": "@jupyter-widgets/controls",
      "model_module_version": "2.0.0",
      "model_name": "DropdownModel",
      "state": {
       "_options_labels": [
        "2",
        "3",
        "4",
        "5",
        "6"
       ],
       "description": "Group:",
       "index": 3,
       "layout": "IPY_MODEL_bda01659f37d4b2aa89d9b03dae6e29d",
       "style": "IPY_MODEL_af56c151f3e54eb7ac4ccc59bda5106c"
      }
     },
     "1a4605f891db48869a27a316ccc35389": {
      "model_module": "@jupyter-widgets/base",
      "model_module_version": "2.0.0",
      "model_name": "LayoutModel",
      "state": {}
     },
     "1b28a8c8b7434d6bb97d806332f0afbe": {
      "model_module": "@jupyter-widgets/controls",
      "model_module_version": "2.0.0",
      "model_name": "DropdownModel",
      "state": {
       "_options_labels": [
        "2",
        "3",
        "4",
        "5",
        "6"
       ],
       "description": "Group:",
       "index": 2,
       "layout": "IPY_MODEL_53beb6b9525044b78d855f920af40aa4",
       "style": "IPY_MODEL_51fde06e7d91448f88ea235e96e93543"
      }
     },
     "1b3ad5c02ab04a60917dc3524e773bcf": {
      "model_module": "@jupyter-widgets/base",
      "model_module_version": "2.0.0",
      "model_name": "LayoutModel",
      "state": {}
     },
     "1bd93e7d2d9445dabbded6c87d12c576": {
      "model_module": "@jupyter-widgets/controls",
      "model_module_version": "2.0.0",
      "model_name": "HTMLStyleModel",
      "state": {
       "description_width": "",
       "font_size": null,
       "text_color": null
      }
     },
     "1bdeca1d66ec4160bd370684a0c78fdb": {
      "model_module": "@jupyter-widgets/controls",
      "model_module_version": "2.0.0",
      "model_name": "DescriptionStyleModel",
      "state": {
       "description_width": ""
      }
     },
     "1dbbcc3d67084f6b8f1a6cf2fc5dd257": {
      "model_module": "@jupyter-widgets/controls",
      "model_module_version": "2.0.0",
      "model_name": "DropdownModel",
      "state": {
       "_options_labels": [
        "data_before",
        "data_stim",
        "data_after"
       ],
       "description": "File:",
       "index": 2,
       "layout": "IPY_MODEL_73c02297c2bd47328127035c070af904",
       "style": "IPY_MODEL_06b59151469141868359e9b1d3eff35c"
      }
     },
     "1f6cf206f62c427b86a02ba8118b10ed": {
      "model_module": "@jupyter-widgets/base",
      "model_module_version": "2.0.0",
      "model_name": "LayoutModel",
      "state": {}
     },
     "202ebfeb7f18490a936d2f9952e9583a": {
      "model_module": "@jupyter-widgets/controls",
      "model_module_version": "2.0.0",
      "model_name": "ButtonModel",
      "state": {
       "description": "Submit",
       "layout": "IPY_MODEL_ac9385f2d40f49dca182e05bc56e004a",
       "style": "IPY_MODEL_c34179c18aee4a24816b28efc82cd95c",
       "tooltip": null
      }
     },
     "21338e077de146338a350010be411ed8": {
      "model_module": "@jupyter-widgets/controls",
      "model_module_version": "2.0.0",
      "model_name": "HTMLModel",
      "state": {
       "layout": "IPY_MODEL_6e165b9bacd0483eab08f1d212a283e7",
       "style": "IPY_MODEL_f3f195af76f84e608854762057563f51",
       "value": "<h4>Displaying Neuron 9 for Group 3- data_after</h4>"
      }
     },
     "2271fb0382284f31a1d4d507445237d8": {
      "model_module": "@jupyter-widgets/base",
      "model_module_version": "2.0.0",
      "model_name": "LayoutModel",
      "state": {}
     },
     "23a8cb9efec54445b436c88e5d0c9cdf": {
      "model_module": "@jupyter-widgets/base",
      "model_module_version": "2.0.0",
      "model_name": "LayoutModel",
      "state": {}
     },
     "26388a34fb0f490791784109aa18ec23": {
      "model_module": "@jupyter-widgets/controls",
      "model_module_version": "2.0.0",
      "model_name": "HTMLModel",
      "state": {
       "layout": "IPY_MODEL_a0c04151c5604f03927eb8548d03a001",
       "style": "IPY_MODEL_ae2e408b6dce45408475c9323d240dd7",
       "value": "<h4>Displaying Neuron 5 for Group 2- data_after</h4>"
      }
     },
     "269195995f184d9a8ffeb0b50909f631": {
      "model_module": "@jupyter-widgets/base",
      "model_module_version": "2.0.0",
      "model_name": "LayoutModel",
      "state": {}
     },
     "274c68fecfb84a88ac889edd0cdebc93": {
      "model_module": "@jupyter-widgets/base",
      "model_module_version": "2.0.0",
      "model_name": "LayoutModel",
      "state": {}
     },
     "2d6bb7a83b0345a1a0da26ad711f7535": {
      "model_module": "@jupyter-widgets/base",
      "model_module_version": "2.0.0",
      "model_name": "LayoutModel",
      "state": {}
     },
     "2ec12054fcb14ecd8b521b1123611f97": {
      "model_module": "@jupyter-widgets/base",
      "model_module_version": "2.0.0",
      "model_name": "LayoutModel",
      "state": {}
     },
     "2f86dad182164205b1708e3e49c628c8": {
      "model_module": "@jupyter-widgets/base",
      "model_module_version": "2.0.0",
      "model_name": "LayoutModel",
      "state": {}
     },
     "312d5ae37d18451b9f431208bf00a23b": {
      "model_module": "@jupyter-widgets/base",
      "model_module_version": "2.0.0",
      "model_name": "LayoutModel",
      "state": {}
     },
     "31ffb3cead8c4de2a457ed766dc5e734": {
      "model_module": "@jupyter-widgets/controls",
      "model_module_version": "2.0.0",
      "model_name": "HTMLStyleModel",
      "state": {
       "description_width": "",
       "font_size": null,
       "text_color": null
      }
     },
     "32469713136a4419a1f4286fc34ff421": {
      "model_module": "@jupyter-widgets/controls",
      "model_module_version": "2.0.0",
      "model_name": "SliderStyleModel",
      "state": {
       "description_width": ""
      }
     },
     "332d668d64144d50b3024b2de38e4de8": {
      "model_module": "@jupyter-widgets/controls",
      "model_module_version": "2.0.0",
      "model_name": "ButtonStyleModel",
      "state": {
       "font_family": null,
       "font_size": null,
       "font_style": null,
       "font_variant": null,
       "font_weight": null,
       "text_color": null,
       "text_decoration": null
      }
     },
     "3470bbf7dd024e8ab49bb5cc193ddb2b": {
      "model_module": "@jupyter-widgets/base",
      "model_module_version": "2.0.0",
      "model_name": "LayoutModel",
      "state": {}
     },
     "3540e3a2baee494fac94ab5bb10deb33": {
      "model_module": "@jupyter-widgets/base",
      "model_module_version": "2.0.0",
      "model_name": "LayoutModel",
      "state": {}
     },
     "35fc943fdf6c4490858c56580e28fee6": {
      "model_module": "@jupyter-widgets/controls",
      "model_module_version": "2.0.0",
      "model_name": "HTMLModel",
      "state": {
       "layout": "IPY_MODEL_bee9b9eb1bc0434e88c7b0dff54ea3a2",
       "style": "IPY_MODEL_8e2d2f0eca0442f3bda350381b0c52cc",
       "value": "<h4>Select the <i>neuron</i> you are interested in.</h4>"
      }
     },
     "367d08c08a27417e933a135f82b5438a": {
      "model_module": "@jupyter-widgets/controls",
      "model_module_version": "2.0.0",
      "model_name": "DropdownModel",
      "state": {
       "_options_labels": [
        "data_before",
        "data_stim",
        "data_after"
       ],
       "description": "File:",
       "index": 2,
       "layout": "IPY_MODEL_06c4bd252df84479b5962649a839040f",
       "style": "IPY_MODEL_b69726b7efc24851bf7e382fbeacd87e"
      }
     },
     "3682f7932b7b4ac4bc99b930f65ba278": {
      "model_module": "@jupyter-widgets/controls",
      "model_module_version": "2.0.0",
      "model_name": "VBoxModel",
      "state": {
       "children": [
        "IPY_MODEL_83ddfb7eaba143f483e3124e9ec0a566",
        "IPY_MODEL_96b249ebd2de438891d9bfb8296f4075",
        "IPY_MODEL_18f655a9966c47019606714badb34720",
        "IPY_MODEL_06813b23e8044435a942b399b1d0f97d"
       ],
       "layout": "IPY_MODEL_658cd985f1034757a229cc065f5456ec"
      }
     },
     "36fa849378bd46ec8e32f6e8ea94320c": {
      "model_module": "@jupyter-widgets/controls",
      "model_module_version": "2.0.0",
      "model_name": "ButtonModel",
      "state": {
       "description": "Submit",
       "layout": "IPY_MODEL_9ee16afd039b444a8dbeb8ff62d2580b",
       "style": "IPY_MODEL_c962f71b64a748d69361bab66627d68d",
       "tooltip": null
      }
     },
     "38f33a1e872f42309782ff3896d20cfa": {
      "model_module": "@jupyter-widgets/base",
      "model_module_version": "2.0.0",
      "model_name": "LayoutModel",
      "state": {}
     },
     "39adbe69988c4ceda816b0ae745c0e11": {
      "model_module": "@jupyter-widgets/base",
      "model_module_version": "2.0.0",
      "model_name": "LayoutModel",
      "state": {}
     },
     "3b15030214ba4dfc8aa4280f5498f8c8": {
      "model_module": "@jupyter-widgets/controls",
      "model_module_version": "2.0.0",
      "model_name": "IntSliderModel",
      "state": {
       "behavior": "drag-tap",
       "description": "Neuron:",
       "layout": "IPY_MODEL_f4697a5c32db41b989bb40619bd12a41",
       "max": 199,
       "style": "IPY_MODEL_a46224b66c3944d7b25ac3e7d64a76e8",
       "value": 161
      }
     },
     "3c025fc000854f978a748d30a44cbab6": {
      "model_module": "@jupyter-widgets/controls",
      "model_module_version": "2.0.0",
      "model_name": "ButtonStyleModel",
      "state": {
       "font_family": null,
       "font_size": null,
       "font_style": null,
       "font_variant": null,
       "font_weight": null,
       "text_color": null,
       "text_decoration": null
      }
     },
     "41033110034e4cdea5dcd89ea510af4f": {
      "model_module": "@jupyter-widgets/controls",
      "model_module_version": "2.0.0",
      "model_name": "VBoxModel",
      "state": {
       "children": [
        "IPY_MODEL_35fc943fdf6c4490858c56580e28fee6",
        "IPY_MODEL_7cb10529c3de4b478722a91fb3a79f37",
        "IPY_MODEL_80f23249e77c4d8d8d445afdc3005202"
       ],
       "layout": "IPY_MODEL_054b85731e1146a4943046580b73f21d"
      }
     },
     "41f23ad237964d219b5654a60f6581a0": {
      "model_module": "@jupyter-widgets/base",
      "model_module_version": "2.0.0",
      "model_name": "LayoutModel",
      "state": {}
     },
     "42a558a397b74887b8acaf33bbc0098a": {
      "model_module": "@jupyter-widgets/controls",
      "model_module_version": "2.0.0",
      "model_name": "VBoxModel",
      "state": {
       "children": [
        "IPY_MODEL_7d4a00a8fc304a2aaeb0999013ec556c",
        "IPY_MODEL_bc445aa620a64da8af94ab46f7f7f54e",
        "IPY_MODEL_ba6fcbaee62a4d39a93a77da451089ca"
       ],
       "layout": "IPY_MODEL_b7da0a0574bb46449c995395de5e5b61"
      }
     },
     "42c5345859f24e4ba939b555abd0c61a": {
      "model_module": "@jupyter-widgets/controls",
      "model_module_version": "2.0.0",
      "model_name": "HTMLStyleModel",
      "state": {
       "description_width": "",
       "font_size": null,
       "text_color": null
      }
     },
     "44456b0c6d274ef78fbcce368b71b13e": {
      "model_module": "@jupyter-widgets/base",
      "model_module_version": "2.0.0",
      "model_name": "LayoutModel",
      "state": {}
     },
     "4452c1ef01c1419e8f146d73d39afce1": {
      "model_module": "@jupyter-widgets/controls",
      "model_module_version": "2.0.0",
      "model_name": "ButtonStyleModel",
      "state": {
       "font_family": null,
       "font_size": null,
       "font_style": null,
       "font_variant": null,
       "font_weight": null,
       "text_color": null,
       "text_decoration": null
      }
     },
     "44bb24d98513428d8463deddb88be6b4": {
      "model_module": "@jupyter-widgets/base",
      "model_module_version": "2.0.0",
      "model_name": "LayoutModel",
      "state": {}
     },
     "48318f48f3654c97aaa0d8bdc162ad8b": {
      "model_module": "@jupyter-widgets/controls",
      "model_module_version": "2.0.0",
      "model_name": "ButtonStyleModel",
      "state": {
       "font_family": null,
       "font_size": null,
       "font_style": null,
       "font_variant": null,
       "font_weight": null,
       "text_color": null,
       "text_decoration": null
      }
     },
     "48ccf93b4f0449d3aeb8e1acfb9f2f38": {
      "model_module": "@jupyter-widgets/controls",
      "model_module_version": "2.0.0",
      "model_name": "ButtonStyleModel",
      "state": {
       "font_family": null,
       "font_size": null,
       "font_style": null,
       "font_variant": null,
       "font_weight": null,
       "text_color": null,
       "text_decoration": null
      }
     },
     "4de6d2dca87342c2bc72bd90c2f6c904": {
      "model_module": "@jupyter-widgets/controls",
      "model_module_version": "2.0.0",
      "model_name": "HTMLStyleModel",
      "state": {
       "description_width": "",
       "font_size": null,
       "text_color": null
      }
     },
     "50abe0ed80b0414784b8b07fa53ae055": {
      "model_module": "@jupyter-widgets/base",
      "model_module_version": "2.0.0",
      "model_name": "LayoutModel",
      "state": {}
     },
     "510dcb7c670748ac892f81b2272dec56": {
      "model_module": "@jupyter-widgets/controls",
      "model_module_version": "2.0.0",
      "model_name": "VBoxModel",
      "state": {
       "children": [
        "IPY_MODEL_52a1ff49092c478e811b2fd00ef85afe",
        "IPY_MODEL_ea669c0643b64883a1ba4c2343463b28",
        "IPY_MODEL_1dbbcc3d67084f6b8f1a6cf2fc5dd257",
        "IPY_MODEL_1995aa9661b74e9983fd3579bc894b5c"
       ],
       "layout": "IPY_MODEL_f6eee1b9954049469160e1b2621d5f8e"
      }
     },
     "51fde06e7d91448f88ea235e96e93543": {
      "model_module": "@jupyter-widgets/controls",
      "model_module_version": "2.0.0",
      "model_name": "DescriptionStyleModel",
      "state": {
       "description_width": ""
      }
     },
     "5235987a2cdd480c9208df40151db5ac": {
      "model_module": "@jupyter-widgets/controls",
      "model_module_version": "2.0.0",
      "model_name": "ButtonModel",
      "state": {
       "description": "Submit",
       "layout": "IPY_MODEL_1a4605f891db48869a27a316ccc35389",
       "style": "IPY_MODEL_cbf2036c1ed34c82a19bd0a433eb5c6c",
       "tooltip": null
      }
     },
     "52a1ff49092c478e811b2fd00ef85afe": {
      "model_module": "@jupyter-widgets/controls",
      "model_module_version": "2.0.0",
      "model_name": "HTMLModel",
      "state": {
       "layout": "IPY_MODEL_eff45e50b2dd4445a3d9137800eede63",
       "style": "IPY_MODEL_dfa0d88ea5ed4ccfab489b84e5ec787e",
       "value": "<h4>Select the <i>group</i> and <i>file</i> that you would like to analyze.</h4>"
      }
     },
     "53beb6b9525044b78d855f920af40aa4": {
      "model_module": "@jupyter-widgets/base",
      "model_module_version": "2.0.0",
      "model_name": "LayoutModel",
      "state": {}
     },
     "570c0271b8b34e1982bd44239071cd0f": {
      "model_module": "@jupyter-widgets/base",
      "model_module_version": "2.0.0",
      "model_name": "LayoutModel",
      "state": {}
     },
     "574b1660bad54bb8b6683164c19bb02a": {
      "model_module": "@jupyter-widgets/controls",
      "model_module_version": "2.0.0",
      "model_name": "ButtonModel",
      "state": {
       "description": "Reset",
       "layout": "IPY_MODEL_312d5ae37d18451b9f431208bf00a23b",
       "style": "IPY_MODEL_7015b94a5b6f4ecd8b9739ed8ff2d50d",
       "tooltip": null
      }
     },
     "591231181dec4e74bf57e18a3cab52b0": {
      "model_module": "@jupyter-widgets/controls",
      "model_module_version": "2.0.0",
      "model_name": "ButtonModel",
      "state": {
       "description": "Reset",
       "layout": "IPY_MODEL_87f3d2a9505d48dc897b042dbd6097f2",
       "style": "IPY_MODEL_48ccf93b4f0449d3aeb8e1acfb9f2f38",
       "tooltip": null
      }
     },
     "5bce909a223a4fe890ef2c72e415c939": {
      "model_module": "@jupyter-widgets/base",
      "model_module_version": "2.0.0",
      "model_name": "LayoutModel",
      "state": {}
     },
     "60a706e380a140d29e705fb2c3388919": {
      "model_module": "@jupyter-widgets/base",
      "model_module_version": "2.0.0",
      "model_name": "LayoutModel",
      "state": {}
     },
     "60edf58824584140a759ca6bae86aabd": {
      "model_module": "@jupyter-widgets/controls",
      "model_module_version": "2.0.0",
      "model_name": "HTMLModel",
      "state": {
       "layout": "IPY_MODEL_cd979a6211074c428b6c46fbe699336c",
       "style": "IPY_MODEL_927295edb9354b869b2fed2adff3846f",
       "value": "<h4>Displaying Neuron 22 for Group 3- data_before</h4>"
      }
     },
     "61b0a062ac454d8ab51488ac1b8a07ce": {
      "model_module": "@jupyter-widgets/controls",
      "model_module_version": "2.0.0",
      "model_name": "DescriptionStyleModel",
      "state": {
       "description_width": ""
      }
     },
     "658cd985f1034757a229cc065f5456ec": {
      "model_module": "@jupyter-widgets/base",
      "model_module_version": "2.0.0",
      "model_name": "LayoutModel",
      "state": {}
     },
     "66a053d65c86465f8d5936ad0e2a3a5c": {
      "model_module": "@jupyter-widgets/base",
      "model_module_version": "2.0.0",
      "model_name": "LayoutModel",
      "state": {}
     },
     "683ae2bae63b4b58b857b5b8176397c7": {
      "model_module": "@jupyter-widgets/controls",
      "model_module_version": "2.0.0",
      "model_name": "VBoxModel",
      "state": {
       "children": [
        "IPY_MODEL_7db49be2a4d848d6a9846ae7164871df",
        "IPY_MODEL_a49c75eb00d74656816156cc472554d2",
        "IPY_MODEL_e6a0d7f9520d4de8b29f6f36806c8f76"
       ],
       "layout": "IPY_MODEL_713f4693a58a4496be12b4fb0b0f1827"
      }
     },
     "6a4b3d50b2d14cd5bbd97e2a102a68bd": {
      "model_module": "@jupyter-widgets/base",
      "model_module_version": "2.0.0",
      "model_name": "LayoutModel",
      "state": {}
     },
     "6ae809bc5d6d4028939547cf9ac4555e": {
      "model_module": "@jupyter-widgets/controls",
      "model_module_version": "2.0.0",
      "model_name": "DescriptionStyleModel",
      "state": {
       "description_width": ""
      }
     },
     "6af7b00d346445c6a98fdab199d57b49": {
      "model_module": "@jupyter-widgets/base",
      "model_module_version": "2.0.0",
      "model_name": "LayoutModel",
      "state": {}
     },
     "6b3d1188529e4e109eac341d5fa5c965": {
      "model_module": "@jupyter-widgets/controls",
      "model_module_version": "2.0.0",
      "model_name": "HTMLStyleModel",
      "state": {
       "description_width": "",
       "font_size": null,
       "text_color": null
      }
     },
     "6e165b9bacd0483eab08f1d212a283e7": {
      "model_module": "@jupyter-widgets/base",
      "model_module_version": "2.0.0",
      "model_name": "LayoutModel",
      "state": {}
     },
     "6e3d4abf00ea49acb37a444d8ee11b3a": {
      "model_module": "@jupyter-widgets/base",
      "model_module_version": "2.0.0",
      "model_name": "LayoutModel",
      "state": {}
     },
     "6f91bff7cb854d369c727e0a283cde8e": {
      "model_module": "@jupyter-widgets/base",
      "model_module_version": "2.0.0",
      "model_name": "LayoutModel",
      "state": {}
     },
     "7015b94a5b6f4ecd8b9739ed8ff2d50d": {
      "model_module": "@jupyter-widgets/controls",
      "model_module_version": "2.0.0",
      "model_name": "ButtonStyleModel",
      "state": {
       "font_family": null,
       "font_size": null,
       "font_style": null,
       "font_variant": null,
       "font_weight": null,
       "text_color": null,
       "text_decoration": null
      }
     },
     "710d9f6d3ae54d9c9dc5133ef4c29d12": {
      "model_module": "@jupyter-widgets/controls",
      "model_module_version": "2.0.0",
      "model_name": "HTMLModel",
      "state": {
       "layout": "IPY_MODEL_ffb63ab5ac3a459f80c770e00fb6247a",
       "style": "IPY_MODEL_8b7ceb6fdf344207b6d08e81a04e321f",
       "value": "<h4>Displaying Neuron 22 for Group 3- data_after</h4>"
      }
     },
     "713f4693a58a4496be12b4fb0b0f1827": {
      "model_module": "@jupyter-widgets/base",
      "model_module_version": "2.0.0",
      "model_name": "LayoutModel",
      "state": {}
     },
     "73c02297c2bd47328127035c070af904": {
      "model_module": "@jupyter-widgets/base",
      "model_module_version": "2.0.0",
      "model_name": "LayoutModel",
      "state": {}
     },
     "75266293fa9649e79aaa9b3881419634": {
      "model_module": "@jupyter-widgets/controls",
      "model_module_version": "2.0.0",
      "model_name": "ButtonStyleModel",
      "state": {
       "font_family": null,
       "font_size": null,
       "font_style": null,
       "font_variant": null,
       "font_weight": null,
       "text_color": null,
       "text_decoration": null
      }
     },
     "75d069d58e5147b993d619f942624b04": {
      "model_module": "@jupyter-widgets/controls",
      "model_module_version": "2.0.0",
      "model_name": "ButtonModel",
      "state": {
       "description": "Submit",
       "layout": "IPY_MODEL_269195995f184d9a8ffeb0b50909f631",
       "style": "IPY_MODEL_3c025fc000854f978a748d30a44cbab6",
       "tooltip": null
      }
     },
     "77768cd4dbca44f5931fa2da73863b2e": {
      "model_module": "@jupyter-widgets/controls",
      "model_module_version": "2.0.0",
      "model_name": "HTMLStyleModel",
      "state": {
       "description_width": "",
       "font_size": null,
       "text_color": null
      }
     },
     "792c6b2608ee498897ee7a44ab99b7ad": {
      "model_module": "@jupyter-widgets/controls",
      "model_module_version": "2.0.0",
      "model_name": "HTMLModel",
      "state": {
       "layout": "IPY_MODEL_23a8cb9efec54445b436c88e5d0c9cdf",
       "style": "IPY_MODEL_83324a2de1104cd7ac6f38b43221fc78",
       "value": "<h4>Displaying Neuron 42 for Group 4- data_stim</h4>"
      }
     },
     "7966b8b022fa427abdc6089f5c433d9c": {
      "model_module": "@jupyter-widgets/controls",
      "model_module_version": "2.0.0",
      "model_name": "HTMLStyleModel",
      "state": {
       "description_width": "",
       "font_size": null,
       "text_color": null
      }
     },
     "7977b911a1124caf96ff89f6afb4c7d9": {
      "model_module": "@jupyter-widgets/base",
      "model_module_version": "2.0.0",
      "model_name": "LayoutModel",
      "state": {}
     },
     "7c3117c53f164ad1bc176f60f5f07e58": {
      "model_module": "@jupyter-widgets/base",
      "model_module_version": "2.0.0",
      "model_name": "LayoutModel",
      "state": {}
     },
     "7cb10529c3de4b478722a91fb3a79f37": {
      "model_module": "@jupyter-widgets/controls",
      "model_module_version": "2.0.0",
      "model_name": "IntSliderModel",
      "state": {
       "behavior": "drag-tap",
       "description": "Neuron:",
       "layout": "IPY_MODEL_17c1d6c245754873bf198ef8a192b256",
       "max": 35,
       "style": "IPY_MODEL_01998f43444046b0baedc5fba3d31836"
      }
     },
     "7d4a00a8fc304a2aaeb0999013ec556c": {
      "model_module": "@jupyter-widgets/controls",
      "model_module_version": "2.0.0",
      "model_name": "HTMLModel",
      "state": {
       "layout": "IPY_MODEL_2ec12054fcb14ecd8b521b1123611f97",
       "style": "IPY_MODEL_77768cd4dbca44f5931fa2da73863b2e",
       "value": "<h4>Select the <i>neuron</i> you are interested in.</h4>"
      }
     },
     "7d75c79003f94b819df88642448dc0ba": {
      "model_module": "@jupyter-widgets/controls",
      "model_module_version": "2.0.0",
      "model_name": "DescriptionStyleModel",
      "state": {
       "description_width": ""
      }
     },
     "7db49be2a4d848d6a9846ae7164871df": {
      "model_module": "@jupyter-widgets/controls",
      "model_module_version": "2.0.0",
      "model_name": "HTMLModel",
      "state": {
       "layout": "IPY_MODEL_6e3d4abf00ea49acb37a444d8ee11b3a",
       "style": "IPY_MODEL_e62c497c8b9d4460bd260e778180fd87",
       "value": "<h4>Select the <i>neuron</i> you are interested in.</h4>"
      }
     },
     "7dc2913c3a27485d9533983c4df196eb": {
      "model_module": "@jupyter-widgets/controls",
      "model_module_version": "2.0.0",
      "model_name": "HTMLModel",
      "state": {
       "layout": "IPY_MODEL_7e64b8089a1e4c10aa960a3a623ab243",
       "style": "IPY_MODEL_1bd93e7d2d9445dabbded6c87d12c576",
       "value": "<h4>Select the <i>neuron</i> you are interested in.</h4>"
      }
     },
     "7e64b8089a1e4c10aa960a3a623ab243": {
      "model_module": "@jupyter-widgets/base",
      "model_module_version": "2.0.0",
      "model_name": "LayoutModel",
      "state": {}
     },
     "806c5d873fdb4b5fb1b4720c81d35414": {
      "model_module": "@jupyter-widgets/controls",
      "model_module_version": "2.0.0",
      "model_name": "ButtonModel",
      "state": {
       "description": "Reset",
       "layout": "IPY_MODEL_44bb24d98513428d8463deddb88be6b4",
       "style": "IPY_MODEL_4452c1ef01c1419e8f146d73d39afce1",
       "tooltip": null
      }
     },
     "80f23249e77c4d8d8d445afdc3005202": {
      "model_module": "@jupyter-widgets/controls",
      "model_module_version": "2.0.0",
      "model_name": "ButtonModel",
      "state": {
       "description": "Submit",
       "layout": "IPY_MODEL_38f33a1e872f42309782ff3896d20cfa",
       "style": "IPY_MODEL_d1be176699a449398b609739a5b75994",
       "tooltip": null
      }
     },
     "81d067c8eb1d4cf5b76f8d1d14f76cb7": {
      "model_module": "@jupyter-widgets/controls",
      "model_module_version": "2.0.0",
      "model_name": "HTMLStyleModel",
      "state": {
       "description_width": "",
       "font_size": null,
       "text_color": null
      }
     },
     "83324a2de1104cd7ac6f38b43221fc78": {
      "model_module": "@jupyter-widgets/controls",
      "model_module_version": "2.0.0",
      "model_name": "HTMLStyleModel",
      "state": {
       "description_width": "",
       "font_size": null,
       "text_color": null
      }
     },
     "83ddfb7eaba143f483e3124e9ec0a566": {
      "model_module": "@jupyter-widgets/controls",
      "model_module_version": "2.0.0",
      "model_name": "HTMLModel",
      "state": {
       "layout": "IPY_MODEL_2271fb0382284f31a1d4d507445237d8",
       "style": "IPY_MODEL_31ffb3cead8c4de2a457ed766dc5e734",
       "value": "<h4>Select the <i>group</i> and <i>file</i> that you would like to analyze.</h4>"
      }
     },
     "84b310ac60c84185875c4570e22b3479": {
      "model_module": "@jupyter-widgets/controls",
      "model_module_version": "2.0.0",
      "model_name": "DescriptionStyleModel",
      "state": {
       "description_width": ""
      }
     },
     "84e02d09a310408a94f46d2b6bd3e6ae": {
      "model_module": "@jupyter-widgets/base",
      "model_module_version": "2.0.0",
      "model_name": "LayoutModel",
      "state": {}
     },
     "86aaab9ee699495b97aa7651cbd89a68": {
      "model_module": "@jupyter-widgets/controls",
      "model_module_version": "2.0.0",
      "model_name": "HTMLModel",
      "state": {
       "layout": "IPY_MODEL_7c3117c53f164ad1bc176f60f5f07e58",
       "style": "IPY_MODEL_9661cafed0cc4c1eb31d6332e643d58b",
       "value": "<h4>Select the <i>neuron</i> you are interested in.</h4>"
      }
     },
     "8727824ba4e14e1f870df8d1cbfac8ff": {
      "model_module": "@jupyter-widgets/controls",
      "model_module_version": "2.0.0",
      "model_name": "HTMLStyleModel",
      "state": {
       "description_width": "",
       "font_size": null,
       "text_color": null
      }
     },
     "87e5e0ebad964d61b7ad51bf76dc9130": {
      "model_module": "@jupyter-widgets/controls",
      "model_module_version": "2.0.0",
      "model_name": "IntSliderModel",
      "state": {
       "behavior": "drag-tap",
       "description": "Neuron:",
       "layout": "IPY_MODEL_c46e8ff9ca8549baad04be20be6f2b98",
       "max": 33,
       "style": "IPY_MODEL_168731feaa8f4eacbd570af0b1266f8c",
       "value": 22
      }
     },
     "87f3d2a9505d48dc897b042dbd6097f2": {
      "model_module": "@jupyter-widgets/base",
      "model_module_version": "2.0.0",
      "model_name": "LayoutModel",
      "state": {}
     },
     "8a682957b3094f6d8d03372e75f4c9a3": {
      "model_module": "@jupyter-widgets/controls",
      "model_module_version": "2.0.0",
      "model_name": "ButtonStyleModel",
      "state": {
       "font_family": null,
       "font_size": null,
       "font_style": null,
       "font_variant": null,
       "font_weight": null,
       "text_color": null,
       "text_decoration": null
      }
     },
     "8b47b455f366450997ae3c191b5aec25": {
      "model_module": "@jupyter-widgets/controls",
      "model_module_version": "2.0.0",
      "model_name": "ButtonModel",
      "state": {
       "description": "Reset",
       "layout": "IPY_MODEL_9ddce3feb3424242aaa60bf1df607e4f",
       "style": "IPY_MODEL_332d668d64144d50b3024b2de38e4de8",
       "tooltip": null
      }
     },
     "8b7ceb6fdf344207b6d08e81a04e321f": {
      "model_module": "@jupyter-widgets/controls",
      "model_module_version": "2.0.0",
      "model_name": "HTMLStyleModel",
      "state": {
       "description_width": "",
       "font_size": null,
       "text_color": null
      }
     },
     "8dc2e648481b4e729eda696074bee572": {
      "model_module": "@jupyter-widgets/controls",
      "model_module_version": "2.0.0",
      "model_name": "ButtonModel",
      "state": {
       "description": "Submit",
       "layout": "IPY_MODEL_39adbe69988c4ceda816b0ae745c0e11",
       "style": "IPY_MODEL_9eb209789e484fbfbac2974b0e2d60ee",
       "tooltip": null
      }
     },
     "8e2d2f0eca0442f3bda350381b0c52cc": {
      "model_module": "@jupyter-widgets/controls",
      "model_module_version": "2.0.0",
      "model_name": "HTMLStyleModel",
      "state": {
       "description_width": "",
       "font_size": null,
       "text_color": null
      }
     },
     "8e5a4909b3174e6dbc4a3f4b1394cc13": {
      "model_module": "@jupyter-widgets/base",
      "model_module_version": "2.0.0",
      "model_name": "LayoutModel",
      "state": {}
     },
     "901e5e8b1be54e788ea861c1b82599e8": {
      "model_module": "@jupyter-widgets/controls",
      "model_module_version": "2.0.0",
      "model_name": "HTMLModel",
      "state": {
       "layout": "IPY_MODEL_b76a9cbf0bf9427585691a8a63f0fcb3",
       "style": "IPY_MODEL_9b89b47335074c0996fe52155e9e3912",
       "value": "<h4>Select the <i>group</i> and <i>file</i> that you would like to analyze.</h4>"
      }
     },
     "927295edb9354b869b2fed2adff3846f": {
      "model_module": "@jupyter-widgets/controls",
      "model_module_version": "2.0.0",
      "model_name": "HTMLStyleModel",
      "state": {
       "description_width": "",
       "font_size": null,
       "text_color": null
      }
     },
     "9524734bdd2e42dea7470591d58b0e2e": {
      "model_module": "@jupyter-widgets/controls",
      "model_module_version": "2.0.0",
      "model_name": "HTMLStyleModel",
      "state": {
       "description_width": "",
       "font_size": null,
       "text_color": null
      }
     },
     "95870f865afa48c090d8399571b9ce0f": {
      "model_module": "@jupyter-widgets/controls",
      "model_module_version": "2.0.0",
      "model_name": "ButtonModel",
      "state": {
       "description": "Reset",
       "layout": "IPY_MODEL_f09ae7ceae7c465baeba3a61043e8827",
       "style": "IPY_MODEL_c77d5ac0c4234e6f9956714c8ec9dc67",
       "tooltip": null
      }
     },
     "9661cafed0cc4c1eb31d6332e643d58b": {
      "model_module": "@jupyter-widgets/controls",
      "model_module_version": "2.0.0",
      "model_name": "HTMLStyleModel",
      "state": {
       "description_width": "",
       "font_size": null,
       "text_color": null
      }
     },
     "96b249ebd2de438891d9bfb8296f4075": {
      "model_module": "@jupyter-widgets/controls",
      "model_module_version": "2.0.0",
      "model_name": "DropdownModel",
      "state": {
       "_options_labels": [
        "2",
        "3",
        "4",
        "5",
        "6"
       ],
       "description": "Group:",
       "index": 1,
       "layout": "IPY_MODEL_44456b0c6d274ef78fbcce368b71b13e",
       "style": "IPY_MODEL_1bdeca1d66ec4160bd370684a0c78fdb"
      }
     },
     "9b757a75655f44939c2b079b86123350": {
      "model_module": "@jupyter-widgets/controls",
      "model_module_version": "2.0.0",
      "model_name": "SliderStyleModel",
      "state": {
       "description_width": ""
      }
     },
     "9b89b47335074c0996fe52155e9e3912": {
      "model_module": "@jupyter-widgets/controls",
      "model_module_version": "2.0.0",
      "model_name": "HTMLStyleModel",
      "state": {
       "description_width": "",
       "font_size": null,
       "text_color": null
      }
     },
     "9bd433b79428476690f96f8ed2f10d78": {
      "model_module": "@jupyter-widgets/controls",
      "model_module_version": "2.0.0",
      "model_name": "HTMLModel",
      "state": {
       "layout": "IPY_MODEL_cf555241f4ca40f3abf7516fcf4e5f34",
       "style": "IPY_MODEL_6b3d1188529e4e109eac341d5fa5c965",
       "value": "<h4>Displaying Neuron 5 for Group 5- data_before</h4>"
      }
     },
     "9ddce3feb3424242aaa60bf1df607e4f": {
      "model_module": "@jupyter-widgets/base",
      "model_module_version": "2.0.0",
      "model_name": "LayoutModel",
      "state": {}
     },
     "9e95a8dc9ce2411ea7d27f7bbf3adb8b": {
      "model_module": "@jupyter-widgets/controls",
      "model_module_version": "2.0.0",
      "model_name": "ButtonStyleModel",
      "state": {
       "font_family": null,
       "font_size": null,
       "font_style": null,
       "font_variant": null,
       "font_weight": null,
       "text_color": null,
       "text_decoration": null
      }
     },
     "9eb209789e484fbfbac2974b0e2d60ee": {
      "model_module": "@jupyter-widgets/controls",
      "model_module_version": "2.0.0",
      "model_name": "ButtonStyleModel",
      "state": {
       "font_family": null,
       "font_size": null,
       "font_style": null,
       "font_variant": null,
       "font_weight": null,
       "text_color": null,
       "text_decoration": null
      }
     },
     "9ee16afd039b444a8dbeb8ff62d2580b": {
      "model_module": "@jupyter-widgets/base",
      "model_module_version": "2.0.0",
      "model_name": "LayoutModel",
      "state": {}
     },
     "a0c04151c5604f03927eb8548d03a001": {
      "model_module": "@jupyter-widgets/base",
      "model_module_version": "2.0.0",
      "model_name": "LayoutModel",
      "state": {}
     },
     "a46224b66c3944d7b25ac3e7d64a76e8": {
      "model_module": "@jupyter-widgets/controls",
      "model_module_version": "2.0.0",
      "model_name": "SliderStyleModel",
      "state": {
       "description_width": ""
      }
     },
     "a49c75eb00d74656816156cc472554d2": {
      "model_module": "@jupyter-widgets/controls",
      "model_module_version": "2.0.0",
      "model_name": "IntSliderModel",
      "state": {
       "behavior": "drag-tap",
       "description": "Neuron:",
       "layout": "IPY_MODEL_c134b87e09ff4a66af3c6c24ee800ff8",
       "max": 33,
       "style": "IPY_MODEL_32469713136a4419a1f4286fc34ff421"
      }
     },
     "aa73388d98124da9ad877479d70f0c4f": {
      "model_module": "@jupyter-widgets/controls",
      "model_module_version": "2.0.0",
      "model_name": "VBoxModel",
      "state": {
       "children": [
        "IPY_MODEL_d8305bcf7380474e979597425bc5ae9e",
        "IPY_MODEL_87e5e0ebad964d61b7ad51bf76dc9130",
        "IPY_MODEL_d92d90a4f808494a9eebb658ccf73de2"
       ],
       "layout": "IPY_MODEL_274c68fecfb84a88ac889edd0cdebc93"
      }
     },
     "ab465045ab2e4a2f877a3716c939abbb": {
      "model_module": "@jupyter-widgets/controls",
      "model_module_version": "2.0.0",
      "model_name": "HTMLModel",
      "state": {
       "layout": "IPY_MODEL_ba1d913a4268402db0fa6b6a445c4394",
       "style": "IPY_MODEL_cea6f460ea1c4a0b91094c2d0a84578f",
       "value": "<h4>Displaying Neuron 28 for Group 2- data_after</h4>"
      }
     },
     "abfff705b2254ebe8c2cc1456d737571": {
      "model_module": "@jupyter-widgets/controls",
      "model_module_version": "2.0.0",
      "model_name": "VBoxModel",
      "state": {
       "children": [
        "IPY_MODEL_901e5e8b1be54e788ea861c1b82599e8",
        "IPY_MODEL_fc11d63736944ba59c8f69446a791dd9",
        "IPY_MODEL_367d08c08a27417e933a135f82b5438a",
        "IPY_MODEL_ba0f618aa70d4ccfac1c4d7e15690ccd"
       ],
       "layout": "IPY_MODEL_c09fc91a29c54c658ea054f34e5e1b28"
      }
     },
     "ac9385f2d40f49dca182e05bc56e004a": {
      "model_module": "@jupyter-widgets/base",
      "model_module_version": "2.0.0",
      "model_name": "LayoutModel",
      "state": {}
     },
     "ae2e408b6dce45408475c9323d240dd7": {
      "model_module": "@jupyter-widgets/controls",
      "model_module_version": "2.0.0",
      "model_name": "HTMLStyleModel",
      "state": {
       "description_width": "",
       "font_size": null,
       "text_color": null
      }
     },
     "af56c151f3e54eb7ac4ccc59bda5106c": {
      "model_module": "@jupyter-widgets/controls",
      "model_module_version": "2.0.0",
      "model_name": "DescriptionStyleModel",
      "state": {
       "description_width": ""
      }
     },
     "afc033815b134895a603d566db4a6918": {
      "model_module": "@jupyter-widgets/controls",
      "model_module_version": "2.0.0",
      "model_name": "ButtonModel",
      "state": {
       "description": "Reset",
       "layout": "IPY_MODEL_570c0271b8b34e1982bd44239071cd0f",
       "style": "IPY_MODEL_e95de42f260a4c62885f078ef08b7ea2",
       "tooltip": null
      }
     },
     "b16b342b75d540cfabaeebd3eebfaf42": {
      "model_module": "@jupyter-widgets/controls",
      "model_module_version": "2.0.0",
      "model_name": "IntSliderModel",
      "state": {
       "behavior": "drag-tap",
       "description": "Neuron:",
       "layout": "IPY_MODEL_db3b95e5900148329b28a3866f4f6df9",
       "max": 33,
       "style": "IPY_MODEL_9b757a75655f44939c2b079b86123350",
       "value": 9
      }
     },
     "b423f028c53744398c20694615a0a84a": {
      "model_module": "@jupyter-widgets/base",
      "model_module_version": "2.0.0",
      "model_name": "LayoutModel",
      "state": {}
     },
     "b69726b7efc24851bf7e382fbeacd87e": {
      "model_module": "@jupyter-widgets/controls",
      "model_module_version": "2.0.0",
      "model_name": "DescriptionStyleModel",
      "state": {
       "description_width": ""
      }
     },
     "b76a9cbf0bf9427585691a8a63f0fcb3": {
      "model_module": "@jupyter-widgets/base",
      "model_module_version": "2.0.0",
      "model_name": "LayoutModel",
      "state": {}
     },
     "b7da0a0574bb46449c995395de5e5b61": {
      "model_module": "@jupyter-widgets/base",
      "model_module_version": "2.0.0",
      "model_name": "LayoutModel",
      "state": {}
     },
     "b9ce73a153834217b1e3e57efc3947b5": {
      "model_module": "@jupyter-widgets/base",
      "model_module_version": "2.0.0",
      "model_name": "LayoutModel",
      "state": {}
     },
     "ba0f618aa70d4ccfac1c4d7e15690ccd": {
      "model_module": "@jupyter-widgets/controls",
      "model_module_version": "2.0.0",
      "model_name": "ButtonModel",
      "state": {
       "description": "Submit",
       "layout": "IPY_MODEL_b9ce73a153834217b1e3e57efc3947b5",
       "style": "IPY_MODEL_8a682957b3094f6d8d03372e75f4c9a3",
       "tooltip": null
      }
     },
     "ba1d913a4268402db0fa6b6a445c4394": {
      "model_module": "@jupyter-widgets/base",
      "model_module_version": "2.0.0",
      "model_name": "LayoutModel",
      "state": {}
     },
     "ba6fcbaee62a4d39a93a77da451089ca": {
      "model_module": "@jupyter-widgets/controls",
      "model_module_version": "2.0.0",
      "model_name": "ButtonModel",
      "state": {
       "description": "Submit",
       "layout": "IPY_MODEL_50abe0ed80b0414784b8b07fa53ae055",
       "style": "IPY_MODEL_e3667c02e0914a358d64c6dcccfab663",
       "tooltip": null
      }
     },
     "bc445aa620a64da8af94ab46f7f7f54e": {
      "model_module": "@jupyter-widgets/controls",
      "model_module_version": "2.0.0",
      "model_name": "IntSliderModel",
      "state": {
       "behavior": "drag-tap",
       "description": "Neuron:",
       "layout": "IPY_MODEL_b423f028c53744398c20694615a0a84a",
       "max": 50,
       "style": "IPY_MODEL_ed4a2f3982bd4b738545464f93dd4731"
      }
     },
     "bd732d63d81d44c5919dbb4c2ff2d8f0": {
      "model_module": "@jupyter-widgets/base",
      "model_module_version": "2.0.0",
      "model_name": "LayoutModel",
      "state": {}
     },
     "bda01659f37d4b2aa89d9b03dae6e29d": {
      "model_module": "@jupyter-widgets/base",
      "model_module_version": "2.0.0",
      "model_name": "LayoutModel",
      "state": {}
     },
     "be8c569e65154620b74c091a9f323815": {
      "model_module": "@jupyter-widgets/base",
      "model_module_version": "2.0.0",
      "model_name": "LayoutModel",
      "state": {}
     },
     "beccfdba357f4dee8ba15e13dfe8cbcf": {
      "model_module": "@jupyter-widgets/controls",
      "model_module_version": "2.0.0",
      "model_name": "HTMLModel",
      "state": {
       "layout": "IPY_MODEL_1b3ad5c02ab04a60917dc3524e773bcf",
       "style": "IPY_MODEL_9524734bdd2e42dea7470591d58b0e2e",
       "value": "<h4>Displaying Neuron 5 for Group 5- data_after</h4>"
      }
     },
     "bee9b9eb1bc0434e88c7b0dff54ea3a2": {
      "model_module": "@jupyter-widgets/base",
      "model_module_version": "2.0.0",
      "model_name": "LayoutModel",
      "state": {}
     },
     "bf2b90970a4c445693e02639c856aae3": {
      "model_module": "@jupyter-widgets/controls",
      "model_module_version": "2.0.0",
      "model_name": "HTMLModel",
      "state": {
       "layout": "IPY_MODEL_84e02d09a310408a94f46d2b6bd3e6ae",
       "style": "IPY_MODEL_8727824ba4e14e1f870df8d1cbfac8ff",
       "value": "<h4>Select the <i>group</i> and <i>file</i> that you would like to analyze.</h4>"
      }
     },
     "bfba8613df6242dcaec84da1876be2ba": {
      "model_module": "@jupyter-widgets/controls",
      "model_module_version": "2.0.0",
      "model_name": "DropdownModel",
      "state": {
       "_options_labels": [
        "data_before",
        "data_stim",
        "data_after"
       ],
       "description": "File:",
       "index": 2,
       "layout": "IPY_MODEL_60a706e380a140d29e705fb2c3388919",
       "style": "IPY_MODEL_057682d7015a429f87b8a72a93d03ac8"
      }
     },
     "c09fc91a29c54c658ea054f34e5e1b28": {
      "model_module": "@jupyter-widgets/base",
      "model_module_version": "2.0.0",
      "model_name": "LayoutModel",
      "state": {}
     },
     "c134b87e09ff4a66af3c6c24ee800ff8": {
      "model_module": "@jupyter-widgets/base",
      "model_module_version": "2.0.0",
      "model_name": "LayoutModel",
      "state": {}
     },
     "c220dad15b7740c391f969e8dac19a31": {
      "model_module": "@jupyter-widgets/controls",
      "model_module_version": "2.0.0",
      "model_name": "HTMLModel",
      "state": {
       "layout": "IPY_MODEL_e8413b0a17aa44fea79ed03eb9ef60b4",
       "style": "IPY_MODEL_81d067c8eb1d4cf5b76f8d1d14f76cb7",
       "value": "<h4>Displaying Neuron 0 for Group 2- data_after</h4>"
      }
     },
     "c34179c18aee4a24816b28efc82cd95c": {
      "model_module": "@jupyter-widgets/controls",
      "model_module_version": "2.0.0",
      "model_name": "ButtonStyleModel",
      "state": {
       "font_family": null,
       "font_size": null,
       "font_style": null,
       "font_variant": null,
       "font_weight": null,
       "text_color": null,
       "text_decoration": null
      }
     },
     "c43e5698d9004427acee83c95b8ccd3d": {
      "model_module": "@jupyter-widgets/controls",
      "model_module_version": "2.0.0",
      "model_name": "DropdownModel",
      "state": {
       "_options_labels": [
        "2",
        "3",
        "4",
        "5",
        "6"
       ],
       "description": "Group:",
       "index": 0,
       "layout": "IPY_MODEL_d75189baa915413fb4887c0136059cec",
       "style": "IPY_MODEL_e847475bbf1e4ed5be760bb14d69fc44"
      }
     },
     "c46e8ff9ca8549baad04be20be6f2b98": {
      "model_module": "@jupyter-widgets/base",
      "model_module_version": "2.0.0",
      "model_name": "LayoutModel",
      "state": {}
     },
     "c4f0dc458dc74483866af007a84a6b49": {
      "model_module": "@jupyter-widgets/controls",
      "model_module_version": "2.0.0",
      "model_name": "DropdownModel",
      "state": {
       "_options_labels": [
        "data_before",
        "data_stim",
        "data_after"
       ],
       "description": "File:",
       "index": 2,
       "layout": "IPY_MODEL_6af7b00d346445c6a98fdab199d57b49",
       "style": "IPY_MODEL_61b0a062ac454d8ab51488ac1b8a07ce"
      }
     },
     "c5bf0975e6254c49802096891b5b91a0": {
      "model_module": "@jupyter-widgets/controls",
      "model_module_version": "2.0.0",
      "model_name": "VBoxModel",
      "state": {
       "children": [
        "IPY_MODEL_86aaab9ee699495b97aa7651cbd89a68",
        "IPY_MODEL_b16b342b75d540cfabaeebd3eebfaf42",
        "IPY_MODEL_75d069d58e5147b993d619f942624b04"
       ],
       "layout": "IPY_MODEL_1f6cf206f62c427b86a02ba8118b10ed"
      }
     },
     "c77d5ac0c4234e6f9956714c8ec9dc67": {
      "model_module": "@jupyter-widgets/controls",
      "model_module_version": "2.0.0",
      "model_name": "ButtonStyleModel",
      "state": {
       "font_family": null,
       "font_size": null,
       "font_style": null,
       "font_variant": null,
       "font_weight": null,
       "text_color": null,
       "text_decoration": null
      }
     },
     "c7a7026c0fad4d608d7b820e04769a0a": {
      "model_module": "@jupyter-widgets/controls",
      "model_module_version": "2.0.0",
      "model_name": "HTMLModel",
      "state": {
       "layout": "IPY_MODEL_0f43155df591412e93a560c272dee6d3",
       "style": "IPY_MODEL_0dd2deaf367e4a2c8a33e03ad62ddacd",
       "value": "<h4>Displaying Neuron 96 for Group 3- data_stim</h4>"
      }
     },
     "c962f71b64a748d69361bab66627d68d": {
      "model_module": "@jupyter-widgets/controls",
      "model_module_version": "2.0.0",
      "model_name": "ButtonStyleModel",
      "state": {
       "font_family": null,
       "font_size": null,
       "font_style": null,
       "font_variant": null,
       "font_weight": null,
       "text_color": null,
       "text_decoration": null
      }
     },
     "c9932fa6e19546d4b8981d81777885c3": {
      "model_module": "@jupyter-widgets/controls",
      "model_module_version": "2.0.0",
      "model_name": "HTMLStyleModel",
      "state": {
       "description_width": "",
       "font_size": null,
       "text_color": null
      }
     },
     "cbf2036c1ed34c82a19bd0a433eb5c6c": {
      "model_module": "@jupyter-widgets/controls",
      "model_module_version": "2.0.0",
      "model_name": "ButtonStyleModel",
      "state": {
       "font_family": null,
       "font_size": null,
       "font_style": null,
       "font_variant": null,
       "font_weight": null,
       "text_color": null,
       "text_decoration": null
      }
     },
     "ccb48ff734c04a86a583f85a3233a696": {
      "model_module": "@jupyter-widgets/controls",
      "model_module_version": "2.0.0",
      "model_name": "VBoxModel",
      "state": {
       "children": [
        "IPY_MODEL_7dc2913c3a27485d9533983c4df196eb",
        "IPY_MODEL_3b15030214ba4dfc8aa4280f5498f8c8",
        "IPY_MODEL_202ebfeb7f18490a936d2f9952e9583a"
       ],
       "layout": "IPY_MODEL_e239150c040e4d8faae18f0f7fa9a109"
      }
     },
     "cd979a6211074c428b6c46fbe699336c": {
      "model_module": "@jupyter-widgets/base",
      "model_module_version": "2.0.0",
      "model_name": "LayoutModel",
      "state": {}
     },
     "ce0aa50d092547eaa5689b15f6d34d85": {
      "model_module": "@jupyter-widgets/controls",
      "model_module_version": "2.0.0",
      "model_name": "VBoxModel",
      "state": {
       "children": [
        "IPY_MODEL_fcbde9c3aff840f594cd9750d03b9f02",
        "IPY_MODEL_1b28a8c8b7434d6bb97d806332f0afbe",
        "IPY_MODEL_dbfc2d54364542aaa8e3cb8a999ea00c",
        "IPY_MODEL_8dc2e648481b4e729eda696074bee572"
       ],
       "layout": "IPY_MODEL_be8c569e65154620b74c091a9f323815"
      }
     },
     "cea6f460ea1c4a0b91094c2d0a84578f": {
      "model_module": "@jupyter-widgets/controls",
      "model_module_version": "2.0.0",
      "model_name": "HTMLStyleModel",
      "state": {
       "description_width": "",
       "font_size": null,
       "text_color": null
      }
     },
     "cf555241f4ca40f3abf7516fcf4e5f34": {
      "model_module": "@jupyter-widgets/base",
      "model_module_version": "2.0.0",
      "model_name": "LayoutModel",
      "state": {}
     },
     "d1be176699a449398b609739a5b75994": {
      "model_module": "@jupyter-widgets/controls",
      "model_module_version": "2.0.0",
      "model_name": "ButtonStyleModel",
      "state": {
       "font_family": null,
       "font_size": null,
       "font_style": null,
       "font_variant": null,
       "font_weight": null,
       "text_color": null,
       "text_decoration": null
      }
     },
     "d75189baa915413fb4887c0136059cec": {
      "model_module": "@jupyter-widgets/base",
      "model_module_version": "2.0.0",
      "model_name": "LayoutModel",
      "state": {}
     },
     "d8305bcf7380474e979597425bc5ae9e": {
      "model_module": "@jupyter-widgets/controls",
      "model_module_version": "2.0.0",
      "model_name": "HTMLModel",
      "state": {
       "layout": "IPY_MODEL_2d6bb7a83b0345a1a0da26ad711f7535",
       "style": "IPY_MODEL_00dbc5c401c84a3da2bcc70a091a1c8c",
       "value": "<h4>Select the <i>neuron</i> you are interested in.</h4>"
      }
     },
     "d92d90a4f808494a9eebb658ccf73de2": {
      "model_module": "@jupyter-widgets/controls",
      "model_module_version": "2.0.0",
      "model_name": "ButtonModel",
      "state": {
       "description": "Submit",
       "layout": "IPY_MODEL_fd68f5f1b3db482db32d2b180e4f3451",
       "style": "IPY_MODEL_fd36fcaabc724b42aa5d41bd4ab22a61",
       "tooltip": null
      }
     },
     "db3b95e5900148329b28a3866f4f6df9": {
      "model_module": "@jupyter-widgets/base",
      "model_module_version": "2.0.0",
      "model_name": "LayoutModel",
      "state": {}
     },
     "dbfc2d54364542aaa8e3cb8a999ea00c": {
      "model_module": "@jupyter-widgets/controls",
      "model_module_version": "2.0.0",
      "model_name": "DropdownModel",
      "state": {
       "_options_labels": [
        "data_before",
        "data_stim",
        "data_after"
       ],
       "description": "File:",
       "index": 1,
       "layout": "IPY_MODEL_41f23ad237964d219b5654a60f6581a0",
       "style": "IPY_MODEL_84b310ac60c84185875c4570e22b3479"
      }
     },
     "ddc425bd6b6d4a44aa59d1d48328619f": {
      "model_module": "@jupyter-widgets/controls",
      "model_module_version": "2.0.0",
      "model_name": "HTMLModel",
      "state": {
       "layout": "IPY_MODEL_bd732d63d81d44c5919dbb4c2ff2d8f0",
       "style": "IPY_MODEL_c9932fa6e19546d4b8981d81777885c3",
       "value": "<h4>Displaying Neuron 42 for Group 4- data_stim</h4>"
      }
     },
     "dfa0d88ea5ed4ccfab489b84e5ec787e": {
      "model_module": "@jupyter-widgets/controls",
      "model_module_version": "2.0.0",
      "model_name": "HTMLStyleModel",
      "state": {
       "description_width": "",
       "font_size": null,
       "text_color": null
      }
     },
     "e133edc1a4ec4be6856570b4ef76e041": {
      "model_module": "@jupyter-widgets/controls",
      "model_module_version": "2.0.0",
      "model_name": "HTMLModel",
      "state": {
       "layout": "IPY_MODEL_2f86dad182164205b1708e3e49c628c8",
       "style": "IPY_MODEL_4de6d2dca87342c2bc72bd90c2f6c904",
       "value": "<h4>Select the <i>group</i> and <i>file</i> that you would like to analyze.</h4>"
      }
     },
     "e143fa15a806470fbd5656604c3e0aaf": {
      "model_module": "@jupyter-widgets/controls",
      "model_module_version": "2.0.0",
      "model_name": "VBoxModel",
      "state": {
       "children": [
        "IPY_MODEL_e133edc1a4ec4be6856570b4ef76e041",
        "IPY_MODEL_c43e5698d9004427acee83c95b8ccd3d",
        "IPY_MODEL_bfba8613df6242dcaec84da1876be2ba",
        "IPY_MODEL_36fa849378bd46ec8e32f6e8ea94320c"
       ],
       "layout": "IPY_MODEL_0b87908bd3744da6ac49ca45218b63ef"
      }
     },
     "e239150c040e4d8faae18f0f7fa9a109": {
      "model_module": "@jupyter-widgets/base",
      "model_module_version": "2.0.0",
      "model_name": "LayoutModel",
      "state": {}
     },
     "e3667c02e0914a358d64c6dcccfab663": {
      "model_module": "@jupyter-widgets/controls",
      "model_module_version": "2.0.0",
      "model_name": "ButtonStyleModel",
      "state": {
       "font_family": null,
       "font_size": null,
       "font_style": null,
       "font_variant": null,
       "font_weight": null,
       "text_color": null,
       "text_decoration": null
      }
     },
     "e3c1d979c6e449eab535839a1281064f": {
      "model_module": "@jupyter-widgets/controls",
      "model_module_version": "2.0.0",
      "model_name": "VBoxModel",
      "state": {
       "children": [
        "IPY_MODEL_bf2b90970a4c445693e02639c856aae3",
        "IPY_MODEL_1a41773f8ff247cda6b9818366d4f6d4",
        "IPY_MODEL_c4f0dc458dc74483866af007a84a6b49",
        "IPY_MODEL_5235987a2cdd480c9208df40151db5ac"
       ],
       "layout": "IPY_MODEL_6f91bff7cb854d369c727e0a283cde8e"
      }
     },
     "e62c497c8b9d4460bd260e778180fd87": {
      "model_module": "@jupyter-widgets/controls",
      "model_module_version": "2.0.0",
      "model_name": "HTMLStyleModel",
      "state": {
       "description_width": "",
       "font_size": null,
       "text_color": null
      }
     },
     "e65bc24887ce493e96dbd20ecb01d5e1": {
      "model_module": "@jupyter-widgets/controls",
      "model_module_version": "2.0.0",
      "model_name": "HTMLStyleModel",
      "state": {
       "description_width": "",
       "font_size": null,
       "text_color": null
      }
     },
     "e6a0d7f9520d4de8b29f6f36806c8f76": {
      "model_module": "@jupyter-widgets/controls",
      "model_module_version": "2.0.0",
      "model_name": "ButtonModel",
      "state": {
       "description": "Submit",
       "layout": "IPY_MODEL_f2b7430e3e0e4bdaa1a4fd2862b41747",
       "style": "IPY_MODEL_9e95a8dc9ce2411ea7d27f7bbf3adb8b",
       "tooltip": null
      }
     },
     "e8413b0a17aa44fea79ed03eb9ef60b4": {
      "model_module": "@jupyter-widgets/base",
      "model_module_version": "2.0.0",
      "model_name": "LayoutModel",
      "state": {}
     },
     "e847475bbf1e4ed5be760bb14d69fc44": {
      "model_module": "@jupyter-widgets/controls",
      "model_module_version": "2.0.0",
      "model_name": "DescriptionStyleModel",
      "state": {
       "description_width": ""
      }
     },
     "e95de42f260a4c62885f078ef08b7ea2": {
      "model_module": "@jupyter-widgets/controls",
      "model_module_version": "2.0.0",
      "model_name": "ButtonStyleModel",
      "state": {
       "font_family": null,
       "font_size": null,
       "font_style": null,
       "font_variant": null,
       "font_weight": null,
       "text_color": null,
       "text_decoration": null
      }
     },
     "ea669c0643b64883a1ba4c2343463b28": {
      "model_module": "@jupyter-widgets/controls",
      "model_module_version": "2.0.0",
      "model_name": "DropdownModel",
      "state": {
       "_options_labels": [
        "2",
        "3",
        "4",
        "5",
        "6"
       ],
       "description": "Group:",
       "index": 0,
       "layout": "IPY_MODEL_6a4b3d50b2d14cd5bbd97e2a102a68bd",
       "style": "IPY_MODEL_133e51596ca54f38b1190d3c91ecf493"
      }
     },
     "ed4a2f3982bd4b738545464f93dd4731": {
      "model_module": "@jupyter-widgets/controls",
      "model_module_version": "2.0.0",
      "model_name": "SliderStyleModel",
      "state": {
       "description_width": ""
      }
     },
     "ef65c33db8b744efa9014df4d073817c": {
      "model_module": "@jupyter-widgets/controls",
      "model_module_version": "2.0.0",
      "model_name": "HTMLModel",
      "state": {
       "layout": "IPY_MODEL_66a053d65c86465f8d5936ad0e2a3a5c",
       "style": "IPY_MODEL_e65bc24887ce493e96dbd20ecb01d5e1",
       "value": "<h4>Displaying Neuron 161 for Group 4- data_stim</h4>"
      }
     },
     "eff45e50b2dd4445a3d9137800eede63": {
      "model_module": "@jupyter-widgets/base",
      "model_module_version": "2.0.0",
      "model_name": "LayoutModel",
      "state": {}
     },
     "f09ae7ceae7c465baeba3a61043e8827": {
      "model_module": "@jupyter-widgets/base",
      "model_module_version": "2.0.0",
      "model_name": "LayoutModel",
      "state": {}
     },
     "f2b7430e3e0e4bdaa1a4fd2862b41747": {
      "model_module": "@jupyter-widgets/base",
      "model_module_version": "2.0.0",
      "model_name": "LayoutModel",
      "state": {}
     },
     "f3f195af76f84e608854762057563f51": {
      "model_module": "@jupyter-widgets/controls",
      "model_module_version": "2.0.0",
      "model_name": "HTMLStyleModel",
      "state": {
       "description_width": "",
       "font_size": null,
       "text_color": null
      }
     },
     "f4697a5c32db41b989bb40619bd12a41": {
      "model_module": "@jupyter-widgets/base",
      "model_module_version": "2.0.0",
      "model_name": "LayoutModel",
      "state": {}
     },
     "f6eee1b9954049469160e1b2621d5f8e": {
      "model_module": "@jupyter-widgets/base",
      "model_module_version": "2.0.0",
      "model_name": "LayoutModel",
      "state": {}
     },
     "fc11d63736944ba59c8f69446a791dd9": {
      "model_module": "@jupyter-widgets/controls",
      "model_module_version": "2.0.0",
      "model_name": "DropdownModel",
      "state": {
       "_options_labels": [
        "2",
        "3",
        "4",
        "5",
        "6"
       ],
       "description": "Group:",
       "index": 1,
       "layout": "IPY_MODEL_5bce909a223a4fe890ef2c72e415c939",
       "style": "IPY_MODEL_7d75c79003f94b819df88642448dc0ba"
      }
     },
     "fcbde9c3aff840f594cd9750d03b9f02": {
      "model_module": "@jupyter-widgets/controls",
      "model_module_version": "2.0.0",
      "model_name": "HTMLModel",
      "state": {
       "layout": "IPY_MODEL_7977b911a1124caf96ff89f6afb4c7d9",
       "style": "IPY_MODEL_7966b8b022fa427abdc6089f5c433d9c",
       "value": "<h4>Select the <i>group</i> and <i>file</i> that you would like to analyze.</h4>"
      }
     },
     "fd36fcaabc724b42aa5d41bd4ab22a61": {
      "model_module": "@jupyter-widgets/controls",
      "model_module_version": "2.0.0",
      "model_name": "ButtonStyleModel",
      "state": {
       "font_family": null,
       "font_size": null,
       "font_style": null,
       "font_variant": null,
       "font_weight": null,
       "text_color": null,
       "text_decoration": null
      }
     },
     "fd68f5f1b3db482db32d2b180e4f3451": {
      "model_module": "@jupyter-widgets/base",
      "model_module_version": "2.0.0",
      "model_name": "LayoutModel",
      "state": {}
     },
     "ffb63ab5ac3a459f80c770e00fb6247a": {
      "model_module": "@jupyter-widgets/base",
      "model_module_version": "2.0.0",
      "model_name": "LayoutModel",
      "state": {}
     }
    },
    "version_major": 2,
    "version_minor": 0
   }
  }
 },
 "nbformat": 4,
 "nbformat_minor": 5
}
