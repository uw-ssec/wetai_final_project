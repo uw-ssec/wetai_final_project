{
 "cells": [
  {
   "cell_type": "markdown",
   "id": "9df2013b",
   "metadata": {},
   "source": [
    "<font size=8 face=\"Courier\"><b>Final Neuron Layout Source Code"
   ]
  },
  {
   "cell_type": "markdown",
   "id": "7433803b",
   "metadata": {},
   "source": [
    "This is the code use to create the plots in the notebook, `Final_Neuron_Layout.ipynb`. The purpose of the notebook is to help you understand how the location of a neuron relates to it's firing pattern. The most important part of the code are the functions `neuronLayout` and `spikeRaster`, located inside of the **Functions->Neuron Page** section. This is the code use to create the plots."
   ]
  },
  {
   "cell_type": "markdown",
   "id": "3ceeb537",
   "metadata": {},
   "source": [
    "If you'd like to adapt this code for your own purposes, the key take home is that you can identify the x/y location of a neuron that you are looking at on the spikeraster by using the object, `sd.neuron_data[0]`. In this example. `sd` equals one of the datasets, `data_before, data_stim, data_after`. `sd.neuron_data[0][{neuron_number}][\"position\"]` provides the x/y location of a neuron, where the *\"neuron number\"* corresponds to the neuron's row number on the spike raster."
   ]
  },
  {
   "cell_type": "markdown",
   "id": "86d54155",
   "metadata": {},
   "source": [
    "# <font color=\"gray\">Import Stuff"
   ]
  },
  {
   "cell_type": "code",
   "execution_count": null,
   "id": "a03b0a8a",
   "metadata": {},
   "outputs": [],
   "source": [
    "import numpy as np                                                    # Packages for data analysis\n",
    "import pandas as pd\n",
    "import matplotlib.pyplot as plt\n",
    "from matplotlib.patches import Patch, Circle\n",
    "from scipy.ndimage import gaussian_filter1d\n",
    "import braingeneers                                                   # Braingeneers code\n",
    "from braingeneers.analysis.analysis import SpikeData, read_phy_files\n",
    "from ipywidgets import interact, interactive, fixed, interact_manual  # package for interactive widgets \n",
    "import ipywidgets as ipw\n",
    "from IPython.display import HTML, display, Javascript, clear_output"
   ]
  },
  {
   "cell_type": "markdown",
   "id": "2e1a5c4a",
   "metadata": {},
   "source": [
    "# <font color=\"green\">Widgets\n"
   ]
  },
  {
   "cell_type": "markdown",
   "id": "e8c6046a",
   "metadata": {},
   "source": [
    "This section creates all the little interactive tools used to create the plots. It's not that necessary that you understand this code. The most important thing is that you understand how the values of the widgets (literally called `.values` in the later code) relate to variables that you can manipulate to create the plots."
   ]
  },
  {
   "cell_type": "markdown",
   "id": "ad7b98db",
   "metadata": {},
   "source": [
    "## <font color=\"green\">Start Page"
   ]
  },
  {
   "cell_type": "markdown",
   "id": "c26f7de1",
   "metadata": {},
   "source": [
    "simple start message"
   ]
  },
  {
   "cell_type": "code",
   "execution_count": null,
   "id": "933defe8",
   "metadata": {},
   "outputs": [],
   "source": [
    "start_message= ipw.HTML(value=\"<h4>Select the <i>group</i> and <i>file</i> that you would like to analyze.</h4>\")\n",
    "start_message"
   ]
  },
  {
   "cell_type": "markdown",
   "id": "766edecf",
   "metadata": {},
   "source": [
    "`start_group_name` is used to set the `group_num` to ensure you download the right dataset with the `loadData` function"
   ]
  },
  {
   "cell_type": "code",
   "execution_count": null,
   "id": "1005b984",
   "metadata": {},
   "outputs": [],
   "source": [
    "start_group_name= ipw.Dropdown( options=['2', '3', '4', '5', '6'], value='2', description='Group:')\n",
    "start_group_name"
   ]
  },
  {
   "cell_type": "markdown",
   "id": "192f9aec",
   "metadata": {},
   "source": [
    "`start_data_name` selects the dataset you wish to analyze, `data_before`, `data_stim`, or `data_after`. This dataset is saved as the variable `sd`"
   ]
  },
  {
   "cell_type": "code",
   "execution_count": null,
   "id": "fe395314",
   "metadata": {},
   "outputs": [],
   "source": [
    "start_data_name= ipw.Dropdown( options=['data_before', 'data_stim', 'data_after'], value='data_after', description='File:')\n",
    "start_data_name"
   ]
  },
  {
   "cell_type": "markdown",
   "id": "fa148b7f",
   "metadata": {},
   "source": [
    "`start_button` simply brings you to the next window."
   ]
  },
  {
   "cell_type": "code",
   "execution_count": null,
   "id": "e8b6b26e",
   "metadata": {},
   "outputs": [],
   "source": [
    "start_button = ipw.Button(description=\"Submit\")"
   ]
  },
  {
   "cell_type": "markdown",
   "id": "e15de847",
   "metadata": {},
   "source": [
    "`start` contains all the code to create the Start Page"
   ]
  },
  {
   "cell_type": "code",
   "execution_count": null,
   "id": "af5329c8",
   "metadata": {},
   "outputs": [],
   "source": [
    "start = ipw.VBox([start_message, start_group_name, start_data_name, start_button])\n",
    "start"
   ]
  },
  {
   "cell_type": "markdown",
   "id": "925d6ba3",
   "metadata": {},
   "source": [
    "## <font color=\"green\">Neuron Page"
   ]
  },
  {
   "cell_type": "markdown",
   "id": "2fc99ad7",
   "metadata": {},
   "source": [
    "Simple message to user for neuron page"
   ]
  },
  {
   "cell_type": "code",
   "execution_count": null,
   "id": "b3f511c5",
   "metadata": {},
   "outputs": [],
   "source": [
    "neuron_message= ipw.HTML(value=\"<h4>Select the <i>neuron</i> you are interested in.</h4>\")\n",
    "neuron_message"
   ]
  },
  {
   "cell_type": "markdown",
   "id": "c5849ca8",
   "metadata": {},
   "source": [
    "`neuron_num` selects the neuron you want to analyze. This corresponds to the row number of the spike raster. It also corresponds to the x/y position of the neuron, `sd.neuron_data[0][{neuron_number}][\"position\"]`"
   ]
  },
  {
   "cell_type": "code",
   "execution_count": null,
   "id": "aaac585e",
   "metadata": {},
   "outputs": [],
   "source": [
    "neuron_num=ipw.IntSlider(description=\"Neuron:\")\n",
    "neuron_num"
   ]
  },
  {
   "cell_type": "markdown",
   "id": "8b0f8129",
   "metadata": {},
   "source": [
    "simple button to move you to the next page"
   ]
  },
  {
   "cell_type": "code",
   "execution_count": null,
   "id": "2229f276",
   "metadata": {},
   "outputs": [],
   "source": [
    "neuron_button = ipw.Button(description=\"Submit\")"
   ]
  },
  {
   "cell_type": "code",
   "execution_count": null,
   "id": "45d742dc",
   "metadata": {},
   "outputs": [],
   "source": [
    "neuron = ipw.VBox([neuron_message, neuron_num, neuron_button])\n",
    "neuron"
   ]
  },
  {
   "cell_type": "markdown",
   "id": "4fee6b42",
   "metadata": {},
   "source": [
    "## <font color=\"green\">Plots page"
   ]
  },
  {
   "cell_type": "markdown",
   "id": "579b3925",
   "metadata": {},
   "source": [
    "There is only one button on the page that presents the plot, this is `reset_button`. It brings you back to the start so that you can analyze other datasets and neurons."
   ]
  },
  {
   "cell_type": "code",
   "execution_count": null,
   "id": "dbfa5e54",
   "metadata": {},
   "outputs": [],
   "source": [
    "reset_button = ipw.Button(description=\"Reset\")"
   ]
  },
  {
   "cell_type": "markdown",
   "id": "bdd83cee",
   "metadata": {},
   "source": [
    "# <font color=\"blue\">Functions"
   ]
  },
  {
   "cell_type": "markdown",
   "id": "96020886",
   "metadata": {},
   "source": [
    "These are the functions used to move between pages and create the plots. Notice that these functions only run when one of the buttons is clicked.  It's less important that you understand the code fog moving between pages, instead, I would focus on the helper functions used to retreive the dataset and create the plots."
   ]
  },
  {
   "cell_type": "markdown",
   "id": "bc34fb34",
   "metadata": {},
   "source": [
    "## <font color=\"blue\">Start Page"
   ]
  },
  {
   "cell_type": "markdown",
   "id": "06c4b7fa",
   "metadata": {},
   "source": [
    "These are the functions that run when the `start_button` is clicked on the Start Page"
   ]
  },
  {
   "cell_type": "markdown",
   "id": "6b0bcd7b",
   "metadata": {},
   "source": [
    "### <font color=\"blue\">Helper : Load Data <font color=\"gray\"><small>Same Code as before"
   ]
  },
  {
   "cell_type": "markdown",
   "id": "e6a6b315",
   "metadata": {},
   "source": [
    "Note, this is the same code used in the `Final_Source_Code.ipynb`"
   ]
  },
  {
   "cell_type": "markdown",
   "id": "b2b08539",
   "metadata": {},
   "source": [
    "<font color=\"blue\">loadData</font> loads all the necesary data for analyzing one group. It's input is the number of the groups whose data you wish to analyze. It's \"output\" are the following global variables containing datasets used by later functions.\n",
    "* `group_num` - the number of the group whose data we are looking at\n",
    "* `data_before` - data recorded before stimulation\n",
    "* `data_stim` - uncurated stimulation pattern\n",
    "* `data_stim_bad` - curated stimulation pattern, it's \"bad\" because you can't see the stim patterns\n",
    "* `data_after` - data recorded right after stimulation"
   ]
  },
  {
   "cell_type": "code",
   "execution_count": null,
   "id": "13bbd2b8",
   "metadata": {},
   "outputs": [],
   "source": [
    "def loadData(group_number):\n",
    "    global group_num; global data_before; global data_stim; global data_stim_bad; global data_after \n",
    "    \n",
    "    print(f\"loading data for group {str(group_number)}\")        # Set global variables used by later functions\n",
    "    group_num = group_number\n",
    "    data_before = read_phy_files(f\"./data/curated/grp{str(group_num)}_before.zip\")\n",
    "    data_stim = read_phy_files(f\"./data/uncurated/grp{str(group_num)}_stim.zip\")\n",
    "    data_stim_bad = read_phy_files(f\"./data/curated/grp{str(group_num)}_stim.zip\")\n",
    "    data_after = read_phy_files(f\"./data/curated/grp{str(group_num)}_after.zip\")\n",
    "    print(\"done\")"
   ]
  },
  {
   "cell_type": "markdown",
   "id": "9b7a460e",
   "metadata": {},
   "source": [
    "### <font color=\"blue\">main function"
   ]
  },
  {
   "cell_type": "markdown",
   "id": "cef7a7fe",
   "metadata": {},
   "source": [
    "This is the function that runs when the `start_button` is clicked. It shows the next page, which is the Neuron Page"
   ]
  },
  {
   "cell_type": "code",
   "execution_count": null,
   "id": "ac1fd93d",
   "metadata": {},
   "outputs": [],
   "source": [
    "def showNeuronPage(b):\n",
    "    global sd\n",
    "    loadData(int(start_group_name.value))\n",
    "    sds = {\"data_before\":data_before, \"data_stim\":data_stim, \"data_after\":data_after}    # 3 datasets data_name is allowed to be\n",
    "    sd = sds[start_data_name.value]                                                      # set dataset we are interested in to sd                                                \n",
    "    \n",
    "    neuron_num.max = len(sd.neuron_data[0]) - 1                                          # set number of neurons to that of the dataset\n",
    "    clear_output()\n",
    "    display(neuron)\n",
    "start_button.on_click(showNeuronPage)"
   ]
  },
  {
   "cell_type": "markdown",
   "id": "28a59d10",
   "metadata": {},
   "source": [
    "## <font color=\"blue\">Neuron Page"
   ]
  },
  {
   "cell_type": "markdown",
   "id": "4506c913",
   "metadata": {},
   "source": [
    "This is the function that runs when the `neuron_button` is clicked. It shows the next page, which is the Plots Page"
   ]
  },
  {
   "cell_type": "markdown",
   "id": "e2608bee",
   "metadata": {},
   "source": [
    "### <font color=\"blue\">Helper: neuron layout"
   ]
  },
  {
   "cell_type": "markdown",
   "id": "d487705e",
   "metadata": {},
   "source": [
    "This is the code used to create the 2D layout of the organoids, electrodes, neurons, and stimulation locations."
   ]
  },
  {
   "cell_type": "code",
   "execution_count": null,
   "id": "52576309",
   "metadata": {},
   "outputs": [],
   "source": [
    "def neuronLayout():\n",
    "    \n",
    "    # Stim electrodes for each group, and electrodes x/y locations\n",
    "    grp_stim_electrodes = {2:[15569], 3:[15569, 13810], 4:[15569, 13810], 5:[15569, 6705], 6:[15569, 13810, 19971]}\n",
    "    stim_xy = { 19971:[2992.5,1575.0], 13810:[2975.0,1085.0], 15569:[2957.5,1225.0], 6705:[1837.5,525.0] }\n",
    "                                                                 \n",
    "    # Add background image\n",
    "    plt.figure(figsize=(15,10))\n",
    "    img = plt.imread(\"data/Organoids_Closeup.jpeg\")\n",
    "    plt.imshow(img,  extent=[0, 3850, 0, 2100] ) #, #interpolation='nearest', aspect='auto')\n",
    "    \n",
    "    # Plot electrodes\n",
    "    electrode_mapping = pd.DataFrame.from_dict( sd.metadata[0], orient=\"index\", columns=['x','y']  ) \n",
    "    x = electrode_mapping.x.values                                                       # create electrode mapping from saved metadata\n",
    "    y = electrode_mapping.y.values\n",
    "    plt.scatter(x,y,s=4, c='darkorange')                                                                 # plot all electrodes\n",
    "    \n",
    "    # Plot neurons\n",
    "    neuron_x = []\n",
    "    neuron_y = []\n",
    "    for neuron in sd.neuron_data[0].values():                                            # Get X/Y locations of neurons\n",
    "        neuron_x.append(neuron['position'][0])\n",
    "        neuron_y.append(neuron['position'][1])\n",
    "    plt.scatter(neuron_x,neuron_y, c='magenta', s=100 )                                                # plot all neurons\n",
    "    \n",
    "    # plot stim electrodes\n",
    "    stim_x = []\n",
    "    stim_y = []\n",
    "    for electrode in grp_stim_electrodes[ group_num ]:\n",
    "        stim_x.append( stim_xy[electrode][0] )\n",
    "        stim_y.append( stim_xy[electrode][1] ) \n",
    "    plt.scatter(stim_x,stim_y, c='turquoise', alpha=.8, s=450 ) \n",
    "    \n",
    "    # Plot selected neuron\n",
    "    plt.scatter( sd.neuron_data[0][neuron_num.value][\"position\"][0], sd.neuron_data[0][neuron_num.value][\"position\"][1], c='blue', s=150 )   \n",
    "    \n",
    "    #add legend, axises limits, labels,  and title\n",
    "    legend_elements = [Patch(\"darkorange\",\"darkorange\"), Patch(\"magenta\",\"magenta\"), Patch(\"turquoise\",\"turquoise\"), Patch(\"blue\",\"blue\") ]   # Create colors in legend\n",
    "    plt.legend(legend_elements, [\"Electrode\",\"Other Neuron\", \"Stimulation\", \"Selected Neuron\"])       # Add legend\n",
    "    plt.xlim(0, 3850)\n",
    "    plt.ylim(0, 2100)\n",
    "    plt.xlabel('um')                                                                     # add axises and title\n",
    "    plt.ylabel('um')\n",
    "    plt.title(f\"Neuron & Electrode Layout\")\n",
    "    plt.show()    "
   ]
  },
  {
   "cell_type": "markdown",
   "id": "e8e28238",
   "metadata": {},
   "source": [
    "### <font color=\"blue\">Helper: Spike Raster"
   ]
  },
  {
   "cell_type": "markdown",
   "id": "8953b613",
   "metadata": {},
   "source": [
    "This is the code used to create the spike raster."
   ]
  },
  {
   "cell_type": "code",
   "execution_count": null,
   "id": "1c6a342e",
   "metadata": {},
   "outputs": [],
   "source": [
    "def spikeRaster():\n",
    "    # Basic Scatter Plot\n",
    "    plt.figure(figsize=(15,10))\n",
    "    idces, times = sd.idces_times()\n",
    "    plt.scatter(times/1000,idces,marker='|',s=1, c=\"r\")   # Creates spike raster\n",
    "\n",
    "    # Plot Neuron of interest\n",
    "    neuron_vals = np.where(idces == neuron_num.value )[0]\n",
    "    plt.scatter( times[neuron_vals]/1000, idces[neuron_vals], marker='|',s=2, c=\"b\")  \n",
    "    \n",
    "    # Add labels to plot\n",
    "    plt.title( \"Spike Raster\" )\n",
    "    plt.xlabel(\"Time(s)\")\n",
    "    plt.ylabel('Unit #')\n",
    "    plt.show"
   ]
  },
  {
   "cell_type": "markdown",
   "id": "f4c05c08",
   "metadata": {},
   "source": [
    "### <font color=\"blue\">main function"
   ]
  },
  {
   "cell_type": "markdown",
   "id": "507e524d",
   "metadata": {},
   "source": [
    "This is the function that runs when the `neuron_button` is clicked. It shows the next page, which is the Plots of the data"
   ]
  },
  {
   "cell_type": "code",
   "execution_count": null,
   "id": "9f49b305",
   "metadata": {},
   "outputs": [],
   "source": [
    "def showPlots(b):\n",
    "    clear_output()\n",
    "    display(ipw.HTML(f\"<h4>Displaying Neuron {str(neuron_num.value)} for Group {start_group_name.value}- {start_data_name.value}</h4>\"))\n",
    "    display(reset_button)\n",
    "    neuronLayout()\n",
    "    spikeRaster()\n",
    "neuron_button.on_click(showPlots)"
   ]
  },
  {
   "cell_type": "markdown",
   "id": "e4aa44cd",
   "metadata": {},
   "source": [
    "## <font color=\"blue\">Plots Page"
   ]
  },
  {
   "cell_type": "markdown",
   "id": "8b259364",
   "metadata": {},
   "source": [
    "There is a `reset_button` on the Plots Page. When it is clicked, we bring the user back to the beginning so that they can analyze other datasets and neurons."
   ]
  },
  {
   "cell_type": "code",
   "execution_count": null,
   "id": "dcccbd02",
   "metadata": {},
   "outputs": [],
   "source": [
    "def reset(b):\n",
    "    clear_output()\n",
    "    display(start)\n",
    "reset_button.on_click(reset)"
   ]
  },
  {
   "cell_type": "code",
   "execution_count": null,
   "id": "2ae3d44d",
   "metadata": {},
   "outputs": [],
   "source": []
  },
  {
   "cell_type": "code",
   "execution_count": null,
   "id": "fa416d3d",
   "metadata": {},
   "outputs": [],
   "source": []
  }
 ],
 "metadata": {
  "hide_input": false,
  "kernelspec": {
   "display_name": "Python 3 (ipykernel)",
   "language": "python",
   "name": "python3"
  },
  "language_info": {
   "codemirror_mode": {
    "name": "ipython",
    "version": 3
   },
   "file_extension": ".py",
   "mimetype": "text/x-python",
   "name": "python",
   "nbconvert_exporter": "python",
   "pygments_lexer": "ipython3",
   "version": "3.10.10"
  },
  "toc": {
   "base_numbering": 1,
   "nav_menu": {},
   "number_sections": true,
   "sideBar": true,
   "skip_h1_title": false,
   "title_cell": "Table of Contents",
   "title_sidebar": "Contents",
   "toc_cell": false,
   "toc_position": {},
   "toc_section_display": true,
   "toc_window_display": false
  },
  "varInspector": {
   "cols": {
    "lenName": 16,
    "lenType": 16,
    "lenVar": 40
   },
   "kernels_config": {
    "python": {
     "delete_cmd_postfix": "",
     "delete_cmd_prefix": "del ",
     "library": "var_list.py",
     "varRefreshCmd": "print(var_dic_list())"
    },
    "r": {
     "delete_cmd_postfix": ") ",
     "delete_cmd_prefix": "rm(",
     "library": "var_list.r",
     "varRefreshCmd": "cat(var_dic_list()) "
    }
   },
   "types_to_exclude": [
    "module",
    "function",
    "builtin_function_or_method",
    "instance",
    "_Feature"
   ],
   "window_display": false
  },
  "widgets": {
   "application/vnd.jupyter.widget-state+json": {
    "state": {
     "000575890f524fd6a4bad5ee1b8d3a6e": {
      "model_module": "@jupyter-widgets/base",
      "model_module_version": "2.0.0",
      "model_name": "LayoutModel",
      "state": {}
     },
     "00d8d63113e44a738caa7780b8361167": {
      "model_module": "@jupyter-widgets/controls",
      "model_module_version": "2.0.0",
      "model_name": "IntSliderModel",
      "state": {
       "behavior": "drag-tap",
       "description": "Neuron:",
       "layout": "IPY_MODEL_88d59c860862447792b65e08a3814c2e",
       "max": 33,
       "style": "IPY_MODEL_0e8ae4aac3d1479fbe82c5b0a417c591",
       "value": 3
      }
     },
     "0223ac3767e541f8b547a056e1fd02b6": {
      "model_module": "@jupyter-widgets/controls",
      "model_module_version": "2.0.0",
      "model_name": "HTMLModel",
      "state": {
       "layout": "IPY_MODEL_d2a13e9395a0406582937488e887f1f9",
       "style": "IPY_MODEL_2a7610951995463899203c42f693250c",
       "value": "<h4>Displaying Neuron 3 for Group 2, data_after</h4>"
      }
     },
     "0312b410a36d411898497330dd853864": {
      "model_module": "@jupyter-widgets/controls",
      "model_module_version": "2.0.0",
      "model_name": "SliderStyleModel",
      "state": {
       "description_width": ""
      }
     },
     "04a2a214f5064c22bc57da22ed48d757": {
      "model_module": "@jupyter-widgets/controls",
      "model_module_version": "2.0.0",
      "model_name": "DescriptionStyleModel",
      "state": {
       "description_width": ""
      }
     },
     "05194f4e80044d1f8e773f14ece3e974": {
      "model_module": "@jupyter-widgets/controls",
      "model_module_version": "2.0.0",
      "model_name": "VBoxModel",
      "state": {
       "children": [
        "IPY_MODEL_39a14f0ca0ad4ce2ac6073dc96215ffe",
        "IPY_MODEL_f54532e32aeb4aaeb421873d395631c6",
        "IPY_MODEL_5ebd018f8c2c4f4d9def5033c79f43e3",
        "IPY_MODEL_0956e2cc4b60402386ccf60c4c8d1972"
       ],
       "layout": "IPY_MODEL_3a6e2e92e18c453491732f6c38f46351"
      }
     },
     "0601405cbc0d494085be0a6d7568a23f": {
      "model_module": "@jupyter-widgets/base",
      "model_module_version": "2.0.0",
      "model_name": "LayoutModel",
      "state": {}
     },
     "062e2bd9cf43490aa2dba2d492e08a00": {
      "model_module": "@jupyter-widgets/base",
      "model_module_version": "2.0.0",
      "model_name": "LayoutModel",
      "state": {}
     },
     "079e2ccc658147208f009b81a334e82c": {
      "model_module": "@jupyter-widgets/controls",
      "model_module_version": "2.0.0",
      "model_name": "DescriptionStyleModel",
      "state": {
       "description_width": ""
      }
     },
     "07f869fb18eb4c20aae57fe65df2aef4": {
      "model_module": "@jupyter-widgets/controls",
      "model_module_version": "2.0.0",
      "model_name": "DescriptionStyleModel",
      "state": {
       "description_width": ""
      }
     },
     "0956e2cc4b60402386ccf60c4c8d1972": {
      "model_module": "@jupyter-widgets/controls",
      "model_module_version": "2.0.0",
      "model_name": "ButtonModel",
      "state": {
       "description": "Submit",
       "layout": "IPY_MODEL_273711478ac04b8593e76ce1d9e2eb33",
       "style": "IPY_MODEL_f9b90cc6c52d4229873112c8d2b56b71",
       "tooltip": null
      }
     },
     "0bd12a0abbfc44dca02f67bca0379597": {
      "model_module": "@jupyter-widgets/base",
      "model_module_version": "2.0.0",
      "model_name": "LayoutModel",
      "state": {}
     },
     "0bd7b5f8b5724ef88bc7639578e7bfed": {
      "model_module": "@jupyter-widgets/controls",
      "model_module_version": "2.0.0",
      "model_name": "ButtonModel",
      "state": {
       "description": "Submit",
       "layout": "IPY_MODEL_ce092425614d47048926b8e8068a08ac",
       "style": "IPY_MODEL_365b742350d34df6bb2d9f1f4d066ca5",
       "tooltip": null
      }
     },
     "0d8237776c9747e5979c0e9632e19049": {
      "model_module": "@jupyter-widgets/controls",
      "model_module_version": "2.0.0",
      "model_name": "DropdownModel",
      "state": {
       "_options_labels": [
        "data_before",
        "data_stim",
        "data_after"
       ],
       "description": "File:",
       "index": 2,
       "layout": "IPY_MODEL_e86b129d753c478d8a8e14468914092b",
       "style": "IPY_MODEL_287057e778ab4653aae2c8f34dcba63b"
      }
     },
     "0db3326c1b7241f7ad86b608a68b3586": {
      "model_module": "@jupyter-widgets/controls",
      "model_module_version": "2.0.0",
      "model_name": "IntSliderModel",
      "state": {
       "behavior": "drag-tap",
       "description": "Neuron:",
       "layout": "IPY_MODEL_5436babf430f4c1c8aab66b7b17ee6f1",
       "max": 50,
       "style": "IPY_MODEL_1f8117bde7df4b0e92e0a1b87cad8d0f"
      }
     },
     "0de73af27b4c420cb3b713ff6f6bfe64": {
      "model_module": "@jupyter-widgets/base",
      "model_module_version": "2.0.0",
      "model_name": "LayoutModel",
      "state": {}
     },
     "0e4ea18cafe4461ba0b332a5aad13a82": {
      "model_module": "@jupyter-widgets/base",
      "model_module_version": "2.0.0",
      "model_name": "LayoutModel",
      "state": {}
     },
     "0e8ae4aac3d1479fbe82c5b0a417c591": {
      "model_module": "@jupyter-widgets/controls",
      "model_module_version": "2.0.0",
      "model_name": "SliderStyleModel",
      "state": {
       "description_width": ""
      }
     },
     "0ee655d4b4bf40d28932d38b0fe4c1e7": {
      "model_module": "@jupyter-widgets/base",
      "model_module_version": "2.0.0",
      "model_name": "LayoutModel",
      "state": {}
     },
     "0f09fb315410409e9f848a12ffd01a7f": {
      "model_module": "@jupyter-widgets/base",
      "model_module_version": "2.0.0",
      "model_name": "LayoutModel",
      "state": {}
     },
     "0f0b4715799e484989362ad2fc4883ac": {
      "model_module": "@jupyter-widgets/base",
      "model_module_version": "2.0.0",
      "model_name": "LayoutModel",
      "state": {}
     },
     "11926236161c4103bd294e2b537b48d9": {
      "model_module": "@jupyter-widgets/controls",
      "model_module_version": "2.0.0",
      "model_name": "ButtonModel",
      "state": {
       "description": "Submit",
       "layout": "IPY_MODEL_4cb2ba4a085840ad94636cc985219d13",
       "style": "IPY_MODEL_7294ef707c7b472eb1e998a215deb796",
       "tooltip": null
      }
     },
     "120c063d9d044bcf9ff405e17fd0ff1f": {
      "model_module": "@jupyter-widgets/controls",
      "model_module_version": "2.0.0",
      "model_name": "ButtonStyleModel",
      "state": {
       "font_family": null,
       "font_size": null,
       "font_style": null,
       "font_variant": null,
       "font_weight": null,
       "text_color": null,
       "text_decoration": null
      }
     },
     "12cda308804e4c25aff75a6343762709": {
      "model_module": "@jupyter-widgets/controls",
      "model_module_version": "2.0.0",
      "model_name": "HTMLStyleModel",
      "state": {
       "description_width": "",
       "font_size": null,
       "text_color": null
      }
     },
     "12da78167f354ccd86451ce222ddd50d": {
      "model_module": "@jupyter-widgets/base",
      "model_module_version": "2.0.0",
      "model_name": "LayoutModel",
      "state": {}
     },
     "1457061a4eb840bea0c47a0a8c0bf553": {
      "model_module": "@jupyter-widgets/base",
      "model_module_version": "2.0.0",
      "model_name": "LayoutModel",
      "state": {}
     },
     "178b8899219048fa8e1f5947c17b3b8f": {
      "model_module": "@jupyter-widgets/controls",
      "model_module_version": "2.0.0",
      "model_name": "IntSliderModel",
      "state": {
       "behavior": "drag-tap",
       "description": "Neuron",
       "layout": "IPY_MODEL_dcc2b945abe7425db0654b5b37ac8264",
       "style": "IPY_MODEL_eced40b5f0964820ad8a12c83653bef6"
      }
     },
     "17ed8a10d3b64f509a6c1dfbc3c0dea6": {
      "model_module": "@jupyter-widgets/controls",
      "model_module_version": "2.0.0",
      "model_name": "ButtonStyleModel",
      "state": {
       "font_family": null,
       "font_size": null,
       "font_style": null,
       "font_variant": null,
       "font_weight": null,
       "text_color": null,
       "text_decoration": null
      }
     },
     "18068ee2d7fe4752bb08dd86cce18452": {
      "model_module": "@jupyter-widgets/controls",
      "model_module_version": "2.0.0",
      "model_name": "ButtonModel",
      "state": {
       "description": "Submit",
       "layout": "IPY_MODEL_655fba5a4741412db4bfbc31afd42b45",
       "style": "IPY_MODEL_b7391d790ca74dfb8cb8e0ec22e758a9",
       "tooltip": null
      }
     },
     "186a049ca2b4473082f7564faed447c6": {
      "model_module": "@jupyter-widgets/controls",
      "model_module_version": "2.0.0",
      "model_name": "HTMLModel",
      "state": {
       "layout": "IPY_MODEL_d3c386e9e092450d9b1746d216ef88dd",
       "style": "IPY_MODEL_a545ca3a47b54be2aeeee0e6805d54e3",
       "value": "<h4>Select the <i>group</i> and <i>file</i> that you would like to analyze.</h4>"
      }
     },
     "18c507d5ccc04d6b9cb4ac805e166baa": {
      "model_module": "@jupyter-widgets/controls",
      "model_module_version": "2.0.0",
      "model_name": "HTMLModel",
      "state": {
       "layout": "IPY_MODEL_55bb66d96e42478fa6a1a43a9fe22418",
       "style": "IPY_MODEL_e5d195b7325146968cf7852fa4bcfdf7",
       "value": "<h3>Select the <i>group</b> and <b>file</b> that you would like to analyze.</h3>"
      }
     },
     "19f3a84b5aae4a6892326d3edb5e29ef": {
      "model_module": "@jupyter-widgets/controls",
      "model_module_version": "2.0.0",
      "model_name": "DropdownModel",
      "state": {
       "_options_labels": [
        "data_before",
        "data_stim",
        "data_after"
       ],
       "description": "File:",
       "index": 2,
       "layout": "IPY_MODEL_6bef2e08c8584571b1d4817f6995481c",
       "style": "IPY_MODEL_b2ef7d26ca2d482cac20f333cb636806"
      }
     },
     "1cf81265505147609d7a9daf3b63cf4f": {
      "model_module": "@jupyter-widgets/base",
      "model_module_version": "2.0.0",
      "model_name": "LayoutModel",
      "state": {}
     },
     "1e30df2cf0ef45459a5514e97a6bd23c": {
      "model_module": "@jupyter-widgets/controls",
      "model_module_version": "2.0.0",
      "model_name": "HTMLModel",
      "state": {
       "layout": "IPY_MODEL_8b1330b494504e3295c69c6eb9e77e40",
       "style": "IPY_MODEL_3b279c535b5045a6869a6ffae0526405",
       "value": "<h4>Select the <i>neuron</i> you are interested in.</h4>"
      }
     },
     "1ee51b3653b44f73bc2047a52660b655": {
      "model_module": "@jupyter-widgets/controls",
      "model_module_version": "2.0.0",
      "model_name": "DropdownModel",
      "state": {
       "_options_labels": [
        "data_before",
        "data_stim",
        "data_after"
       ],
       "description": "File:",
       "index": 2,
       "layout": "IPY_MODEL_b30d53004cb043d1baef56e03df32f30",
       "style": "IPY_MODEL_3b28533970ab4839ae6fe7ac7638916d"
      }
     },
     "1f4f986297be48e8bc3abaee50a9efca": {
      "model_module": "@jupyter-widgets/base",
      "model_module_version": "2.0.0",
      "model_name": "LayoutModel",
      "state": {}
     },
     "1f8117bde7df4b0e92e0a1b87cad8d0f": {
      "model_module": "@jupyter-widgets/controls",
      "model_module_version": "2.0.0",
      "model_name": "SliderStyleModel",
      "state": {
       "description_width": ""
      }
     },
     "2083aab671444129b9ec395ddf001fb1": {
      "model_module": "@jupyter-widgets/base",
      "model_module_version": "2.0.0",
      "model_name": "LayoutModel",
      "state": {}
     },
     "2202ca9743ff481ab75daff5f79edf28": {
      "model_module": "@jupyter-widgets/controls",
      "model_module_version": "2.0.0",
      "model_name": "HTMLModel",
      "state": {
       "layout": "IPY_MODEL_0601405cbc0d494085be0a6d7568a23f",
       "style": "IPY_MODEL_af07fdc7b26444ecac7f7fc0533d88cf",
       "value": "<h4>Select the <i>neuron</i> you are interested in.</h4>"
      }
     },
     "232a1c6799c44038aca7bd1bf244b07f": {
      "model_module": "@jupyter-widgets/controls",
      "model_module_version": "2.0.0",
      "model_name": "HTMLStyleModel",
      "state": {
       "description_width": "",
       "font_size": null,
       "text_color": null
      }
     },
     "25a04f46533346378d1d306f71e6128a": {
      "model_module": "@jupyter-widgets/base",
      "model_module_version": "2.0.0",
      "model_name": "LayoutModel",
      "state": {}
     },
     "26ab16ebb23640fab4ae808919f1c344": {
      "model_module": "@jupyter-widgets/base",
      "model_module_version": "2.0.0",
      "model_name": "LayoutModel",
      "state": {}
     },
     "273711478ac04b8593e76ce1d9e2eb33": {
      "model_module": "@jupyter-widgets/base",
      "model_module_version": "2.0.0",
      "model_name": "LayoutModel",
      "state": {}
     },
     "276897530bbb4a6f82f5d47183791c76": {
      "model_module": "@jupyter-widgets/controls",
      "model_module_version": "2.0.0",
      "model_name": "ButtonStyleModel",
      "state": {
       "font_family": null,
       "font_size": null,
       "font_style": null,
       "font_variant": null,
       "font_weight": null,
       "text_color": null,
       "text_decoration": null
      }
     },
     "283edc0539fd4de4a08b1a3fceaa060b": {
      "model_module": "@jupyter-widgets/controls",
      "model_module_version": "2.0.0",
      "model_name": "DropdownModel",
      "state": {
       "_options_labels": [
        "data_before",
        "data_stim",
        "data_after"
       ],
       "description": "File:",
       "index": 2,
       "layout": "IPY_MODEL_5d6e6ff34a1b4d12be7c04de13574e3f",
       "style": "IPY_MODEL_69b8f44beb9d41e2bd5639d6f8db5274"
      }
     },
     "287057e778ab4653aae2c8f34dcba63b": {
      "model_module": "@jupyter-widgets/controls",
      "model_module_version": "2.0.0",
      "model_name": "DescriptionStyleModel",
      "state": {
       "description_width": ""
      }
     },
     "2900bedae2c54055bb1e8229e214e207": {
      "model_module": "@jupyter-widgets/controls",
      "model_module_version": "2.0.0",
      "model_name": "HTMLModel",
      "state": {
       "layout": "IPY_MODEL_bdade68c80bc42b0af0604856200db3b",
       "style": "IPY_MODEL_c6fa7f4b62d04873af991fab70b18fc5",
       "value": "<h4>Select the <i>neuron</i> you are interested in.</h4>"
      }
     },
     "2a7610951995463899203c42f693250c": {
      "model_module": "@jupyter-widgets/controls",
      "model_module_version": "2.0.0",
      "model_name": "HTMLStyleModel",
      "state": {
       "description_width": "",
       "font_size": null,
       "text_color": null
      }
     },
     "2c21a7e5674e48aab1681f7f729d73af": {
      "model_module": "@jupyter-widgets/controls",
      "model_module_version": "2.0.0",
      "model_name": "ButtonStyleModel",
      "state": {
       "font_family": null,
       "font_size": null,
       "font_style": null,
       "font_variant": null,
       "font_weight": null,
       "text_color": null,
       "text_decoration": null
      }
     },
     "2cca789a15dd4d7dbcf78710f34b469b": {
      "model_module": "@jupyter-widgets/base",
      "model_module_version": "2.0.0",
      "model_name": "LayoutModel",
      "state": {}
     },
     "2d4e207247034b7eb9fa111e164d1e19": {
      "model_module": "@jupyter-widgets/base",
      "model_module_version": "2.0.0",
      "model_name": "LayoutModel",
      "state": {}
     },
     "2e21ae1eece44b079314e2a4dc809cab": {
      "model_module": "@jupyter-widgets/base",
      "model_module_version": "2.0.0",
      "model_name": "LayoutModel",
      "state": {}
     },
     "2ffdc8e2af2f4b2e9141ae4e79678ef2": {
      "model_module": "@jupyter-widgets/base",
      "model_module_version": "2.0.0",
      "model_name": "LayoutModel",
      "state": {}
     },
     "3323159d80354924898b271601718b30": {
      "model_module": "@jupyter-widgets/controls",
      "model_module_version": "2.0.0",
      "model_name": "HTMLModel",
      "state": {
       "layout": "IPY_MODEL_c62fb5ee833d43e3a3a4a25b2e7f59cf",
       "style": "IPY_MODEL_d5dbc0c32a9c4a31b9f4b6994ae27892",
       "value": "<h4>Select the <i>group</i> and <i>file</i> that you would like to analyze.</h4>"
      }
     },
     "35ceef0c519143198dbe6791905fa8f0": {
      "model_module": "@jupyter-widgets/controls",
      "model_module_version": "2.0.0",
      "model_name": "ButtonModel",
      "state": {
       "description": "Submit",
       "layout": "IPY_MODEL_becf56a65dec43d5baa3356fa0b576ad",
       "style": "IPY_MODEL_120c063d9d044bcf9ff405e17fd0ff1f",
       "tooltip": null
      }
     },
     "365b742350d34df6bb2d9f1f4d066ca5": {
      "model_module": "@jupyter-widgets/controls",
      "model_module_version": "2.0.0",
      "model_name": "ButtonStyleModel",
      "state": {
       "font_family": null,
       "font_size": null,
       "font_style": null,
       "font_variant": null,
       "font_weight": null,
       "text_color": null,
       "text_decoration": null
      }
     },
     "367eee01e49746b4b82137632471d7b8": {
      "model_module": "@jupyter-widgets/controls",
      "model_module_version": "2.0.0",
      "model_name": "SliderStyleModel",
      "state": {
       "description_width": ""
      }
     },
     "3726684e84c741c881316a9a80334ffe": {
      "model_module": "@jupyter-widgets/controls",
      "model_module_version": "2.0.0",
      "model_name": "HTMLModel",
      "state": {
       "layout": "IPY_MODEL_1f4f986297be48e8bc3abaee50a9efca",
       "style": "IPY_MODEL_999dcdbfdb854bf7bfb124581577c813",
       "value": "<h3>Select the <strong>group</b> and <b>file</b> that you would like to analyze.</h3>"
      }
     },
     "376796fcb47941d197b405501b7cec17": {
      "model_module": "@jupyter-widgets/base",
      "model_module_version": "2.0.0",
      "model_name": "LayoutModel",
      "state": {}
     },
     "37cc0f095fe94157990a15545bc836d4": {
      "model_module": "@jupyter-widgets/base",
      "model_module_version": "2.0.0",
      "model_name": "LayoutModel",
      "state": {}
     },
     "37cdc4565715428f86b69a519b9e22e1": {
      "model_module": "@jupyter-widgets/controls",
      "model_module_version": "2.0.0",
      "model_name": "HTMLModel",
      "state": {
       "layout": "IPY_MODEL_d68683d7abdd4b43a78b040736957844",
       "style": "IPY_MODEL_12cda308804e4c25aff75a6343762709",
       "value": "<h4>Select the <i>neuron</i> you are interested in.</h4>"
      }
     },
     "382d14d9df334cdcadd90fcddb3c47e4": {
      "model_module": "@jupyter-widgets/controls",
      "model_module_version": "2.0.0",
      "model_name": "DropdownModel",
      "state": {
       "_options_labels": [
        "2",
        "3",
        "4",
        "5",
        "6"
       ],
       "description": "Group:",
       "index": 0,
       "layout": "IPY_MODEL_9288ca8c9a514f689927ffcc850a6beb",
       "style": "IPY_MODEL_ed1531e96312479eb5f28538f2af6035"
      }
     },
     "3941e481d3cc4dfda5968bf3c02373f1": {
      "model_module": "@jupyter-widgets/controls",
      "model_module_version": "2.0.0",
      "model_name": "HTMLStyleModel",
      "state": {
       "description_width": "",
       "font_size": null,
       "text_color": null
      }
     },
     "39a14f0ca0ad4ce2ac6073dc96215ffe": {
      "model_module": "@jupyter-widgets/controls",
      "model_module_version": "2.0.0",
      "model_name": "HTMLModel",
      "state": {
       "layout": "IPY_MODEL_b18995bd2eac4079b5d5003a090cee25",
       "style": "IPY_MODEL_e6f76bd4fff845b1bde4fea571c846de",
       "value": "<h4>Select the <i>group</i> and <i>file</i> that you would like to analyze.</h4>"
      }
     },
     "3a6e2e92e18c453491732f6c38f46351": {
      "model_module": "@jupyter-widgets/base",
      "model_module_version": "2.0.0",
      "model_name": "LayoutModel",
      "state": {}
     },
     "3b279c535b5045a6869a6ffae0526405": {
      "model_module": "@jupyter-widgets/controls",
      "model_module_version": "2.0.0",
      "model_name": "HTMLStyleModel",
      "state": {
       "description_width": "",
       "font_size": null,
       "text_color": null
      }
     },
     "3b28533970ab4839ae6fe7ac7638916d": {
      "model_module": "@jupyter-widgets/controls",
      "model_module_version": "2.0.0",
      "model_name": "DescriptionStyleModel",
      "state": {
       "description_width": ""
      }
     },
     "3b869cde859f42019858b7c0a8fdc301": {
      "model_module": "@jupyter-widgets/controls",
      "model_module_version": "2.0.0",
      "model_name": "SliderStyleModel",
      "state": {
       "description_width": ""
      }
     },
     "3e5a6d5e4c9342a68e7620d6a2998a4c": {
      "model_module": "@jupyter-widgets/base",
      "model_module_version": "2.0.0",
      "model_name": "LayoutModel",
      "state": {}
     },
     "40f3c4af82bd480e947d804a6f8dd1e1": {
      "model_module": "@jupyter-widgets/controls",
      "model_module_version": "2.0.0",
      "model_name": "DescriptionStyleModel",
      "state": {
       "description_width": ""
      }
     },
     "4148091aa1124196b04602e9e577ab22": {
      "model_module": "@jupyter-widgets/controls",
      "model_module_version": "2.0.0",
      "model_name": "ButtonModel",
      "state": {
       "description": "Submit",
       "layout": "IPY_MODEL_d75ca06450cd41cea62de286b99e8968",
       "style": "IPY_MODEL_276897530bbb4a6f82f5d47183791c76",
       "tooltip": null
      }
     },
     "4300158c8e6147dc8cfee2c0c7e67499": {
      "model_module": "@jupyter-widgets/base",
      "model_module_version": "2.0.0",
      "model_name": "LayoutModel",
      "state": {}
     },
     "43b7809912af42f2b1bd9f70184abbe4": {
      "model_module": "@jupyter-widgets/base",
      "model_module_version": "2.0.0",
      "model_name": "LayoutModel",
      "state": {}
     },
     "4439740266da47b5aa54eb717afed067": {
      "model_module": "@jupyter-widgets/controls",
      "model_module_version": "2.0.0",
      "model_name": "ButtonStyleModel",
      "state": {
       "font_family": null,
       "font_size": null,
       "font_style": null,
       "font_variant": null,
       "font_weight": null,
       "text_color": null,
       "text_decoration": null
      }
     },
     "452a89e47b4c418d8e876b8a15773cfe": {
      "model_module": "@jupyter-widgets/controls",
      "model_module_version": "2.0.0",
      "model_name": "ButtonStyleModel",
      "state": {
       "font_family": null,
       "font_size": null,
       "font_style": null,
       "font_variant": null,
       "font_weight": null,
       "text_color": null,
       "text_decoration": null
      }
     },
     "46fa94f405d84c0baadafaad5aed16e8": {
      "model_module": "@jupyter-widgets/controls",
      "model_module_version": "2.0.0",
      "model_name": "DropdownModel",
      "state": {
       "_options_labels": [
        "2",
        "3",
        "4",
        "5",
        "6"
       ],
       "description": "Group:",
       "index": 0,
       "layout": "IPY_MODEL_5ebe2646d79f4c8682dba6f1b6704f0b",
       "style": "IPY_MODEL_61e674dc4b634aa8a001d2d94c8b0bd9"
      }
     },
     "4770badde4594f06a16a0f6440d5ddd6": {
      "model_module": "@jupyter-widgets/controls",
      "model_module_version": "2.0.0",
      "model_name": "IntSliderModel",
      "state": {
       "behavior": "drag-tap",
       "layout": "IPY_MODEL_0de73af27b4c420cb3b713ff6f6bfe64",
       "max": 50,
       "style": "IPY_MODEL_7de4378bc26c4cacabfbb45a86fe1109"
      }
     },
     "47d58b8cdfd0466f86144feb66815637": {
      "model_module": "@jupyter-widgets/controls",
      "model_module_version": "2.0.0",
      "model_name": "HTMLStyleModel",
      "state": {
       "description_width": "",
       "font_size": null,
       "text_color": null
      }
     },
     "493d17ac89c944d2a0546d57bf0fed16": {
      "model_module": "@jupyter-widgets/controls",
      "model_module_version": "2.0.0",
      "model_name": "HTMLStyleModel",
      "state": {
       "description_width": "",
       "font_size": null,
       "text_color": null
      }
     },
     "4cb2ba4a085840ad94636cc985219d13": {
      "model_module": "@jupyter-widgets/base",
      "model_module_version": "2.0.0",
      "model_name": "LayoutModel",
      "state": {}
     },
     "4d452789d1f44424b1855decdc5df318": {
      "model_module": "@jupyter-widgets/controls",
      "model_module_version": "2.0.0",
      "model_name": "HTMLModel",
      "state": {
       "layout": "IPY_MODEL_cf5b71d1fef543a4bfcfdf36a272816e",
       "style": "IPY_MODEL_9331631eeb404249bfa0ed8de9278826",
       "value": "<h4>Select the <i>group</i> and <i>file</i> that you would like to analyze.</h4>"
      }
     },
     "4f080de64c554f8f82b1ce321e50095b": {
      "model_module": "@jupyter-widgets/controls",
      "model_module_version": "2.0.0",
      "model_name": "ButtonModel",
      "state": {
       "description": "Submit",
       "layout": "IPY_MODEL_cb37735b0b7141278b20d51df8cd5344",
       "style": "IPY_MODEL_452a89e47b4c418d8e876b8a15773cfe",
       "tooltip": null
      }
     },
     "50274c7b65e3476ab2e8f5098069d235": {
      "model_module": "@jupyter-widgets/controls",
      "model_module_version": "2.0.0",
      "model_name": "HTMLStyleModel",
      "state": {
       "description_width": "",
       "font_size": null,
       "text_color": null
      }
     },
     "508fdc892ca74bbd92e097c565428948": {
      "model_module": "@jupyter-widgets/controls",
      "model_module_version": "2.0.0",
      "model_name": "DescriptionStyleModel",
      "state": {
       "description_width": ""
      }
     },
     "511118b0b74e4aca93218846e2c571d6": {
      "model_module": "@jupyter-widgets/base",
      "model_module_version": "2.0.0",
      "model_name": "LayoutModel",
      "state": {}
     },
     "51b6b47a408043bb8d08989a4059151c": {
      "model_module": "@jupyter-widgets/controls",
      "model_module_version": "2.0.0",
      "model_name": "ButtonStyleModel",
      "state": {
       "font_family": null,
       "font_size": null,
       "font_style": null,
       "font_variant": null,
       "font_weight": null,
       "text_color": null,
       "text_decoration": null
      }
     },
     "5436babf430f4c1c8aab66b7b17ee6f1": {
      "model_module": "@jupyter-widgets/base",
      "model_module_version": "2.0.0",
      "model_name": "LayoutModel",
      "state": {}
     },
     "544aeb467f1246269aab30bcf73fd7e8": {
      "model_module": "@jupyter-widgets/controls",
      "model_module_version": "2.0.0",
      "model_name": "HTMLStyleModel",
      "state": {
       "description_width": "",
       "font_size": null,
       "text_color": null
      }
     },
     "54c7aeec72a343bab51e831cb1c6079a": {
      "model_module": "@jupyter-widgets/controls",
      "model_module_version": "2.0.0",
      "model_name": "ButtonModel",
      "state": {
       "description": "Reset",
       "layout": "IPY_MODEL_376796fcb47941d197b405501b7cec17",
       "style": "IPY_MODEL_d3142918a26540bab0ebd483361a6f7f",
       "tooltip": null
      }
     },
     "5501f03fdbe140ecbcff3594a2e1e3b5": {
      "model_module": "@jupyter-widgets/controls",
      "model_module_version": "2.0.0",
      "model_name": "VBoxModel",
      "state": {
       "children": [
        "IPY_MODEL_d6d59df784fb4fb684038ad7e329a122",
        "IPY_MODEL_382d14d9df334cdcadd90fcddb3c47e4",
        "IPY_MODEL_6964dac297b34e2390e13d8aaaff1c0c",
        "IPY_MODEL_6556f8b493cb49b8a35a545e355bdf19"
       ],
       "layout": "IPY_MODEL_e915222d7bd64fd38f39045d239ce50f"
      }
     },
     "55bb66d96e42478fa6a1a43a9fe22418": {
      "model_module": "@jupyter-widgets/base",
      "model_module_version": "2.0.0",
      "model_name": "LayoutModel",
      "state": {}
     },
     "561b62fd5d3e41f8808cfa055326899b": {
      "model_module": "@jupyter-widgets/controls",
      "model_module_version": "2.0.0",
      "model_name": "VBoxModel",
      "state": {
       "children": [
        "IPY_MODEL_8e77dba5d6f949879f3b626d8fcf0d56",
        "IPY_MODEL_f0e58c0da0974f39bbb96669d1b2af19",
        "IPY_MODEL_19f3a84b5aae4a6892326d3edb5e29ef",
        "IPY_MODEL_c31b0ff41aee4dcfaec50069d85cc2ec"
       ],
       "layout": "IPY_MODEL_7d9697cfd1b6446789fcea71600a317d"
      }
     },
     "565a02b7b8d04cb9896eaa5225763750": {
      "model_module": "@jupyter-widgets/controls",
      "model_module_version": "2.0.0",
      "model_name": "DescriptionStyleModel",
      "state": {
       "description_width": ""
      }
     },
     "568c503b965946df8dc7a7b7929b74f3": {
      "model_module": "@jupyter-widgets/base",
      "model_module_version": "2.0.0",
      "model_name": "LayoutModel",
      "state": {}
     },
     "569baea1050e4d0a802fde4dd0dd1902": {
      "model_module": "@jupyter-widgets/base",
      "model_module_version": "2.0.0",
      "model_name": "LayoutModel",
      "state": {}
     },
     "57fd255d1e1d42ef8a2a4c4ce6982ec3": {
      "model_module": "@jupyter-widgets/controls",
      "model_module_version": "2.0.0",
      "model_name": "HTMLStyleModel",
      "state": {
       "description_width": "",
       "font_size": null,
       "text_color": null
      }
     },
     "599be87983eb40108af1488572c8388f": {
      "model_module": "@jupyter-widgets/base",
      "model_module_version": "2.0.0",
      "model_name": "LayoutModel",
      "state": {}
     },
     "5d6e6ff34a1b4d12be7c04de13574e3f": {
      "model_module": "@jupyter-widgets/base",
      "model_module_version": "2.0.0",
      "model_name": "LayoutModel",
      "state": {}
     },
     "5e1333f0bcbf4ee5848ebd333060a9b3": {
      "model_module": "@jupyter-widgets/controls",
      "model_module_version": "2.0.0",
      "model_name": "HTMLModel",
      "state": {
       "layout": "IPY_MODEL_2ffdc8e2af2f4b2e9141ae4e79678ef2",
       "style": "IPY_MODEL_9414ba8f7d264231a5fd211a6ba72fb3",
       "value": "<h4>Select the <i>neuron</i> you are interested in.</h4>"
      }
     },
     "5e49952e586744eeaa1ba1e242da06ec": {
      "model_module": "@jupyter-widgets/base",
      "model_module_version": "2.0.0",
      "model_name": "LayoutModel",
      "state": {}
     },
     "5e7c3253f54e40c1a9fabe25db2cea04": {
      "model_module": "@jupyter-widgets/controls",
      "model_module_version": "2.0.0",
      "model_name": "SliderStyleModel",
      "state": {
       "description_width": ""
      }
     },
     "5ebd018f8c2c4f4d9def5033c79f43e3": {
      "model_module": "@jupyter-widgets/controls",
      "model_module_version": "2.0.0",
      "model_name": "DropdownModel",
      "state": {
       "_options_labels": [
        "data_before",
        "data_stim",
        "data_after"
       ],
       "description": "File:",
       "index": 2,
       "layout": "IPY_MODEL_df587efb66724c4dbd5b0ec876aab57b",
       "style": "IPY_MODEL_efd1914afbb647549392d46ade960bce"
      }
     },
     "5ebe2646d79f4c8682dba6f1b6704f0b": {
      "model_module": "@jupyter-widgets/base",
      "model_module_version": "2.0.0",
      "model_name": "LayoutModel",
      "state": {}
     },
     "5f877f2ee6f34a119e96c86c26ee4804": {
      "model_module": "@jupyter-widgets/controls",
      "model_module_version": "2.0.0",
      "model_name": "ButtonModel",
      "state": {
       "description": "Submit",
       "layout": "IPY_MODEL_26ab16ebb23640fab4ae808919f1c344",
       "style": "IPY_MODEL_17ed8a10d3b64f509a6c1dfbc3c0dea6",
       "tooltip": null
      }
     },
     "61e674dc4b634aa8a001d2d94c8b0bd9": {
      "model_module": "@jupyter-widgets/controls",
      "model_module_version": "2.0.0",
      "model_name": "DescriptionStyleModel",
      "state": {
       "description_width": ""
      }
     },
     "6556f8b493cb49b8a35a545e355bdf19": {
      "model_module": "@jupyter-widgets/controls",
      "model_module_version": "2.0.0",
      "model_name": "ButtonModel",
      "state": {
       "description": "Submit",
       "layout": "IPY_MODEL_fe3b1aafccac4317a148398cd32a96d0",
       "style": "IPY_MODEL_fb19b90eef8843569d7bfde3ee126459",
       "tooltip": null
      }
     },
     "655fba5a4741412db4bfbc31afd42b45": {
      "model_module": "@jupyter-widgets/base",
      "model_module_version": "2.0.0",
      "model_name": "LayoutModel",
      "state": {}
     },
     "6683c5578c4349958d80059f564e8cf6": {
      "model_module": "@jupyter-widgets/controls",
      "model_module_version": "2.0.0",
      "model_name": "HTMLModel",
      "state": {
       "layout": "IPY_MODEL_7ead80c22a1a47f481cbed6ffd0b99be",
       "style": "IPY_MODEL_72a0febcfe14405aa8b5f5af7aea931b",
       "value": "<h4>Select the <i>neuron</i> you are interested in.</h4>"
      }
     },
     "66a26d8740f246b89070cae46cfa80e1": {
      "model_module": "@jupyter-widgets/controls",
      "model_module_version": "2.0.0",
      "model_name": "HTMLModel",
      "state": {
       "layout": "IPY_MODEL_e80b024921bf4b508429e0728c0a78bc",
       "style": "IPY_MODEL_b53b0459638b43219287343cb3533e7d",
       "value": "<h4>Displaying Neuron 15 for Group 2, data_after</h4>"
      }
     },
     "67c6e7da38d1462e94d123665c56c368": {
      "model_module": "@jupyter-widgets/controls",
      "model_module_version": "2.0.0",
      "model_name": "DescriptionStyleModel",
      "state": {
       "description_width": ""
      }
     },
     "689060c535e44a42a3ae63c888e28893": {
      "model_module": "@jupyter-widgets/controls",
      "model_module_version": "2.0.0",
      "model_name": "DescriptionStyleModel",
      "state": {
       "description_width": ""
      }
     },
     "6964dac297b34e2390e13d8aaaff1c0c": {
      "model_module": "@jupyter-widgets/controls",
      "model_module_version": "2.0.0",
      "model_name": "DropdownModel",
      "state": {
       "_options_labels": [
        "data_before",
        "data_stim",
        "data_after"
       ],
       "description": "File:",
       "index": 2,
       "layout": "IPY_MODEL_f2732a68c01440f88b2a7af037cc8f32",
       "style": "IPY_MODEL_508fdc892ca74bbd92e097c565428948"
      }
     },
     "69b8f44beb9d41e2bd5639d6f8db5274": {
      "model_module": "@jupyter-widgets/controls",
      "model_module_version": "2.0.0",
      "model_name": "DescriptionStyleModel",
      "state": {
       "description_width": ""
      }
     },
     "6bef2e08c8584571b1d4817f6995481c": {
      "model_module": "@jupyter-widgets/base",
      "model_module_version": "2.0.0",
      "model_name": "LayoutModel",
      "state": {}
     },
     "6ddf7c88277b4af8903aaff1665dd2c0": {
      "model_module": "@jupyter-widgets/base",
      "model_module_version": "2.0.0",
      "model_name": "LayoutModel",
      "state": {}
     },
     "6e343336c2984713a9a51794d3c5c5e9": {
      "model_module": "@jupyter-widgets/controls",
      "model_module_version": "2.0.0",
      "model_name": "VBoxModel",
      "state": {
       "children": [
        "IPY_MODEL_186a049ca2b4473082f7564faed447c6",
        "IPY_MODEL_fdfd7d4d28564dcf8c039e24183743bb",
        "IPY_MODEL_a395a3a2493e426c83ef04caa476e66e"
       ],
       "layout": "IPY_MODEL_2083aab671444129b9ec395ddf001fb1"
      }
     },
     "70433e728eb047479f73bc4466d7aedf": {
      "model_module": "@jupyter-widgets/controls",
      "model_module_version": "2.0.0",
      "model_name": "VBoxModel",
      "state": {
       "children": [
        "IPY_MODEL_bd55e987f17348a6b091b9b94a6927f5",
        "IPY_MODEL_adb3428cb8284d81a66fe62e4da2a576",
        "IPY_MODEL_d891634c7fc145948578b2a9e717fdac",
        "IPY_MODEL_18068ee2d7fe4752bb08dd86cce18452"
       ],
       "layout": "IPY_MODEL_2e21ae1eece44b079314e2a4dc809cab"
      }
     },
     "7294ef707c7b472eb1e998a215deb796": {
      "model_module": "@jupyter-widgets/controls",
      "model_module_version": "2.0.0",
      "model_name": "ButtonStyleModel",
      "state": {
       "font_family": null,
       "font_size": null,
       "font_style": null,
       "font_variant": null,
       "font_weight": null,
       "text_color": null,
       "text_decoration": null
      }
     },
     "72a0febcfe14405aa8b5f5af7aea931b": {
      "model_module": "@jupyter-widgets/controls",
      "model_module_version": "2.0.0",
      "model_name": "HTMLStyleModel",
      "state": {
       "description_width": "",
       "font_size": null,
       "text_color": null
      }
     },
     "732a2a97200b42b292f0a0cb65f280ad": {
      "model_module": "@jupyter-widgets/controls",
      "model_module_version": "2.0.0",
      "model_name": "VBoxModel",
      "state": {
       "children": [
        "IPY_MODEL_2900bedae2c54055bb1e8229e214e207",
        "IPY_MODEL_e5be269d0e024e32afb826692f260bf5",
        "IPY_MODEL_a6c223d5998a4641bc0c9d375903d043"
       ],
       "layout": "IPY_MODEL_e11f375d2b084579a71798c7ccbd0d9f"
      }
     },
     "7607b479438d41db99c08e136da5c1c5": {
      "model_module": "@jupyter-widgets/controls",
      "model_module_version": "2.0.0",
      "model_name": "HTMLStyleModel",
      "state": {
       "description_width": "",
       "font_size": null,
       "text_color": null
      }
     },
     "771561c0f2194b19934cba391e8c0402": {
      "model_module": "@jupyter-widgets/controls",
      "model_module_version": "2.0.0",
      "model_name": "ButtonModel",
      "state": {
       "description": "Submit",
       "layout": "IPY_MODEL_000575890f524fd6a4bad5ee1b8d3a6e",
       "style": "IPY_MODEL_51b6b47a408043bb8d08989a4059151c",
       "tooltip": null
      }
     },
     "79230c5465374ef39c49c0ee4e5ab050": {
      "model_module": "@jupyter-widgets/base",
      "model_module_version": "2.0.0",
      "model_name": "LayoutModel",
      "state": {}
     },
     "7998756ccde3443a89d220cc2a12cb45": {
      "model_module": "@jupyter-widgets/controls",
      "model_module_version": "2.0.0",
      "model_name": "HTMLModel",
      "state": {
       "layout": "IPY_MODEL_43b7809912af42f2b1bd9f70184abbe4",
       "style": "IPY_MODEL_b65e053d2f5244488c9f5142df1aa506",
       "value": "<h4>Displaying Neuron 15 for Group 2, data_after</h4>"
      }
     },
     "7a4f0446e386430a85624c601d634947": {
      "model_module": "@jupyter-widgets/controls",
      "model_module_version": "2.0.0",
      "model_name": "DropdownModel",
      "state": {
       "_options_labels": [
        "data_before",
        "data_stim",
        "data_after"
       ],
       "description": "File:",
       "index": 2,
       "layout": "IPY_MODEL_511118b0b74e4aca93218846e2c571d6",
       "style": "IPY_MODEL_079e2ccc658147208f009b81a334e82c"
      }
     },
     "7d089a8f192e432f9c7ff197eebda0dc": {
      "model_module": "@jupyter-widgets/controls",
      "model_module_version": "2.0.0",
      "model_name": "SliderStyleModel",
      "state": {
       "description_width": ""
      }
     },
     "7d9697cfd1b6446789fcea71600a317d": {
      "model_module": "@jupyter-widgets/base",
      "model_module_version": "2.0.0",
      "model_name": "LayoutModel",
      "state": {}
     },
     "7de4378bc26c4cacabfbb45a86fe1109": {
      "model_module": "@jupyter-widgets/controls",
      "model_module_version": "2.0.0",
      "model_name": "SliderStyleModel",
      "state": {
       "description_width": ""
      }
     },
     "7e19c9cce5cf4da2af88ecb78ec693ba": {
      "model_module": "@jupyter-widgets/base",
      "model_module_version": "2.0.0",
      "model_name": "LayoutModel",
      "state": {}
     },
     "7ead80c22a1a47f481cbed6ffd0b99be": {
      "model_module": "@jupyter-widgets/base",
      "model_module_version": "2.0.0",
      "model_name": "LayoutModel",
      "state": {}
     },
     "7f248061c3b64bd5abb59ca24cbcf67b": {
      "model_module": "@jupyter-widgets/controls",
      "model_module_version": "2.0.0",
      "model_name": "ButtonModel",
      "state": {
       "description": "Submit",
       "layout": "IPY_MODEL_f48cce5362f84d72aff15c319b70cdee",
       "style": "IPY_MODEL_f29451645a0e47fa950a7adcde17f08c",
       "tooltip": null
      }
     },
     "801c0fa3c023460f9a58100e32be6c39": {
      "model_module": "@jupyter-widgets/base",
      "model_module_version": "2.0.0",
      "model_name": "LayoutModel",
      "state": {}
     },
     "803ae22096e94b4e96a89e6ed013248c": {
      "model_module": "@jupyter-widgets/controls",
      "model_module_version": "2.0.0",
      "model_name": "IntSliderModel",
      "state": {
       "behavior": "drag-tap",
       "description": "Neuron:",
       "layout": "IPY_MODEL_062e2bd9cf43490aa2dba2d492e08a00",
       "max": 50,
       "style": "IPY_MODEL_7d089a8f192e432f9c7ff197eebda0dc",
       "value": 50
      }
     },
     "814b9d707e85427ba99f2228d5870ca6": {
      "model_module": "@jupyter-widgets/base",
      "model_module_version": "2.0.0",
      "model_name": "LayoutModel",
      "state": {}
     },
     "833b5443b51248249fbe519c638ed36c": {
      "model_module": "@jupyter-widgets/base",
      "model_module_version": "2.0.0",
      "model_name": "LayoutModel",
      "state": {}
     },
     "85ca21bffb46475d8c576993e8fabe83": {
      "model_module": "@jupyter-widgets/controls",
      "model_module_version": "2.0.0",
      "model_name": "VBoxModel",
      "state": {
       "children": [
        "IPY_MODEL_1e30df2cf0ef45459a5514e97a6bd23c",
        "IPY_MODEL_00d8d63113e44a738caa7780b8361167",
        "IPY_MODEL_11926236161c4103bd294e2b537b48d9"
       ],
       "layout": "IPY_MODEL_801c0fa3c023460f9a58100e32be6c39"
      }
     },
     "887fb8e225644120a794c53aa7de5c63": {
      "model_module": "@jupyter-widgets/base",
      "model_module_version": "2.0.0",
      "model_name": "LayoutModel",
      "state": {}
     },
     "88d59c860862447792b65e08a3814c2e": {
      "model_module": "@jupyter-widgets/base",
      "model_module_version": "2.0.0",
      "model_name": "LayoutModel",
      "state": {}
     },
     "8a085f981b244cca922fa68a09ff5cae": {
      "model_module": "@jupyter-widgets/controls",
      "model_module_version": "2.0.0",
      "model_name": "IntSliderModel",
      "state": {
       "behavior": "drag-tap",
       "layout": "IPY_MODEL_0f09fb315410409e9f848a12ffd01a7f",
       "style": "IPY_MODEL_367eee01e49746b4b82137632471d7b8",
       "value": 3
      }
     },
     "8a90f7a0ea8f4a658989744e6d1b5f8b": {
      "model_module": "@jupyter-widgets/controls",
      "model_module_version": "2.0.0",
      "model_name": "DescriptionStyleModel",
      "state": {
       "description_width": ""
      }
     },
     "8b1330b494504e3295c69c6eb9e77e40": {
      "model_module": "@jupyter-widgets/base",
      "model_module_version": "2.0.0",
      "model_name": "LayoutModel",
      "state": {}
     },
     "8b3077734e6d445a8aaae0e27c6edd39": {
      "model_module": "@jupyter-widgets/controls",
      "model_module_version": "2.0.0",
      "model_name": "DropdownModel",
      "state": {
       "_options_labels": [
        "data_before",
        "data_stim",
        "data_after"
       ],
       "description": "File:",
       "index": 2,
       "layout": "IPY_MODEL_599be87983eb40108af1488572c8388f",
       "style": "IPY_MODEL_d45f5c117cfc4824b36f4bd7109e4a5b"
      }
     },
     "8c9fd3bc30a74e83a17c6bfa3d059a86": {
      "model_module": "@jupyter-widgets/base",
      "model_module_version": "2.0.0",
      "model_name": "LayoutModel",
      "state": {}
     },
     "8ccdf87ab48d4194bfe90d82877b3c56": {
      "model_module": "@jupyter-widgets/controls",
      "model_module_version": "2.0.0",
      "model_name": "ButtonModel",
      "state": {
       "description": "Submit",
       "layout": "IPY_MODEL_6ddf7c88277b4af8903aaff1665dd2c0",
       "style": "IPY_MODEL_b991bae59d854e0b998b1cf145766bd0",
       "tooltip": null
      }
     },
     "8e77dba5d6f949879f3b626d8fcf0d56": {
      "model_module": "@jupyter-widgets/controls",
      "model_module_version": "2.0.0",
      "model_name": "HTMLModel",
      "state": {
       "layout": "IPY_MODEL_b424c61163634c5a850a8db63056fd70",
       "style": "IPY_MODEL_47d58b8cdfd0466f86144feb66815637",
       "value": "<h4>Select the <i>group</i> and <i>file</i> that you would like to analyze.</h4>"
      }
     },
     "8f96907a8f7549b88eade3d9d3877fc3": {
      "model_module": "@jupyter-widgets/base",
      "model_module_version": "2.0.0",
      "model_name": "LayoutModel",
      "state": {}
     },
     "91901ac1112e410490f4d91f1f94e248": {
      "model_module": "@jupyter-widgets/controls",
      "model_module_version": "2.0.0",
      "model_name": "ButtonStyleModel",
      "state": {
       "font_family": null,
       "font_size": null,
       "font_style": null,
       "font_variant": null,
       "font_weight": null,
       "text_color": null,
       "text_decoration": null
      }
     },
     "92775fec87e240f2923fe95a9a4bd9cd": {
      "model_module": "@jupyter-widgets/controls",
      "model_module_version": "2.0.0",
      "model_name": "HTMLModel",
      "state": {
       "layout": "IPY_MODEL_0e4ea18cafe4461ba0b332a5aad13a82",
       "style": "IPY_MODEL_3941e481d3cc4dfda5968bf3c02373f1",
       "value": "<h4>Displaying Neuron 15 for Group 2, data_after</h4>"
      }
     },
     "9288ca8c9a514f689927ffcc850a6beb": {
      "model_module": "@jupyter-widgets/base",
      "model_module_version": "2.0.0",
      "model_name": "LayoutModel",
      "state": {}
     },
     "9331631eeb404249bfa0ed8de9278826": {
      "model_module": "@jupyter-widgets/controls",
      "model_module_version": "2.0.0",
      "model_name": "HTMLStyleModel",
      "state": {
       "description_width": "",
       "font_size": null,
       "text_color": null
      }
     },
     "93c6184b23564fa78ea83ac45678e916": {
      "model_module": "@jupyter-widgets/controls",
      "model_module_version": "2.0.0",
      "model_name": "DropdownModel",
      "state": {
       "_options_labels": [
        "2",
        "3",
        "4",
        "5",
        "6"
       ],
       "description": "Group:",
       "index": 0,
       "layout": "IPY_MODEL_2d4e207247034b7eb9fa111e164d1e19",
       "style": "IPY_MODEL_07f869fb18eb4c20aae57fe65df2aef4"
      }
     },
     "9414ba8f7d264231a5fd211a6ba72fb3": {
      "model_module": "@jupyter-widgets/controls",
      "model_module_version": "2.0.0",
      "model_name": "HTMLStyleModel",
      "state": {
       "description_width": "",
       "font_size": null,
       "text_color": null
      }
     },
     "941ad057098b4251adaea0b348709841": {
      "model_module": "@jupyter-widgets/controls",
      "model_module_version": "2.0.0",
      "model_name": "HTMLModel",
      "state": {
       "layout": "IPY_MODEL_5e49952e586744eeaa1ba1e242da06ec",
       "style": "IPY_MODEL_493d17ac89c944d2a0546d57bf0fed16",
       "value": "<h4>Select the <i>neuron</i> you are interested in.</h4>"
      }
     },
     "956fc0660a864d7ab781fd99f12939b1": {
      "model_module": "@jupyter-widgets/controls",
      "model_module_version": "2.0.0",
      "model_name": "DropdownModel",
      "state": {
       "_options_labels": [
        "One",
        "Two",
        "Three"
       ],
       "description": "Number:",
       "index": 1,
       "layout": "IPY_MODEL_568c503b965946df8dc7a7b7929b74f3",
       "style": "IPY_MODEL_f6ad4a9290db42aca00161a9e909b253"
      }
     },
     "999dcdbfdb854bf7bfb124581577c813": {
      "model_module": "@jupyter-widgets/controls",
      "model_module_version": "2.0.0",
      "model_name": "HTMLStyleModel",
      "state": {
       "description_width": "",
       "font_size": null,
       "text_color": null
      }
     },
     "9b4b0960bb604b9285f19e464a31ebc2": {
      "model_module": "@jupyter-widgets/controls",
      "model_module_version": "2.0.0",
      "model_name": "SliderStyleModel",
      "state": {
       "description_width": ""
      }
     },
     "9e39f6ec9cca42c3b23dbd9f2319c677": {
      "model_module": "@jupyter-widgets/controls",
      "model_module_version": "2.0.0",
      "model_name": "HTMLStyleModel",
      "state": {
       "description_width": "",
       "font_size": null,
       "text_color": null
      }
     },
     "9faafab7acef477dad89d16ffae08895": {
      "model_module": "@jupyter-widgets/base",
      "model_module_version": "2.0.0",
      "model_name": "LayoutModel",
      "state": {}
     },
     "a395a3a2493e426c83ef04caa476e66e": {
      "model_module": "@jupyter-widgets/controls",
      "model_module_version": "2.0.0",
      "model_name": "DropdownModel",
      "state": {
       "_options_labels": [
        "data_before",
        "data_stim",
        "data_after"
       ],
       "description": "File:",
       "index": 2,
       "layout": "IPY_MODEL_1457061a4eb840bea0c47a0a8c0bf553",
       "style": "IPY_MODEL_04a2a214f5064c22bc57da22ed48d757"
      }
     },
     "a545ca3a47b54be2aeeee0e6805d54e3": {
      "model_module": "@jupyter-widgets/controls",
      "model_module_version": "2.0.0",
      "model_name": "HTMLStyleModel",
      "state": {
       "description_width": "",
       "font_size": null,
       "text_color": null
      }
     },
     "a6265b2d231c4b219ff073bdc70911a4": {
      "model_module": "@jupyter-widgets/base",
      "model_module_version": "2.0.0",
      "model_name": "LayoutModel",
      "state": {}
     },
     "a6c223d5998a4641bc0c9d375903d043": {
      "model_module": "@jupyter-widgets/controls",
      "model_module_version": "2.0.0",
      "model_name": "ButtonModel",
      "state": {
       "description": "Submit",
       "layout": "IPY_MODEL_ac179566531742e5ba0eb9d4377abfb0",
       "style": "IPY_MODEL_4439740266da47b5aa54eb717afed067",
       "tooltip": null
      }
     },
     "a7b668276b3e402baa1ebdda7537f421": {
      "model_module": "@jupyter-widgets/controls",
      "model_module_version": "2.0.0",
      "model_name": "HTMLModel",
      "state": {
       "layout": "IPY_MODEL_cae771d3af71499bab03c5608d0dda28",
       "style": "IPY_MODEL_ff33502d572147c29e334604bd3df440",
       "value": "<h4>Select the <i>neuron</i> you are interested in.</h4>"
      }
     },
     "ac179566531742e5ba0eb9d4377abfb0": {
      "model_module": "@jupyter-widgets/base",
      "model_module_version": "2.0.0",
      "model_name": "LayoutModel",
      "state": {}
     },
     "ad1d61c4aa2945d4b1140aab838f7df8": {
      "model_module": "@jupyter-widgets/controls",
      "model_module_version": "2.0.0",
      "model_name": "DescriptionStyleModel",
      "state": {
       "description_width": ""
      }
     },
     "adb3428cb8284d81a66fe62e4da2a576": {
      "model_module": "@jupyter-widgets/controls",
      "model_module_version": "2.0.0",
      "model_name": "DropdownModel",
      "state": {
       "_options_labels": [
        "2",
        "3",
        "4",
        "5",
        "6"
       ],
       "description": "Group:",
       "index": 0,
       "layout": "IPY_MODEL_37cc0f095fe94157990a15545bc836d4",
       "style": "IPY_MODEL_565a02b7b8d04cb9896eaa5225763750"
      }
     },
     "af07fdc7b26444ecac7f7fc0533d88cf": {
      "model_module": "@jupyter-widgets/controls",
      "model_module_version": "2.0.0",
      "model_name": "HTMLStyleModel",
      "state": {
       "description_width": "",
       "font_size": null,
       "text_color": null
      }
     },
     "b18995bd2eac4079b5d5003a090cee25": {
      "model_module": "@jupyter-widgets/base",
      "model_module_version": "2.0.0",
      "model_name": "LayoutModel",
      "state": {}
     },
     "b2ef7d26ca2d482cac20f333cb636806": {
      "model_module": "@jupyter-widgets/controls",
      "model_module_version": "2.0.0",
      "model_name": "DescriptionStyleModel",
      "state": {
       "description_width": ""
      }
     },
     "b30d53004cb043d1baef56e03df32f30": {
      "model_module": "@jupyter-widgets/base",
      "model_module_version": "2.0.0",
      "model_name": "LayoutModel",
      "state": {}
     },
     "b3ab04b36fcf4be5897fd4e0ddaea95c": {
      "model_module": "@jupyter-widgets/controls",
      "model_module_version": "2.0.0",
      "model_name": "HTMLModel",
      "state": {
       "layout": "IPY_MODEL_887fb8e225644120a794c53aa7de5c63",
       "style": "IPY_MODEL_7607b479438d41db99c08e136da5c1c5",
       "value": "<h4>Displaying Neuron 15 for Group 2, data_after</h4>"
      }
     },
     "b3c1675fcd4546b7bddce46f06b26dae": {
      "model_module": "@jupyter-widgets/controls",
      "model_module_version": "2.0.0",
      "model_name": "DropdownModel",
      "state": {
       "_options_labels": [
        "2",
        "3",
        "4",
        "5",
        "6"
       ],
       "description": "Group:",
       "index": 0,
       "layout": "IPY_MODEL_0f0b4715799e484989362ad2fc4883ac",
       "style": "IPY_MODEL_67c6e7da38d1462e94d123665c56c368"
      }
     },
     "b424c61163634c5a850a8db63056fd70": {
      "model_module": "@jupyter-widgets/base",
      "model_module_version": "2.0.0",
      "model_name": "LayoutModel",
      "state": {}
     },
     "b42984daebbf455e98980205a1eac436": {
      "model_module": "@jupyter-widgets/controls",
      "model_module_version": "2.0.0",
      "model_name": "IntSliderModel",
      "state": {
       "behavior": "drag-tap",
       "description": "Neuron:",
       "layout": "IPY_MODEL_c6b2605b800a425182b0a3d36b8bd5d0",
       "max": 50,
       "style": "IPY_MODEL_0312b410a36d411898497330dd853864"
      }
     },
     "b43bdfb6b670423fad48935fcb82c9c8": {
      "model_module": "@jupyter-widgets/base",
      "model_module_version": "2.0.0",
      "model_name": "LayoutModel",
      "state": {}
     },
     "b4f332e32a624faba53a744bd92aebe9": {
      "model_module": "@jupyter-widgets/controls",
      "model_module_version": "2.0.0",
      "model_name": "DescriptionStyleModel",
      "state": {
       "description_width": ""
      }
     },
     "b53b0459638b43219287343cb3533e7d": {
      "model_module": "@jupyter-widgets/controls",
      "model_module_version": "2.0.0",
      "model_name": "HTMLStyleModel",
      "state": {
       "description_width": "",
       "font_size": null,
       "text_color": null
      }
     },
     "b627fbe963224d86bd082a9cf18c0fcc": {
      "model_module": "@jupyter-widgets/base",
      "model_module_version": "2.0.0",
      "model_name": "LayoutModel",
      "state": {}
     },
     "b628e42476be49d1ac7f14a754fb78aa": {
      "model_module": "@jupyter-widgets/controls",
      "model_module_version": "2.0.0",
      "model_name": "IntSliderModel",
      "state": {
       "behavior": "drag-tap",
       "layout": "IPY_MODEL_569baea1050e4d0a802fde4dd0dd1902",
       "style": "IPY_MODEL_9b4b0960bb604b9285f19e464a31ebc2"
      }
     },
     "b65e053d2f5244488c9f5142df1aa506": {
      "model_module": "@jupyter-widgets/controls",
      "model_module_version": "2.0.0",
      "model_name": "HTMLStyleModel",
      "state": {
       "description_width": "",
       "font_size": null,
       "text_color": null
      }
     },
     "b7391d790ca74dfb8cb8e0ec22e758a9": {
      "model_module": "@jupyter-widgets/controls",
      "model_module_version": "2.0.0",
      "model_name": "ButtonStyleModel",
      "state": {
       "font_family": null,
       "font_size": null,
       "font_style": null,
       "font_variant": null,
       "font_weight": null,
       "text_color": null,
       "text_decoration": null
      }
     },
     "b797a0d944244bcdb135f99670da81fd": {
      "model_module": "@jupyter-widgets/base",
      "model_module_version": "2.0.0",
      "model_name": "LayoutModel",
      "state": {}
     },
     "b991bae59d854e0b998b1cf145766bd0": {
      "model_module": "@jupyter-widgets/controls",
      "model_module_version": "2.0.0",
      "model_name": "ButtonStyleModel",
      "state": {
       "font_family": null,
       "font_size": null,
       "font_style": null,
       "font_variant": null,
       "font_weight": null,
       "text_color": null,
       "text_decoration": null
      }
     },
     "bb67ac09b72c4e3a9bbb5ad0eb2d3528": {
      "model_module": "@jupyter-widgets/controls",
      "model_module_version": "2.0.0",
      "model_name": "HTMLModel",
      "state": {
       "layout": "IPY_MODEL_f512a3b5251a46ff8724cc8dc7f72eaa",
       "style": "IPY_MODEL_9e39f6ec9cca42c3b23dbd9f2319c677",
       "value": "<h4>Displaying Neuron 15 for Group 2, data_after</h4>"
      }
     },
     "bd55e987f17348a6b091b9b94a6927f5": {
      "model_module": "@jupyter-widgets/controls",
      "model_module_version": "2.0.0",
      "model_name": "HTMLModel",
      "state": {
       "layout": "IPY_MODEL_7e19c9cce5cf4da2af88ecb78ec693ba",
       "style": "IPY_MODEL_57fd255d1e1d42ef8a2a4c4ce6982ec3",
       "value": "<h4>Select the <i>group</i> and <i>file</i> that you would like to analyze.</h4>"
      }
     },
     "bdade68c80bc42b0af0604856200db3b": {
      "model_module": "@jupyter-widgets/base",
      "model_module_version": "2.0.0",
      "model_name": "LayoutModel",
      "state": {}
     },
     "becf56a65dec43d5baa3356fa0b576ad": {
      "model_module": "@jupyter-widgets/base",
      "model_module_version": "2.0.0",
      "model_name": "LayoutModel",
      "state": {}
     },
     "bf77b73d019d41f5bbf37c940f300b29": {
      "model_module": "@jupyter-widgets/controls",
      "model_module_version": "2.0.0",
      "model_name": "ButtonModel",
      "state": {
       "description": "Reset",
       "layout": "IPY_MODEL_79230c5465374ef39c49c0ee4e5ab050",
       "style": "IPY_MODEL_e1eb95af9c21441eb3677fd660d73681",
       "tooltip": null
      }
     },
     "c0552d1338794d4284958f6a314e063e": {
      "model_module": "@jupyter-widgets/controls",
      "model_module_version": "2.0.0",
      "model_name": "HTMLModel",
      "state": {
       "layout": "IPY_MODEL_814b9d707e85427ba99f2228d5870ca6",
       "style": "IPY_MODEL_544aeb467f1246269aab30bcf73fd7e8",
       "value": "<h4>Displaying Neuron 15 for Group 2, data_after</h4>"
      }
     },
     "c144a4684184499991a26d826fc22402": {
      "model_module": "@jupyter-widgets/base",
      "model_module_version": "2.0.0",
      "model_name": "LayoutModel",
      "state": {}
     },
     "c31b0ff41aee4dcfaec50069d85cc2ec": {
      "model_module": "@jupyter-widgets/controls",
      "model_module_version": "2.0.0",
      "model_name": "ButtonModel",
      "state": {
       "description": "Submit",
       "layout": "IPY_MODEL_ec8fda06f3e74f69855bad3765f4eab7",
       "style": "IPY_MODEL_2c21a7e5674e48aab1681f7f729d73af",
       "tooltip": null
      }
     },
     "c3cfd9f9dacf4379abe4ad96bb2a85ce": {
      "model_module": "@jupyter-widgets/base",
      "model_module_version": "2.0.0",
      "model_name": "LayoutModel",
      "state": {}
     },
     "c5cc6229a4ea420cb55cad58a3d6e53e": {
      "model_module": "@jupyter-widgets/controls",
      "model_module_version": "2.0.0",
      "model_name": "DropdownModel",
      "state": {
       "_options_labels": [
        "data_before",
        "data_stim",
        "data_after"
       ],
       "description": "File:",
       "index": 2,
       "layout": "IPY_MODEL_b43bdfb6b670423fad48935fcb82c9c8",
       "style": "IPY_MODEL_ad1d61c4aa2945d4b1140aab838f7df8"
      }
     },
     "c5ea8fe0d0d34260b98a6fad4b25cf48": {
      "model_module": "@jupyter-widgets/base",
      "model_module_version": "2.0.0",
      "model_name": "LayoutModel",
      "state": {}
     },
     "c62fb5ee833d43e3a3a4a25b2e7f59cf": {
      "model_module": "@jupyter-widgets/base",
      "model_module_version": "2.0.0",
      "model_name": "LayoutModel",
      "state": {}
     },
     "c6b2605b800a425182b0a3d36b8bd5d0": {
      "model_module": "@jupyter-widgets/base",
      "model_module_version": "2.0.0",
      "model_name": "LayoutModel",
      "state": {}
     },
     "c6fa7f4b62d04873af991fab70b18fc5": {
      "model_module": "@jupyter-widgets/controls",
      "model_module_version": "2.0.0",
      "model_name": "HTMLStyleModel",
      "state": {
       "description_width": "",
       "font_size": null,
       "text_color": null
      }
     },
     "cae771d3af71499bab03c5608d0dda28": {
      "model_module": "@jupyter-widgets/base",
      "model_module_version": "2.0.0",
      "model_name": "LayoutModel",
      "state": {}
     },
     "cafc6ccf393649a9900fa0ca03a36b34": {
      "model_module": "@jupyter-widgets/controls",
      "model_module_version": "2.0.0",
      "model_name": "HTMLModel",
      "state": {
       "layout": "IPY_MODEL_833b5443b51248249fbe519c638ed36c",
       "style": "IPY_MODEL_50274c7b65e3476ab2e8f5098069d235",
       "value": "<h3>Select the <i>group</i> and <i>file</i> that you would like to analyze.</h3>"
      }
     },
     "cb37735b0b7141278b20d51df8cd5344": {
      "model_module": "@jupyter-widgets/base",
      "model_module_version": "2.0.0",
      "model_name": "LayoutModel",
      "state": {}
     },
     "ccff90ee934a41f4aab76742a27270a6": {
      "model_module": "@jupyter-widgets/controls",
      "model_module_version": "2.0.0",
      "model_name": "VBoxModel",
      "state": {
       "children": [
        "IPY_MODEL_186a049ca2b4473082f7564faed447c6",
        "IPY_MODEL_fdfd7d4d28564dcf8c039e24183743bb",
        "IPY_MODEL_a395a3a2493e426c83ef04caa476e66e"
       ],
       "layout": "IPY_MODEL_b797a0d944244bcdb135f99670da81fd"
      }
     },
     "ce092425614d47048926b8e8068a08ac": {
      "model_module": "@jupyter-widgets/base",
      "model_module_version": "2.0.0",
      "model_name": "LayoutModel",
      "state": {}
     },
     "ce3687a1260d4b6dbf5627eeac79c84b": {
      "model_module": "@jupyter-widgets/controls",
      "model_module_version": "2.0.0",
      "model_name": "IntSliderModel",
      "state": {
       "behavior": "drag-tap",
       "layout": "IPY_MODEL_c144a4684184499991a26d826fc22402",
       "style": "IPY_MODEL_5e7c3253f54e40c1a9fabe25db2cea04"
      }
     },
     "cf5b71d1fef543a4bfcfdf36a272816e": {
      "model_module": "@jupyter-widgets/base",
      "model_module_version": "2.0.0",
      "model_name": "LayoutModel",
      "state": {}
     },
     "d1e6ed2967f948068ceaa4a4b32793b9": {
      "model_module": "@jupyter-widgets/controls",
      "model_module_version": "2.0.0",
      "model_name": "IntSliderModel",
      "state": {
       "behavior": "drag-tap",
       "description": "Neuron:",
       "layout": "IPY_MODEL_c3cfd9f9dacf4379abe4ad96bb2a85ce",
       "max": 33,
       "style": "IPY_MODEL_3b869cde859f42019858b7c0a8fdc301",
       "value": 15
      }
     },
     "d1fba72d2acc451eb50b47baf769b15b": {
      "model_module": "@jupyter-widgets/controls",
      "model_module_version": "2.0.0",
      "model_name": "VBoxModel",
      "state": {
       "children": [
        "IPY_MODEL_a7b668276b3e402baa1ebdda7537f421",
        "IPY_MODEL_0db3326c1b7241f7ad86b608a68b3586",
        "IPY_MODEL_0bd7b5f8b5724ef88bc7639578e7bfed"
       ],
       "layout": "IPY_MODEL_0bd12a0abbfc44dca02f67bca0379597"
      }
     },
     "d2a13e9395a0406582937488e887f1f9": {
      "model_module": "@jupyter-widgets/base",
      "model_module_version": "2.0.0",
      "model_name": "LayoutModel",
      "state": {}
     },
     "d3142918a26540bab0ebd483361a6f7f": {
      "model_module": "@jupyter-widgets/controls",
      "model_module_version": "2.0.0",
      "model_name": "ButtonStyleModel",
      "state": {
       "font_family": null,
       "font_size": null,
       "font_style": null,
       "font_variant": null,
       "font_weight": null,
       "text_color": null,
       "text_decoration": null
      }
     },
     "d3c386e9e092450d9b1746d216ef88dd": {
      "model_module": "@jupyter-widgets/base",
      "model_module_version": "2.0.0",
      "model_name": "LayoutModel",
      "state": {}
     },
     "d45f5c117cfc4824b36f4bd7109e4a5b": {
      "model_module": "@jupyter-widgets/controls",
      "model_module_version": "2.0.0",
      "model_name": "DescriptionStyleModel",
      "state": {
       "description_width": ""
      }
     },
     "d5dbc0c32a9c4a31b9f4b6994ae27892": {
      "model_module": "@jupyter-widgets/controls",
      "model_module_version": "2.0.0",
      "model_name": "HTMLStyleModel",
      "state": {
       "description_width": "",
       "font_size": null,
       "text_color": null
      }
     },
     "d68683d7abdd4b43a78b040736957844": {
      "model_module": "@jupyter-widgets/base",
      "model_module_version": "2.0.0",
      "model_name": "LayoutModel",
      "state": {}
     },
     "d6d59df784fb4fb684038ad7e329a122": {
      "model_module": "@jupyter-widgets/controls",
      "model_module_version": "2.0.0",
      "model_name": "HTMLModel",
      "state": {
       "layout": "IPY_MODEL_a6265b2d231c4b219ff073bdc70911a4",
       "style": "IPY_MODEL_f3eb345362e34e9896a949903d4365a1",
       "value": "<h4>Select the <i>group</i> and <i>file</i> that you would like to analyze.</h4>"
      }
     },
     "d75ca06450cd41cea62de286b99e8968": {
      "model_module": "@jupyter-widgets/base",
      "model_module_version": "2.0.0",
      "model_name": "LayoutModel",
      "state": {}
     },
     "d891634c7fc145948578b2a9e717fdac": {
      "model_module": "@jupyter-widgets/controls",
      "model_module_version": "2.0.0",
      "model_name": "DropdownModel",
      "state": {
       "_options_labels": [
        "data_before",
        "data_stim",
        "data_after"
       ],
       "description": "File:",
       "index": 2,
       "layout": "IPY_MODEL_ec1493237dde49a7879af3a48cb87b08",
       "style": "IPY_MODEL_df055a45648d424a822b564811a08b63"
      }
     },
     "da8c4153480a41dd8628231fb3a2247f": {
      "model_module": "@jupyter-widgets/controls",
      "model_module_version": "2.0.0",
      "model_name": "VBoxModel",
      "state": {
       "children": [
        "IPY_MODEL_fc577e753430463ca51d0c47827369e6",
        "IPY_MODEL_b3c1675fcd4546b7bddce46f06b26dae",
        "IPY_MODEL_1ee51b3653b44f73bc2047a52660b655",
        "IPY_MODEL_5f877f2ee6f34a119e96c86c26ee4804"
       ],
       "layout": "IPY_MODEL_9faafab7acef477dad89d16ffae08895"
      }
     },
     "dcc2b945abe7425db0654b5b37ac8264": {
      "model_module": "@jupyter-widgets/base",
      "model_module_version": "2.0.0",
      "model_name": "LayoutModel",
      "state": {}
     },
     "dcf1c252140f4b4a8e03934e17f25ca6": {
      "model_module": "@jupyter-widgets/controls",
      "model_module_version": "2.0.0",
      "model_name": "VBoxModel",
      "state": {
       "children": [
        "IPY_MODEL_186a049ca2b4473082f7564faed447c6",
        "IPY_MODEL_fdfd7d4d28564dcf8c039e24183743bb",
        "IPY_MODEL_a395a3a2493e426c83ef04caa476e66e",
        "IPY_MODEL_4148091aa1124196b04602e9e577ab22"
       ],
       "layout": "IPY_MODEL_1cf81265505147609d7a9daf3b63cf4f"
      }
     },
     "df055a45648d424a822b564811a08b63": {
      "model_module": "@jupyter-widgets/controls",
      "model_module_version": "2.0.0",
      "model_name": "DescriptionStyleModel",
      "state": {
       "description_width": ""
      }
     },
     "df587efb66724c4dbd5b0ec876aab57b": {
      "model_module": "@jupyter-widgets/base",
      "model_module_version": "2.0.0",
      "model_name": "LayoutModel",
      "state": {}
     },
     "df795816c4c54f6d82bcde78676e6da4": {
      "model_module": "@jupyter-widgets/controls",
      "model_module_version": "2.0.0",
      "model_name": "VBoxModel",
      "state": {
       "children": [
        "IPY_MODEL_6683c5578c4349958d80059f564e8cf6",
        "IPY_MODEL_d1e6ed2967f948068ceaa4a4b32793b9",
        "IPY_MODEL_4f080de64c554f8f82b1ce321e50095b"
       ],
       "layout": "IPY_MODEL_0ee655d4b4bf40d28932d38b0fe4c1e7"
      }
     },
     "e11f375d2b084579a71798c7ccbd0d9f": {
      "model_module": "@jupyter-widgets/base",
      "model_module_version": "2.0.0",
      "model_name": "LayoutModel",
      "state": {}
     },
     "e1eb95af9c21441eb3677fd660d73681": {
      "model_module": "@jupyter-widgets/controls",
      "model_module_version": "2.0.0",
      "model_name": "ButtonStyleModel",
      "state": {
       "font_family": null,
       "font_size": null,
       "font_style": null,
       "font_variant": null,
       "font_weight": null,
       "text_color": null,
       "text_decoration": null
      }
     },
     "e38a9eb24e734f1687c6bf7445704ea7": {
      "model_module": "@jupyter-widgets/controls",
      "model_module_version": "2.0.0",
      "model_name": "VBoxModel",
      "state": {
       "children": [
        "IPY_MODEL_4d452789d1f44424b1855decdc5df318",
        "IPY_MODEL_93c6184b23564fa78ea83ac45678e916",
        "IPY_MODEL_8b3077734e6d445a8aaae0e27c6edd39",
        "IPY_MODEL_8ccdf87ab48d4194bfe90d82877b3c56"
       ],
       "layout": "IPY_MODEL_25a04f46533346378d1d306f71e6128a"
      }
     },
     "e3ebf4efc5a64633af957840c3139799": {
      "model_module": "@jupyter-widgets/controls",
      "model_module_version": "2.0.0",
      "model_name": "ButtonModel",
      "state": {
       "description": "Reset",
       "layout": "IPY_MODEL_8c9fd3bc30a74e83a17c6bfa3d059a86",
       "style": "IPY_MODEL_91901ac1112e410490f4d91f1f94e248",
       "tooltip": null
      }
     },
     "e5be269d0e024e32afb826692f260bf5": {
      "model_module": "@jupyter-widgets/controls",
      "model_module_version": "2.0.0",
      "model_name": "IntSliderModel",
      "state": {
       "behavior": "drag-tap",
       "description": "Neuron:",
       "layout": "IPY_MODEL_b627fbe963224d86bd082a9cf18c0fcc",
       "max": 33,
       "style": "IPY_MODEL_f1fd2069c35c42ffa8094dfda2477bd3"
      }
     },
     "e5d195b7325146968cf7852fa4bcfdf7": {
      "model_module": "@jupyter-widgets/controls",
      "model_module_version": "2.0.0",
      "model_name": "HTMLStyleModel",
      "state": {
       "description_width": "",
       "font_size": null,
       "text_color": null
      }
     },
     "e6f76bd4fff845b1bde4fea571c846de": {
      "model_module": "@jupyter-widgets/controls",
      "model_module_version": "2.0.0",
      "model_name": "HTMLStyleModel",
      "state": {
       "description_width": "",
       "font_size": null,
       "text_color": null
      }
     },
     "e73d9f75b4b44037a76a9ef58390dec3": {
      "model_module": "@jupyter-widgets/controls",
      "model_module_version": "2.0.0",
      "model_name": "VBoxModel",
      "state": {
       "children": [
        "IPY_MODEL_5e1333f0bcbf4ee5848ebd333060a9b3",
        "IPY_MODEL_b42984daebbf455e98980205a1eac436",
        "IPY_MODEL_7f248061c3b64bd5abb59ca24cbcf67b"
       ],
       "layout": "IPY_MODEL_2cca789a15dd4d7dbcf78710f34b469b"
      }
     },
     "e80b024921bf4b508429e0728c0a78bc": {
      "model_module": "@jupyter-widgets/base",
      "model_module_version": "2.0.0",
      "model_name": "LayoutModel",
      "state": {}
     },
     "e86b129d753c478d8a8e14468914092b": {
      "model_module": "@jupyter-widgets/base",
      "model_module_version": "2.0.0",
      "model_name": "LayoutModel",
      "state": {}
     },
     "e915222d7bd64fd38f39045d239ce50f": {
      "model_module": "@jupyter-widgets/base",
      "model_module_version": "2.0.0",
      "model_name": "LayoutModel",
      "state": {}
     },
     "e9b55a2d749e4cb7bcc7f9256a43bc8b": {
      "model_module": "@jupyter-widgets/controls",
      "model_module_version": "2.0.0",
      "model_name": "VBoxModel",
      "state": {
       "children": [
        "IPY_MODEL_2202ca9743ff481ab75daff5f79edf28",
        "IPY_MODEL_803ae22096e94b4e96a89e6ed013248c",
        "IPY_MODEL_35ceef0c519143198dbe6791905fa8f0"
       ],
       "layout": "IPY_MODEL_ee99dfc858804a479ab9ee44bd8246b1"
      }
     },
     "ec1493237dde49a7879af3a48cb87b08": {
      "model_module": "@jupyter-widgets/base",
      "model_module_version": "2.0.0",
      "model_name": "LayoutModel",
      "state": {}
     },
     "ec8fda06f3e74f69855bad3765f4eab7": {
      "model_module": "@jupyter-widgets/base",
      "model_module_version": "2.0.0",
      "model_name": "LayoutModel",
      "state": {}
     },
     "eced40b5f0964820ad8a12c83653bef6": {
      "model_module": "@jupyter-widgets/controls",
      "model_module_version": "2.0.0",
      "model_name": "SliderStyleModel",
      "state": {
       "description_width": ""
      }
     },
     "ed1531e96312479eb5f28538f2af6035": {
      "model_module": "@jupyter-widgets/controls",
      "model_module_version": "2.0.0",
      "model_name": "DescriptionStyleModel",
      "state": {
       "description_width": ""
      }
     },
     "ee99dfc858804a479ab9ee44bd8246b1": {
      "model_module": "@jupyter-widgets/base",
      "model_module_version": "2.0.0",
      "model_name": "LayoutModel",
      "state": {}
     },
     "ef34d78c7af74b3e9d0b720f769f52b1": {
      "model_module": "@jupyter-widgets/base",
      "model_module_version": "2.0.0",
      "model_name": "LayoutModel",
      "state": {}
     },
     "efd1914afbb647549392d46ade960bce": {
      "model_module": "@jupyter-widgets/controls",
      "model_module_version": "2.0.0",
      "model_name": "DescriptionStyleModel",
      "state": {
       "description_width": ""
      }
     },
     "f0e58c0da0974f39bbb96669d1b2af19": {
      "model_module": "@jupyter-widgets/controls",
      "model_module_version": "2.0.0",
      "model_name": "DropdownModel",
      "state": {
       "_options_labels": [
        "2",
        "3",
        "4",
        "5",
        "6"
       ],
       "description": "Group:",
       "index": 0,
       "layout": "IPY_MODEL_12da78167f354ccd86451ce222ddd50d",
       "style": "IPY_MODEL_40f3c4af82bd480e947d804a6f8dd1e1"
      }
     },
     "f13aa7c9088d4d0b801088f73db003df": {
      "model_module": "@jupyter-widgets/controls",
      "model_module_version": "2.0.0",
      "model_name": "HTMLStyleModel",
      "state": {
       "description_width": "",
       "font_size": null,
       "text_color": null
      }
     },
     "f1fd2069c35c42ffa8094dfda2477bd3": {
      "model_module": "@jupyter-widgets/controls",
      "model_module_version": "2.0.0",
      "model_name": "SliderStyleModel",
      "state": {
       "description_width": ""
      }
     },
     "f2732a68c01440f88b2a7af037cc8f32": {
      "model_module": "@jupyter-widgets/base",
      "model_module_version": "2.0.0",
      "model_name": "LayoutModel",
      "state": {}
     },
     "f29451645a0e47fa950a7adcde17f08c": {
      "model_module": "@jupyter-widgets/controls",
      "model_module_version": "2.0.0",
      "model_name": "ButtonStyleModel",
      "state": {
       "font_family": null,
       "font_size": null,
       "font_style": null,
       "font_variant": null,
       "font_weight": null,
       "text_color": null,
       "text_decoration": null
      }
     },
     "f2ffb388a35a4cfcab92090f91b17c2f": {
      "model_module": "@jupyter-widgets/controls",
      "model_module_version": "2.0.0",
      "model_name": "HTMLModel",
      "state": {
       "layout": "IPY_MODEL_8f96907a8f7549b88eade3d9d3877fc3",
       "style": "IPY_MODEL_232a1c6799c44038aca7bd1bf244b07f",
       "value": "<h3>Select the <b>group</b> and <b>file</b> that you would like to analyze.</h3>"
      }
     },
     "f3eb345362e34e9896a949903d4365a1": {
      "model_module": "@jupyter-widgets/controls",
      "model_module_version": "2.0.0",
      "model_name": "HTMLStyleModel",
      "state": {
       "description_width": "",
       "font_size": null,
       "text_color": null
      }
     },
     "f48cce5362f84d72aff15c319b70cdee": {
      "model_module": "@jupyter-widgets/base",
      "model_module_version": "2.0.0",
      "model_name": "LayoutModel",
      "state": {}
     },
     "f512a3b5251a46ff8724cc8dc7f72eaa": {
      "model_module": "@jupyter-widgets/base",
      "model_module_version": "2.0.0",
      "model_name": "LayoutModel",
      "state": {}
     },
     "f54532e32aeb4aaeb421873d395631c6": {
      "model_module": "@jupyter-widgets/controls",
      "model_module_version": "2.0.0",
      "model_name": "DropdownModel",
      "state": {
       "_options_labels": [
        "2",
        "3",
        "4",
        "5",
        "6"
       ],
       "description": "Group:",
       "index": 0,
       "layout": "IPY_MODEL_ef34d78c7af74b3e9d0b720f769f52b1",
       "style": "IPY_MODEL_689060c535e44a42a3ae63c888e28893"
      }
     },
     "f6ad4a9290db42aca00161a9e909b253": {
      "model_module": "@jupyter-widgets/controls",
      "model_module_version": "2.0.0",
      "model_name": "DescriptionStyleModel",
      "state": {
       "description_width": ""
      }
     },
     "f7ddcd97dc604949ba3a2591e39bcd45": {
      "model_module": "@jupyter-widgets/controls",
      "model_module_version": "2.0.0",
      "model_name": "DropdownModel",
      "state": {
       "_options_labels": [
        "data_before",
        "data_stim",
        "data_after"
       ],
       "description": "File:",
       "index": 2,
       "layout": "IPY_MODEL_4300158c8e6147dc8cfee2c0c7e67499",
       "style": "IPY_MODEL_8a90f7a0ea8f4a658989744e6d1b5f8b"
      }
     },
     "f9b90cc6c52d4229873112c8d2b56b71": {
      "model_module": "@jupyter-widgets/controls",
      "model_module_version": "2.0.0",
      "model_name": "ButtonStyleModel",
      "state": {
       "font_family": null,
       "font_size": null,
       "font_style": null,
       "font_variant": null,
       "font_weight": null,
       "text_color": null,
       "text_decoration": null
      }
     },
     "fb19b90eef8843569d7bfde3ee126459": {
      "model_module": "@jupyter-widgets/controls",
      "model_module_version": "2.0.0",
      "model_name": "ButtonStyleModel",
      "state": {
       "font_family": null,
       "font_size": null,
       "font_style": null,
       "font_variant": null,
       "font_weight": null,
       "text_color": null,
       "text_decoration": null
      }
     },
     "fc577e753430463ca51d0c47827369e6": {
      "model_module": "@jupyter-widgets/controls",
      "model_module_version": "2.0.0",
      "model_name": "HTMLModel",
      "state": {
       "layout": "IPY_MODEL_3e5a6d5e4c9342a68e7620d6a2998a4c",
       "style": "IPY_MODEL_f13aa7c9088d4d0b801088f73db003df",
       "value": "<h4>Select the <i>group</i> and <i>file</i> that you would like to analyze.</h4>"
      }
     },
     "fdfd7d4d28564dcf8c039e24183743bb": {
      "model_module": "@jupyter-widgets/controls",
      "model_module_version": "2.0.0",
      "model_name": "DropdownModel",
      "state": {
       "_options_labels": [
        "2",
        "3",
        "4",
        "5",
        "6"
       ],
       "description": "Group:",
       "index": 0,
       "layout": "IPY_MODEL_c5ea8fe0d0d34260b98a6fad4b25cf48",
       "style": "IPY_MODEL_b4f332e32a624faba53a744bd92aebe9"
      }
     },
     "fe3b1aafccac4317a148398cd32a96d0": {
      "model_module": "@jupyter-widgets/base",
      "model_module_version": "2.0.0",
      "model_name": "LayoutModel",
      "state": {}
     },
     "ff33502d572147c29e334604bd3df440": {
      "model_module": "@jupyter-widgets/controls",
      "model_module_version": "2.0.0",
      "model_name": "HTMLStyleModel",
      "state": {
       "description_width": "",
       "font_size": null,
       "text_color": null
      }
     }
    },
    "version_major": 2,
    "version_minor": 0
   }
  }
 },
 "nbformat": 4,
 "nbformat_minor": 5
}
