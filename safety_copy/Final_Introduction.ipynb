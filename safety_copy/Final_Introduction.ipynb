{
 "cells": [
  {
   "cell_type": "markdown",
   "id": "06629401",
   "metadata": {},
   "source": [
    "<font size=7><b>Final Project Data Summary"
   ]
  },
  {
   "cell_type": "markdown",
   "id": "a0c81748",
   "metadata": {},
   "source": [
    "Congratulations, your experiment succesfully ran on brain organoids! This notebook provides a brief summary of the protocol and data from the stimulation experiment your group created. Use this as a starting point for your own analysis."
   ]
  },
  {
   "cell_type": "markdown",
   "id": "23d06bec",
   "metadata": {},
   "source": [
    "<font color=\"red\"><b>Note:</b> Important notes about the experiment are written in red."
   ]
  },
  {
   "cell_type": "code",
   "execution_count": 1,
   "id": "acfd69c7",
   "metadata": {},
   "outputs": [
    {
     "name": "stdout",
     "output_type": "stream",
     "text": [
      "loading data for group 4\n",
      "done\n"
     ]
    }
   ],
   "source": [
    "%run \"Final_Source_Code.ipynb\""
   ]
  },
  {
   "cell_type": "markdown",
   "id": "fe9fb4c5",
   "metadata": {},
   "source": [
    "# Experiment Protocol"
   ]
  },
  {
   "cell_type": "markdown",
   "id": "8f5c0c74",
   "metadata": {
    "cell_style": "center"
   },
   "source": [
    "The experiment we performed is slightly different from what was previously explained in the `Experiment_Introduction.ipynb` notebook. We tried running your experiment on a human connectoid, however, the tissue wasn't healthy, so the resulting data looked bad. Because of this, we reran your experiment on **mouse organoids**. These are organoids that were created from mouse tissue, instead of human tissue. Below is a picture of the **2 organoids** used for every group's experiment. In the photo, the two organodis are seen on the **MaxWell MEA** that was used to stimulate and record data."
   ]
  },
  {
   "cell_type": "markdown",
   "id": "e5933945",
   "metadata": {
    "cell_style": "split"
   },
   "source": [
    "<p>&nbsp</p>\n",
    "\n",
    "The two mouse organoids are relatively young- only 22 days old. For comparison, the human connectoid we were hoping to use was 100 days old. Because the mouse organoids are young, they **never formed a connectoid**.\n",
    "\n",
    "From the connectoid experiment proposals, some groups wrote code that stimulated both organoids of a connectoid. We changed this code so that **only 1 organoid was stimulated**. The second organoid was never stimulated. Thus, you can **compare neural behaviour between the two mouse organoids** to determine if stimulation lead to a change in neuronal behaviour.\n",
    "\n",
    ".\n",
    "\n",
    "<font color=\"red\">\n",
    "    \n",
    "The folder named `student_experiments` contains the stimulation protocols for all groups. Review your protocol. Some the stimulation protocols were changed as per our discretion in order for experiments to run properly. Changes are noted by comments in the protocol files."
   ]
  },
  {
   "cell_type": "markdown",
   "id": "aa66d7b9",
   "metadata": {
    "cell_style": "split"
   },
   "source": [
    "<center><b>Organoids Used in Experiment</b></center>\n",
    "\n",
    "![alt text](data/Organoids_Photo.jpg)"
   ]
  },
  {
   "cell_type": "markdown",
   "id": "efd84cb9",
   "metadata": {},
   "source": [
    "# Data Analysis and Summary"
   ]
  },
  {
   "cell_type": "markdown",
   "id": "80698aec",
   "metadata": {},
   "source": [
    "There were **3 steps** to running your experiment. First, we recorded **5 minutes of data before stimulation** so that you can see how the tissue behaves under normal circumstances. Then **stimulation occurred for 5 minutes**, while being recorded. Then, neural activity was **recorded for 15 minutes after stimulation** to see if there was a response to stimulation."
   ]
  },
  {
   "cell_type": "markdown",
   "id": "89e3a155",
   "metadata": {},
   "source": [
    "Like the datasets from previous homeworks, we are not giving you the raw data to analyze. We performed the process of spikesorting the raw data in order to determine where the neurons are in your recording. After spikesorting we removed any dubious neural units that either either looked noisy or were \"fake neurons\". The step or removing dubious neurons is called **curation**."
   ]
  },
  {
   "cell_type": "markdown",
   "id": "a989accc",
   "metadata": {},
   "source": [
    "<font color=\"red\"> You have been provided the experimental data from all 5 groups. You are welcome (but not obligated) to analyze other groups' datasets to see how they compare to your own. This may provide more insight into your experiment for the final paper/presentation. Notice that every group, except for one, performed some form of a tetanus experiment."
   ]
  },
  {
   "cell_type": "markdown",
   "id": "67dba7fe",
   "metadata": {},
   "source": [
    "## Spike Rasters"
   ]
  },
  {
   "cell_type": "markdown",
   "id": "a20691eb",
   "metadata": {},
   "source": [
    "For each group, we are giving you **4 files**. These files are located in the folder, `data`. 3 of these files are the curated results corresponding to the 3 steps mentioned above. The 4th file is the uncurated recording from when stimulation was perfomed. This file is explained further below."
   ]
  },
  {
   "cell_type": "markdown",
   "id": "85df179a",
   "metadata": {},
   "source": [
    "* `data_before` - the 5 minute recording before stimulation.\n",
    "* `data_stim` (curated) - the 5 minute recording from when stimulation was performed\n",
    "* `data_after` - a 15 minute recording taken right after stimulation finished\n",
    "* `data_stim` (uncurated) - the 5 minute recording for stimulation, but this time, it includes the \"dubious neurons\" that were removed in the curation step"
   ]
  },
  {
   "cell_type": "markdown",
   "id": "bdfaa853",
   "metadata": {},
   "source": [
    "<font color=\"red\">**Group 3** has slightly different files. They have **5 files** instead of 4. There is one additional recording that occured after stimulation, which is titled `grp3_after0.zip` in the data folder. This contains the **first 5 minutes** recorded right after stimulation. This recording however, abruptly stopped for some unkown reason, so we  quickly started a second recording 20-30 seconds later so that you still have 15 minutes of data to analyze. Group 3, we reccomend that you analyze `grp3_after0`, as this contains the data right after stimulation, that said, you will not be penalized if you decide not to look at this file."
   ]
  },
  {
   "cell_type": "markdown",
   "id": "4bb80c9d",
   "metadata": {},
   "source": [
    "Now let's look at your data! This overview is brisk, because we want you to do the analysis. Use the tools below to select which group's data to look at, then plot the spike rasters for all the files mentioned above. You can find each [group's number here](https://docs.google.com/spreadsheets/d/1WcwGxcdmLuM5O1GavrrA-qrYKeLKR-U6PFQThr97cIE/edit#gid=0)."
   ]
  },
  {
   "cell_type": "markdown",
   "id": "7c5c0931",
   "metadata": {},
   "source": [
    "**Select a Group** (by number)"
   ]
  },
  {
   "cell_type": "code",
   "execution_count": 2,
   "id": "e9d2fd11",
   "metadata": {},
   "outputs": [
    {
     "data": {
      "application/vnd.jupyter.widget-view+json": {
       "model_id": "0ead9cff6fac447a9fcea3054d628905",
       "version_major": 2,
       "version_minor": 0
      },
      "text/plain": [
       "interactive(children=(IntSlider(value=4, description='group_number', max=6, min=2), Button(description='Run In…"
      ]
     },
     "metadata": {},
     "output_type": "display_data"
    },
    {
     "data": {
      "text/plain": [
       "<function __main__.loadData(group_number)>"
      ]
     },
     "execution_count": 2,
     "metadata": {},
     "output_type": "execute_result"
    }
   ],
   "source": [
    "interact_manual( loadData, group_number=(2,6) ) "
   ]
  },
  {
   "cell_type": "markdown",
   "id": "bce4e49a",
   "metadata": {},
   "source": [
    "**Display Spike Rasters**"
   ]
  },
  {
   "cell_type": "code",
   "execution_count": 3,
   "id": "6e18225f",
   "metadata": {},
   "outputs": [
    {
     "data": {
      "application/vnd.jupyter.widget-view+json": {
       "model_id": "54d383d2e16a4c1fa46838386092c85d",
       "version_major": 2,
       "version_minor": 0
      },
      "text/plain": [
       "interactive(children=(Button(description='Run Interact', style=ButtonStyle()), Output()), _dom_classes=('widge…"
      ]
     },
     "metadata": {},
     "output_type": "display_data"
    },
    {
     "data": {
      "text/plain": [
       "<function __main__.plotRasters()>"
      ]
     },
     "execution_count": 3,
     "metadata": {},
     "output_type": "execute_result"
    }
   ],
   "source": [
    "interact_manual( plotRasters ) "
   ]
  },
  {
   "cell_type": "markdown",
   "id": "f696c77f",
   "metadata": {},
   "source": [
    "You may be wondering why we included the uncurated stimulation spike raster as a dataset for you to analyze. To see why, lets zoom in on the first few seconds of a spike raster for both uncurated and curated data. For most groups, you should look at the first 3-4 seconds of the recordings, however, group 3 should consider at least the first 13 seconds. Notice that you are able to see the stimulation patterns for your portocol in the uncurated data, but not the curated data. This is because the stimulation pulses were defined to be \"dubious neurons\" and were removed from the dataset. If you look closely at the uncurated spike raster, you will notice changes in stimulation voltages (for experiments that did this). Looking even more closely, you'll notice that different neural units will fire at different times based on which electrode is being stimulated (if different electrodes were stimulated at different times). You can use this spike raster from the uncurated stimulation recording to verify your stimulation protocol."
   ]
  },
  {
   "cell_type": "markdown",
   "id": "fc6609b5",
   "metadata": {},
   "source": [
    "**Zoomed In Spike Rasters** (for group selected above)"
   ]
  },
  {
   "cell_type": "code",
   "execution_count": 4,
   "id": "93e939dd",
   "metadata": {},
   "outputs": [
    {
     "data": {
      "application/vnd.jupyter.widget-view+json": {
       "model_id": "1d095be35f1c456487ca42f063ba91d0",
       "version_major": 2,
       "version_minor": 0
      },
      "text/plain": [
       "interactive(children=(IntSlider(value=15, description='seconds', max=30, min=1), Button(description='Run Inter…"
      ]
     },
     "metadata": {},
     "output_type": "display_data"
    },
    {
     "data": {
      "text/plain": [
       "<function __main__.plotStimRasters(seconds)>"
      ]
     },
     "execution_count": 4,
     "metadata": {},
     "output_type": "execute_result"
    }
   ],
   "source": [
    "interact_manual( plotStimRasters, seconds=(1,30) ) "
   ]
  },
  {
   "cell_type": "markdown",
   "id": "a540d0e4",
   "metadata": {},
   "source": [
    "## Layout of Electrodes and Neurons "
   ]
  },
  {
   "cell_type": "markdown",
   "id": "b4545ec0",
   "metadata": {},
   "source": [
    "Use the tool below to look at the neuron and electrode layout for the group you selected above. The tools lets you selected which dataset you want to look at the neurons from. Notice that the location and number of neurons change based on file you choose (\"before\", \"stim\", \"after\"). For example, there are considerably more \"neurons\" in the uncurated stimulation data. "
   ]
  },
  {
   "cell_type": "markdown",
   "id": "c8fa393b",
   "metadata": {},
   "source": [
    "**Neuron and Electrode Layout** (for group selected above)"
   ]
  },
  {
   "cell_type": "code",
   "execution_count": 5,
   "id": "0de1f78a",
   "metadata": {},
   "outputs": [
    {
     "data": {
      "application/vnd.jupyter.widget-view+json": {
       "model_id": "205c88ab04064f10ae24436603f95185",
       "version_major": 2,
       "version_minor": 0
      },
      "text/plain": [
       "interactive(children=(Dropdown(description='data_name', options=('data_before', 'data_stim', 'data_after'), va…"
      ]
     },
     "metadata": {},
     "output_type": "display_data"
    },
    {
     "data": {
      "text/plain": [
       "<function __main__.neuronLayout(data_name)>"
      ]
     },
     "execution_count": 5,
     "metadata": {},
     "output_type": "execute_result"
    }
   ],
   "source": [
    "interact_manual( neuronLayout, data_name=[\"data_before\",\"data_stim\",\"data_after\"] ) "
   ]
  },
  {
   "cell_type": "markdown",
   "id": "aa92d93f",
   "metadata": {},
   "source": [
    "<font color=\"red\"> The graph above does not show you which neural units comes from which organoid, nor does it show where the stimulation electrodes were located for your experiment. This is necessary for conducting proper analysis. We will provide this information to you in a new notebook, hopefully, by Monday (June 15)."
   ]
  },
  {
   "cell_type": "markdown",
   "id": "4771f62d",
   "metadata": {},
   "source": [
    "# Questions to Consider"
   ]
  },
  {
   "cell_type": "markdown",
   "id": "fb999daa",
   "metadata": {},
   "source": [
    "When doing your analysis, please remember to refer to the [final project summary](https://docs.google.com/document/d/1VRkoQKSx4xU1X546a-8HnnXOXYA17WcDl-lpR-CIIvM/edit) we released. Below are some questions that may help guide the direction of your analysis."
   ]
  },
  {
   "cell_type": "markdown",
   "id": "063af307",
   "metadata": {},
   "source": [
    "* Nearly every proper biology experiment is set up to have a control sample that your compare your test sample to. In this case, what is your control? Is it the recording before stimulation? Is it the organoid that was never stimulated? (Hint: you can have multiple different controls) \n",
    "* Can you verify that the stimulation pattern that was performed was the one your group wrote in your protocol? Were there any deviations from the protocol? Major difference are likely due to protocol changes, where minor stimulation pulse \"misfires\" are likely due to \"hiccups\" in the hardware.\n",
    "* Which neurons were from which organoid? Which neurons were close to the stimulation locations? Did these neurons show different behaviour from the others?\n",
    "* Can you compare neural behaviour of the organoid that was stimulated to the one that wasn't stimulated? Perhaps try breaking the spike raster into two, or coloring/reordering the rows of the raster based on organoid. What differences do you notice?\n",
    "* The rows of the spike raster (corresponding to neural units) are not lined up between the different recordings. Can you located the raster for an individual neuron across different recordings? How does this inidividual neuron's behaviour change pre vs post stimulation?\n",
    "* Were you able to spot any bursts either before or after stimulation? Did the burst pattern change after stimulation?\n",
    "* Consider Tal Sharf's paper. What can you say about the dynamics between neuronals units (STTC, Correlations, Latencies)?"
   ]
  },
  {
   "cell_type": "markdown",
   "id": "aa4651b2",
   "metadata": {},
   "source": [
    "# <font color=\"red\">You Analysis Code"
   ]
  },
  {
   "cell_type": "markdown",
   "id": "46b0e397",
   "metadata": {},
   "source": [
    "<font color=\"red\"> We expect you to keep a record of all the code you used for analysis inside of this folder, `Final_Project`. We reccomend putting all your code below, however, your allowed to break your code up into different notebooks/python files if you like. Please make sure your code is well documented and runs properly. It should contain numerous comments explaining what each piece does as well as instructions on how to run the code (if not oubvious). **You will be graded on the cleanliness and runability of the code** you submit for your final project. It's only necessary to record the code used to create figures/tables in your paper or presentation. Other exploratory code can be deleted, however, feel free to keep it if your proud of it."
   ]
  },
  {
   "cell_type": "code",
   "execution_count": null,
   "id": "fa4e7907",
   "metadata": {},
   "outputs": [],
   "source": []
  },
  {
   "cell_type": "code",
   "execution_count": null,
   "id": "d398d47d",
   "metadata": {},
   "outputs": [],
   "source": []
  },
  {
   "cell_type": "code",
   "execution_count": null,
   "id": "1dcff639",
   "metadata": {},
   "outputs": [],
   "source": []
  }
 ],
 "metadata": {
  "hide_input": false,
  "kernelspec": {
   "display_name": "Python 3 (ipykernel)",
   "language": "python",
   "name": "python3"
  },
  "language_info": {
   "codemirror_mode": {
    "name": "ipython",
    "version": 3
   },
   "file_extension": ".py",
   "mimetype": "text/x-python",
   "name": "python",
   "nbconvert_exporter": "python",
   "pygments_lexer": "ipython3",
   "version": "3.10.10"
  },
  "toc": {
   "base_numbering": 1,
   "nav_menu": {},
   "number_sections": true,
   "sideBar": true,
   "skip_h1_title": false,
   "title_cell": "Table of Contents",
   "title_sidebar": "Contents",
   "toc_cell": false,
   "toc_position": {},
   "toc_section_display": true,
   "toc_window_display": false
  },
  "varInspector": {
   "cols": {
    "lenName": 16,
    "lenType": 16,
    "lenVar": 40
   },
   "kernels_config": {
    "python": {
     "delete_cmd_postfix": "",
     "delete_cmd_prefix": "del ",
     "library": "var_list.py",
     "varRefreshCmd": "print(var_dic_list())"
    },
    "r": {
     "delete_cmd_postfix": ") ",
     "delete_cmd_prefix": "rm(",
     "library": "var_list.r",
     "varRefreshCmd": "cat(var_dic_list()) "
    }
   },
   "types_to_exclude": [
    "module",
    "function",
    "builtin_function_or_method",
    "instance",
    "_Feature"
   ],
   "window_display": false
  }
 },
 "nbformat": 4,
 "nbformat_minor": 5
}
