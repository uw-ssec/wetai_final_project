{
 "cells": [
  {
   "cell_type": "markdown",
   "id": "9df2013b",
   "metadata": {},
   "source": [
    "<font size=8 face=\"Courier\"><b>Final Project Source Code"
   ]
  },
  {
   "cell_type": "markdown",
   "id": "7433803b",
   "metadata": {},
   "source": [
    "This is the code use to create the plots in the notebook, `Final_Introduction.ipynb`"
   ]
  },
  {
   "cell_type": "markdown",
   "id": "86d54155",
   "metadata": {},
   "source": [
    "# <font color=\"gray\">Import Stuff"
   ]
  },
  {
   "cell_type": "code",
   "execution_count": null,
   "id": "a03b0a8a",
   "metadata": {},
   "outputs": [],
   "source": [
    "import numpy as np                                                    # Packages for data analysis\n",
    "import pandas as pd\n",
    "import matplotlib.pyplot as plt\n",
    "from matplotlib.patches import Patch, Circle\n",
    "from scipy.ndimage import gaussian_filter1d\n",
    "import braingeneers                                                   # Braingeneers code\n",
    "from braingeneers.analysis.analysis import SpikeData, read_phy_files\n",
    "from ipywidgets import interact, interactive, fixed, interact_manual  # package for interactive widgets "
   ]
  },
  {
   "cell_type": "markdown",
   "id": "6b0bcd7b",
   "metadata": {},
   "source": [
    "# <font color=\"blue\">Load Data"
   ]
  },
  {
   "cell_type": "markdown",
   "id": "b2b08539",
   "metadata": {},
   "source": [
    "<font color=\"blue\">loadData</font> loads all the necesary data for analyzing one group. It's input is the number of the groups whose data you wish to analyze. It's \"output\" are the following global variables containing datasets used by later functions.\n",
    "* `group_num` - the number of the group whose data we are looking at\n",
    "* `data_before` - data recorded before stimulation\n",
    "* `data_stim` - uncurated stimulation pattern\n",
    "* `data_stim_bad` - curated stimulation pattern, it's \"bad\" because you can't see the stim patterns\n",
    "* `data_after` - data recorded right after stimulation"
   ]
  },
  {
   "cell_type": "code",
   "execution_count": null,
   "id": "13bbd2b8",
   "metadata": {},
   "outputs": [],
   "source": [
    "def loadData(group_number):\n",
    "    global group_num; global data_before; global data_stim; global data_stim_bad; global data_after \n",
    "    \n",
    "    print(f\"loading data for group {str(group_number)}\")        # Set global variables used by later functions\n",
    "    group_num = group_number\n",
    "    data_before = read_phy_files(f\"./data/curated/grp{str(group_num)}_before.zip\")\n",
    "    data_stim = read_phy_files(f\"./data/uncurated/grp{str(group_num)}_stim.zip\")\n",
    "    data_stim_bad = read_phy_files(f\"./data/curated/grp{str(group_num)}_stim.zip\")\n",
    "    data_after = read_phy_files(f\"./data/curated/grp{str(group_num)}_after.zip\")\n",
    "    print(\"done\")"
   ]
  },
  {
   "cell_type": "markdown",
   "id": "5b8115b6",
   "metadata": {},
   "source": [
    "Set some initial `group_num` and run `loadData` so that if the user runs the plotting functions below (without first running `loadData`) it wont automatically produce an error."
   ]
  },
  {
   "cell_type": "code",
   "execution_count": null,
   "id": "04cbf316",
   "metadata": {},
   "outputs": [],
   "source": [
    "group_num=3\n",
    "loadData(3)"
   ]
  },
  {
   "cell_type": "code",
   "execution_count": null,
   "id": "ad30d315",
   "metadata": {},
   "outputs": [],
   "source": [
    "#interact_manual( loadData, group_number=(2,6) ) "
   ]
  },
  {
   "cell_type": "markdown",
   "id": "859477f1",
   "metadata": {},
   "source": [
    "# <font color=\"blue\"> Graph Raster Plots"
   ]
  },
  {
   "cell_type": "markdown",
   "id": "ada508e3",
   "metadata": {},
   "source": [
    "<font color=\"gray\"> plotRaster</font> is a simple helper function. that is used to plot a spike raster for a selected dataset `sd`. Its input is the dataset, `sd`, the intended title of the plot `title` and the matplotlib subplot object `ax`. The `ax` objective is somewhat confusing, but makes sense when you look at it within the context of the `plotRasters` function (below)"
   ]
  },
  {
   "cell_type": "code",
   "execution_count": null,
   "id": "a6935a95",
   "metadata": {},
   "outputs": [],
   "source": [
    "def plotRaster( sd, title, ax):\n",
    "    idces, times = sd.idces_times()\n",
    "    ax.scatter(times/1000,idces,marker='|',s=1)   # Creates spike raster\n",
    "    ax.set_title( title )\n",
    "    ax.set_xlabel(\"Time(s)\")\n",
    "    ax.set_ylabel('Unit #')"
   ]
  },
  {
   "cell_type": "markdown",
   "id": "6b0668a8",
   "metadata": {},
   "source": [
    "<font color=\"blue\"> plotRasters </font> plots the spike rasters for `data_before`, `data_after`, `data_stim` and `data_stim_bad`"
   ]
  },
  {
   "cell_type": "code",
   "execution_count": null,
   "id": "abf2e240",
   "metadata": {},
   "outputs": [],
   "source": [
    "def plotRasters():\n",
    "    print(f\"Displaying Spike Rasters for Group {str(group_num)}\")\n",
    "    fig, axs = plt.subplots(nrows=2, ncols=2, figsize=(15, 10) )\n",
    "    plotRaster(data_before, \"Before Stimulation\", axs[0,0] )\n",
    "    plotRaster(data_after, \"After Stimulation\", axs[0,1] )\n",
    "    plotRaster(data_stim, \"Uncurated Stimulation\", axs[1,0] )\n",
    "    plotRaster(data_stim_bad, \"Curated Stimulation\", axs[1,1] )\n",
    "    plt.show()"
   ]
  },
  {
   "cell_type": "code",
   "execution_count": null,
   "id": "20a5de4f",
   "metadata": {},
   "outputs": [],
   "source": [
    "#interact_manual( plotRasters ) "
   ]
  },
  {
   "cell_type": "markdown",
   "id": "f7707dbd",
   "metadata": {},
   "source": [
    "# <font color=\"blue\"> Compare Stimulation Plots"
   ]
  },
  {
   "cell_type": "markdown",
   "id": "ed46e14b",
   "metadata": {},
   "source": [
    "<font color=\"gray\"> plotStimRaster</font> is a helper function. It plots a spike raster and the activity for the first few `seconds` of a selected dataset `sd`. Its input is the dataset, `sd`, the intended title of the plot `title`, the number of seconds to display, `seconds` and the matplotlib subplot object `ax`. The `ax` objective is somewhat confusing, but makes sense when you look at it within the context of the `plotStimRasters` function (below)"
   ]
  },
  {
   "cell_type": "code",
   "execution_count": null,
   "id": "f7c74660",
   "metadata": {},
   "outputs": [],
   "source": [
    "def plotStimRaster(sd, title, seconds, ax):\n",
    "    idces, times = sd.idces_times()              # Get coordinates for raster\n",
    "    pop_rate = sd.binned(bin_size=1)             # Get neural activity (population/firing rate) for everything, in ms\n",
    "    sigma = 5                                    # smooth this line to make it neater\n",
    "    pop_rate_smooth = gaussian_filter1d(pop_rate.astype(float),sigma=sigma) \n",
    "    t = np.linspace(0,sd.length,pop_rate.shape[0])/1000\n",
    "\n",
    "    ax.scatter(times/1000,idces,marker='|',s=1) # plot the spike raster\n",
    "    ax2 = ax.twinx()                           \n",
    "    ax2.plot(t,pop_rate_smooth,c='r')           # create a second plot on top of the raster of the activity\n",
    "\n",
    "    ax.set_xlim(0,seconds)                      # plot only first few seconds\n",
    "    ax.set_title( title )                       # add title and axises\n",
    "    ax.set_xlabel(\"Time(s)\")\n",
    "    ax.set_ylabel('Unit #')\n",
    "    ax2.set_ylabel('Firing Rate')"
   ]
  },
  {
   "cell_type": "markdown",
   "id": "f08a23c6",
   "metadata": {},
   "source": [
    "<font color=\"blue\"> plotStimRasters </font> plots the first few `seconds` of the spike raster and activity (firing rate) for `data_stim` and `data_stim_bad`"
   ]
  },
  {
   "cell_type": "code",
   "execution_count": null,
   "id": "1ce16f56",
   "metadata": {},
   "outputs": [],
   "source": [
    "def plotStimRasters(seconds):\n",
    "    print(f\"Displaying Spike Rasters for Group {str(group_num)}\")\n",
    "    fig, axs = plt.subplots(nrows=1, ncols=2, figsize=(15, 5) )\n",
    "    plotStimRaster(data_stim, \"Uncurated Stimulation\", seconds, axs[0] )\n",
    "    plotStimRaster(data_stim_bad, \"Curated Stimulation\", seconds, axs[1] )\n",
    "    plt.show()"
   ]
  },
  {
   "cell_type": "code",
   "execution_count": null,
   "id": "07a6fcb9",
   "metadata": {},
   "outputs": [],
   "source": [
    "#interact_manual( plotStimRasters, seconds=(1,30) ) "
   ]
  },
  {
   "cell_type": "markdown",
   "id": "f42d76d9",
   "metadata": {},
   "source": [
    "# <font color=\"blue\"> View Electrode Grid"
   ]
  },
  {
   "cell_type": "markdown",
   "id": "8e5017f0",
   "metadata": {},
   "source": [
    "<font color=\"blue\"> neuronLayout </font> plots the 2D locations of the electrods and neural units (neurons) on the MaxWell MEA. The <font color=\"blue\"> electrodes are blue </font> and the <font color=\"red\">neurons are red </font>. The plot is created for a specific group `group_num` (passed as global variable) and a specific dataset, from input `data_name`. "
   ]
  },
  {
   "cell_type": "code",
   "execution_count": 8,
   "id": "08146837",
   "metadata": {},
   "outputs": [],
   "source": [
    "def neuronLayout(data_name):\n",
    "    \n",
    "    # Stim electrodes for each group, and electrodes x/y locations\n",
    "    grp_stim_electrodes = {2:[15569], 3:[15569, 13810], 4:[15569, 13810], 5:[15569, 6705], 6:[15569, 13810, 19971]}\n",
    "    stim_xy = { 19971:[2992.5,1575.0], 13810:[2975.0,1085.0], 15569:[2957.5,1225.0], 6705:[1837.5,525.0] }\n",
    "\n",
    "    # put datasets used by specific team in a dictionary object\n",
    "    sds = {\"data_before\":data_before, \"data_stim\":data_stim, \"data_after\":data_after}    # 3 datasets data_name is allowed to be\n",
    "    sd = sds[data_name]                                                                  \n",
    "    \n",
    "    # Add background image\n",
    "    plt.figure(figsize=(15,10))\n",
    "    img = plt.imread(\"data/Organoids_Closeup.jpeg\")\n",
    "    plt.imshow(img,  extent=[0, 3850, 0, 2100] ) #, #interpolation='nearest', aspect='auto')\n",
    "    \n",
    "    # Plot electrodes\n",
    "    print(f\"Displaying Neuron/Electrode Layout for Dataset, {data_name}, from Group {str(group_num)}\")\n",
    "    electrode_mapping = pd.DataFrame.from_dict( sd.metadata[0], orient=\"index\", columns=['x','y']  ) \n",
    "    x = electrode_mapping.x.values                                                       # create electrode mapping from saved metadata\n",
    "    y = electrode_mapping.y.values\n",
    "    plt.scatter(x,y,s=4, c='darkorange')                                                                 # plot all electrodes\n",
    "    \n",
    "    # Plot neurons\n",
    "    neuron_x = []\n",
    "    neuron_y = []\n",
    "    for neuron in sd.neuron_data[0].values():                                            # Get X/Y locations of neurons\n",
    "        neuron_x.append(neuron['position'][0])\n",
    "        neuron_y.append(neuron['position'][1])\n",
    "    plt.scatter(neuron_x,neuron_y, c='magenta', s=100 )                                                # plot all neurons\n",
    "    \n",
    "    # plot stim electrodes\n",
    "    stim_x = []\n",
    "    stim_y = []\n",
    "    for electrode in grp_stim_electrodes[ group_num ]:\n",
    "        stim_x.append( stim_xy[electrode][0] )\n",
    "        stim_y.append( stim_xy[electrode][1] ) \n",
    "    plt.scatter(stim_x,stim_y, c='turquoise', alpha=.5, s=400 ) \n",
    "    \n",
    "    #add legend, axises limits, labels,  and title\n",
    "    legend_elements = [Patch(\"darkorange\",\"darkorange\"), Patch(\"magenta\",\"magenta\"), Patch(\"turquoise\",\"turquoise\") ]   # Create colors in legend\n",
    "    plt.legend(legend_elements, [\"Electrode\",\"Neuron\", \"Stimulation\"])       # Add legend\n",
    "    plt.xlim(0, 3850)\n",
    "    plt.ylim(0, 2100)\n",
    "    plt.xlabel('um')                                                                     # add axises and title\n",
    "    plt.ylabel('um')\n",
    "    plt.title(f\"Neuron & Electrode Layout for {data_name}\")\n",
    "    plt.show()    "
   ]
  },
  {
   "cell_type": "code",
   "execution_count": null,
   "id": "7d682d52",
   "metadata": {},
   "outputs": [],
   "source": [
    "#interact_manual( neuronLayout, data_name=[\"data_before\",\"data_stim\",\"data_after\"] ) "
   ]
  }
 ],
 "metadata": {
  "hide_input": false,
  "kernelspec": {
   "display_name": "Python 3 (ipykernel)",
   "language": "python",
   "name": "python3"
  },
  "language_info": {
   "codemirror_mode": {
    "name": "ipython",
    "version": 3
   },
   "file_extension": ".py",
   "mimetype": "text/x-python",
   "name": "python",
   "nbconvert_exporter": "python",
   "pygments_lexer": "ipython3",
   "version": "3.10.10"
  },
  "toc": {
   "base_numbering": 1,
   "nav_menu": {},
   "number_sections": true,
   "sideBar": true,
   "skip_h1_title": false,
   "title_cell": "Table of Contents",
   "title_sidebar": "Contents",
   "toc_cell": false,
   "toc_position": {},
   "toc_section_display": true,
   "toc_window_display": false
  },
  "varInspector": {
   "cols": {
    "lenName": 16,
    "lenType": 16,
    "lenVar": 40
   },
   "kernels_config": {
    "python": {
     "delete_cmd_postfix": "",
     "delete_cmd_prefix": "del ",
     "library": "var_list.py",
     "varRefreshCmd": "print(var_dic_list())"
    },
    "r": {
     "delete_cmd_postfix": ") ",
     "delete_cmd_prefix": "rm(",
     "library": "var_list.r",
     "varRefreshCmd": "cat(var_dic_list()) "
    }
   },
   "types_to_exclude": [
    "module",
    "function",
    "builtin_function_or_method",
    "instance",
    "_Feature"
   ],
   "window_display": false
  }
 },
 "nbformat": 4,
 "nbformat_minor": 5
}
